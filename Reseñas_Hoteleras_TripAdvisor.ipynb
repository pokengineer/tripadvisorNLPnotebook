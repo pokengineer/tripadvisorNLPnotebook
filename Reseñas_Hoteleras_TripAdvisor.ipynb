{
  "nbformat": 4,
  "nbformat_minor": 0,
  "metadata": {
    "colab": {
      "name": "Reseñas Hoteleras TripAdvisor.ipynb",
      "provenance": [],
      "collapsed_sections": [],
      "toc_visible": true
    },
    "kernelspec": {
      "name": "python3",
      "display_name": "Python 3"
    },
    "accelerator": "GPU"
  },
  "cells": [
    {
      "cell_type": "markdown",
      "metadata": {
        "id": "QMVnEwugKJ6M"
      },
      "source": [
        "## Análisis de Dataset "
      ]
    },
    {
      "cell_type": "code",
      "metadata": {
        "colab": {
          "base_uri": "https://localhost:8080/"
        },
        "id": "Twh3Sf-xI_WP",
        "outputId": "3d3abd05-6cbe-4e29-c355-241e77cd0c82"
      },
      "source": [
        "# Data Manipulation & Visualization\n",
        "import os\n",
        "import pandas as pd\n",
        "import numpy as np\n",
        "import seaborn as sns\n",
        "#sns.set_style('darkgrid')\n",
        "import matplotlib.pyplot as plt\n",
        "import pickle as pk\n",
        "from scipy import sparse as sp\n",
        "import copy\n",
        "\n",
        "!pip install pyLDAvis\n",
        "# Text Manipulation\n",
        "from nltk.stem.wordnet import WordNetLemmatizer\n",
        "from nltk.tokenize import RegexpTokenizer\n",
        "from gensim.models import Phrases\n",
        "from gensim.corpora import Dictionary\n",
        "from gensim.models import LdaModel\n",
        "import gensim\n",
        "import pyLDAvis.gensim\n",
        "pyLDAvis.enable_notebook()\n",
        "\n",
        "import warnings\n",
        "warnings.filterwarnings(\"ignore\", category=DeprecationWarning) \n",
        "\n",
        "# Machine Learning\n",
        "from sklearn.feature_extraction.text import TfidfVectorizer\n",
        "from sklearn.model_selection import train_test_split\n",
        "from sklearn.feature_extraction.text import TfidfTransformer\n",
        "from xgboost import XGBClassifier\n",
        "from xgboost import XGBRFClassifier\n",
        "from sklearn.pipeline import Pipeline\n",
        "from sklearn.metrics import confusion_matrix,mean_squared_error,mean_absolute_error,log_loss,accuracy_score,classification_report\n",
        "from sklearn.metrics import precision_score\n",
        "#import warnings\n",
        "warnings.filterwarnings(\"ignore\", category=FutureWarning)\n",
        "#from sklearn import feature_extraction, linear_model, model_selection, preprocessing"
      ],
      "execution_count": 1,
      "outputs": [
        {
          "output_type": "stream",
          "text": [
            "Collecting pyLDAvis\n",
            "\u001b[?25l  Downloading https://files.pythonhosted.org/packages/a5/3a/af82e070a8a96e13217c8f362f9a73e82d61ac8fff3a2561946a97f96266/pyLDAvis-2.1.2.tar.gz (1.6MB)\n",
            "\r\u001b[K     |▏                               | 10kB 16.4MB/s eta 0:00:01\r\u001b[K     |▍                               | 20kB 24.4MB/s eta 0:00:01\r\u001b[K     |▋                               | 30kB 21.4MB/s eta 0:00:01\r\u001b[K     |▉                               | 40kB 17.6MB/s eta 0:00:01\r\u001b[K     |█                               | 51kB 12.9MB/s eta 0:00:01\r\u001b[K     |█▏                              | 61kB 14.0MB/s eta 0:00:01\r\u001b[K     |█▍                              | 71kB 13.6MB/s eta 0:00:01\r\u001b[K     |█▋                              | 81kB 13.5MB/s eta 0:00:01\r\u001b[K     |█▉                              | 92kB 13.4MB/s eta 0:00:01\r\u001b[K     |██                              | 102kB 13.7MB/s eta 0:00:01\r\u001b[K     |██▎                             | 112kB 13.7MB/s eta 0:00:01\r\u001b[K     |██▍                             | 122kB 13.7MB/s eta 0:00:01\r\u001b[K     |██▋                             | 133kB 13.7MB/s eta 0:00:01\r\u001b[K     |██▉                             | 143kB 13.7MB/s eta 0:00:01\r\u001b[K     |███                             | 153kB 13.7MB/s eta 0:00:01\r\u001b[K     |███▎                            | 163kB 13.7MB/s eta 0:00:01\r\u001b[K     |███▌                            | 174kB 13.7MB/s eta 0:00:01\r\u001b[K     |███▋                            | 184kB 13.7MB/s eta 0:00:01\r\u001b[K     |███▉                            | 194kB 13.7MB/s eta 0:00:01\r\u001b[K     |████                            | 204kB 13.7MB/s eta 0:00:01\r\u001b[K     |████▎                           | 215kB 13.7MB/s eta 0:00:01\r\u001b[K     |████▌                           | 225kB 13.7MB/s eta 0:00:01\r\u001b[K     |████▊                           | 235kB 13.7MB/s eta 0:00:01\r\u001b[K     |████▉                           | 245kB 13.7MB/s eta 0:00:01\r\u001b[K     |█████                           | 256kB 13.7MB/s eta 0:00:01\r\u001b[K     |█████▎                          | 266kB 13.7MB/s eta 0:00:01\r\u001b[K     |█████▌                          | 276kB 13.7MB/s eta 0:00:01\r\u001b[K     |█████▊                          | 286kB 13.7MB/s eta 0:00:01\r\u001b[K     |█████▉                          | 296kB 13.7MB/s eta 0:00:01\r\u001b[K     |██████                          | 307kB 13.7MB/s eta 0:00:01\r\u001b[K     |██████▎                         | 317kB 13.7MB/s eta 0:00:01\r\u001b[K     |██████▌                         | 327kB 13.7MB/s eta 0:00:01\r\u001b[K     |██████▊                         | 337kB 13.7MB/s eta 0:00:01\r\u001b[K     |███████                         | 348kB 13.7MB/s eta 0:00:01\r\u001b[K     |███████                         | 358kB 13.7MB/s eta 0:00:01\r\u001b[K     |███████▎                        | 368kB 13.7MB/s eta 0:00:01\r\u001b[K     |███████▌                        | 378kB 13.7MB/s eta 0:00:01\r\u001b[K     |███████▊                        | 389kB 13.7MB/s eta 0:00:01\r\u001b[K     |████████                        | 399kB 13.7MB/s eta 0:00:01\r\u001b[K     |████████▏                       | 409kB 13.7MB/s eta 0:00:01\r\u001b[K     |████████▎                       | 419kB 13.7MB/s eta 0:00:01\r\u001b[K     |████████▌                       | 430kB 13.7MB/s eta 0:00:01\r\u001b[K     |████████▊                       | 440kB 13.7MB/s eta 0:00:01\r\u001b[K     |█████████                       | 450kB 13.7MB/s eta 0:00:01\r\u001b[K     |█████████▏                      | 460kB 13.7MB/s eta 0:00:01\r\u001b[K     |█████████▍                      | 471kB 13.7MB/s eta 0:00:01\r\u001b[K     |█████████▌                      | 481kB 13.7MB/s eta 0:00:01\r\u001b[K     |█████████▊                      | 491kB 13.7MB/s eta 0:00:01\r\u001b[K     |██████████                      | 501kB 13.7MB/s eta 0:00:01\r\u001b[K     |██████████▏                     | 512kB 13.7MB/s eta 0:00:01\r\u001b[K     |██████████▍                     | 522kB 13.7MB/s eta 0:00:01\r\u001b[K     |██████████▋                     | 532kB 13.7MB/s eta 0:00:01\r\u001b[K     |██████████▊                     | 542kB 13.7MB/s eta 0:00:01\r\u001b[K     |███████████                     | 552kB 13.7MB/s eta 0:00:01\r\u001b[K     |███████████▏                    | 563kB 13.7MB/s eta 0:00:01\r\u001b[K     |███████████▍                    | 573kB 13.7MB/s eta 0:00:01\r\u001b[K     |███████████▋                    | 583kB 13.7MB/s eta 0:00:01\r\u001b[K     |███████████▊                    | 593kB 13.7MB/s eta 0:00:01\r\u001b[K     |████████████                    | 604kB 13.7MB/s eta 0:00:01\r\u001b[K     |████████████▏                   | 614kB 13.7MB/s eta 0:00:01\r\u001b[K     |████████████▍                   | 624kB 13.7MB/s eta 0:00:01\r\u001b[K     |████████████▋                   | 634kB 13.7MB/s eta 0:00:01\r\u001b[K     |████████████▉                   | 645kB 13.7MB/s eta 0:00:01\r\u001b[K     |█████████████                   | 655kB 13.7MB/s eta 0:00:01\r\u001b[K     |█████████████▏                  | 665kB 13.7MB/s eta 0:00:01\r\u001b[K     |█████████████▍                  | 675kB 13.7MB/s eta 0:00:01\r\u001b[K     |█████████████▋                  | 686kB 13.7MB/s eta 0:00:01\r\u001b[K     |█████████████▉                  | 696kB 13.7MB/s eta 0:00:01\r\u001b[K     |██████████████                  | 706kB 13.7MB/s eta 0:00:01\r\u001b[K     |██████████████▏                 | 716kB 13.7MB/s eta 0:00:01\r\u001b[K     |██████████████▍                 | 727kB 13.7MB/s eta 0:00:01\r\u001b[K     |██████████████▋                 | 737kB 13.7MB/s eta 0:00:01\r\u001b[K     |██████████████▉                 | 747kB 13.7MB/s eta 0:00:01\r\u001b[K     |███████████████                 | 757kB 13.7MB/s eta 0:00:01\r\u001b[K     |███████████████▎                | 768kB 13.7MB/s eta 0:00:01\r\u001b[K     |███████████████▍                | 778kB 13.7MB/s eta 0:00:01\r\u001b[K     |███████████████▋                | 788kB 13.7MB/s eta 0:00:01\r\u001b[K     |███████████████▉                | 798kB 13.7MB/s eta 0:00:01\r\u001b[K     |████████████████                | 808kB 13.7MB/s eta 0:00:01\r\u001b[K     |████████████████▎               | 819kB 13.7MB/s eta 0:00:01\r\u001b[K     |████████████████▌               | 829kB 13.7MB/s eta 0:00:01\r\u001b[K     |████████████████▋               | 839kB 13.7MB/s eta 0:00:01\r\u001b[K     |████████████████▉               | 849kB 13.7MB/s eta 0:00:01\r\u001b[K     |█████████████████               | 860kB 13.7MB/s eta 0:00:01\r\u001b[K     |█████████████████▎              | 870kB 13.7MB/s eta 0:00:01\r\u001b[K     |█████████████████▌              | 880kB 13.7MB/s eta 0:00:01\r\u001b[K     |█████████████████▋              | 890kB 13.7MB/s eta 0:00:01\r\u001b[K     |█████████████████▉              | 901kB 13.7MB/s eta 0:00:01\r\u001b[K     |██████████████████              | 911kB 13.7MB/s eta 0:00:01\r\u001b[K     |██████████████████▎             | 921kB 13.7MB/s eta 0:00:01\r\u001b[K     |██████████████████▌             | 931kB 13.7MB/s eta 0:00:01\r\u001b[K     |██████████████████▊             | 942kB 13.7MB/s eta 0:00:01\r\u001b[K     |██████████████████▉             | 952kB 13.7MB/s eta 0:00:01\r\u001b[K     |███████████████████             | 962kB 13.7MB/s eta 0:00:01\r\u001b[K     |███████████████████▎            | 972kB 13.7MB/s eta 0:00:01\r\u001b[K     |███████████████████▌            | 983kB 13.7MB/s eta 0:00:01\r\u001b[K     |███████████████████▊            | 993kB 13.7MB/s eta 0:00:01\r\u001b[K     |████████████████████            | 1.0MB 13.7MB/s eta 0:00:01\r\u001b[K     |████████████████████            | 1.0MB 13.7MB/s eta 0:00:01\r\u001b[K     |████████████████████▎           | 1.0MB 13.7MB/s eta 0:00:01\r\u001b[K     |████████████████████▌           | 1.0MB 13.7MB/s eta 0:00:01\r\u001b[K     |████████████████████▊           | 1.0MB 13.7MB/s eta 0:00:01\r\u001b[K     |█████████████████████           | 1.1MB 13.7MB/s eta 0:00:01\r\u001b[K     |█████████████████████▏          | 1.1MB 13.7MB/s eta 0:00:01\r\u001b[K     |█████████████████████▎          | 1.1MB 13.7MB/s eta 0:00:01\r\u001b[K     |█████████████████████▌          | 1.1MB 13.7MB/s eta 0:00:01\r\u001b[K     |█████████████████████▊          | 1.1MB 13.7MB/s eta 0:00:01\r\u001b[K     |██████████████████████          | 1.1MB 13.7MB/s eta 0:00:01\r\u001b[K     |██████████████████████▏         | 1.1MB 13.7MB/s eta 0:00:01\r\u001b[K     |██████████████████████▍         | 1.1MB 13.7MB/s eta 0:00:01\r\u001b[K     |██████████████████████▌         | 1.1MB 13.7MB/s eta 0:00:01\r\u001b[K     |██████████████████████▊         | 1.1MB 13.7MB/s eta 0:00:01\r\u001b[K     |███████████████████████         | 1.2MB 13.7MB/s eta 0:00:01\r\u001b[K     |███████████████████████▏        | 1.2MB 13.7MB/s eta 0:00:01\r\u001b[K     |███████████████████████▍        | 1.2MB 13.7MB/s eta 0:00:01\r\u001b[K     |███████████████████████▌        | 1.2MB 13.7MB/s eta 0:00:01\r\u001b[K     |███████████████████████▊        | 1.2MB 13.7MB/s eta 0:00:01\r\u001b[K     |████████████████████████        | 1.2MB 13.7MB/s eta 0:00:01\r\u001b[K     |████████████████████████▏       | 1.2MB 13.7MB/s eta 0:00:01\r\u001b[K     |████████████████████████▍       | 1.2MB 13.7MB/s eta 0:00:01\r\u001b[K     |████████████████████████▋       | 1.2MB 13.7MB/s eta 0:00:01\r\u001b[K     |████████████████████████▊       | 1.2MB 13.7MB/s eta 0:00:01\r\u001b[K     |█████████████████████████       | 1.3MB 13.7MB/s eta 0:00:01\r\u001b[K     |█████████████████████████▏      | 1.3MB 13.7MB/s eta 0:00:01\r\u001b[K     |█████████████████████████▍      | 1.3MB 13.7MB/s eta 0:00:01\r\u001b[K     |█████████████████████████▋      | 1.3MB 13.7MB/s eta 0:00:01\r\u001b[K     |█████████████████████████▉      | 1.3MB 13.7MB/s eta 0:00:01\r\u001b[K     |██████████████████████████      | 1.3MB 13.7MB/s eta 0:00:01\r\u001b[K     |██████████████████████████▏     | 1.3MB 13.7MB/s eta 0:00:01\r\u001b[K     |██████████████████████████▍     | 1.3MB 13.7MB/s eta 0:00:01\r\u001b[K     |██████████████████████████▋     | 1.3MB 13.7MB/s eta 0:00:01\r\u001b[K     |██████████████████████████▉     | 1.4MB 13.7MB/s eta 0:00:01\r\u001b[K     |███████████████████████████     | 1.4MB 13.7MB/s eta 0:00:01\r\u001b[K     |███████████████████████████▏    | 1.4MB 13.7MB/s eta 0:00:01\r\u001b[K     |███████████████████████████▍    | 1.4MB 13.7MB/s eta 0:00:01\r\u001b[K     |███████████████████████████▋    | 1.4MB 13.7MB/s eta 0:00:01\r\u001b[K     |███████████████████████████▉    | 1.4MB 13.7MB/s eta 0:00:01\r\u001b[K     |████████████████████████████    | 1.4MB 13.7MB/s eta 0:00:01\r\u001b[K     |████████████████████████████▏   | 1.4MB 13.7MB/s eta 0:00:01\r\u001b[K     |████████████████████████████▍   | 1.4MB 13.7MB/s eta 0:00:01\r\u001b[K     |████████████████████████████▋   | 1.4MB 13.7MB/s eta 0:00:01\r\u001b[K     |████████████████████████████▉   | 1.5MB 13.7MB/s eta 0:00:01\r\u001b[K     |█████████████████████████████   | 1.5MB 13.7MB/s eta 0:00:01\r\u001b[K     |█████████████████████████████▎  | 1.5MB 13.7MB/s eta 0:00:01\r\u001b[K     |█████████████████████████████▍  | 1.5MB 13.7MB/s eta 0:00:01\r\u001b[K     |█████████████████████████████▋  | 1.5MB 13.7MB/s eta 0:00:01\r\u001b[K     |█████████████████████████████▉  | 1.5MB 13.7MB/s eta 0:00:01\r\u001b[K     |██████████████████████████████  | 1.5MB 13.7MB/s eta 0:00:01\r\u001b[K     |██████████████████████████████▎ | 1.5MB 13.7MB/s eta 0:00:01\r\u001b[K     |██████████████████████████████▌ | 1.5MB 13.7MB/s eta 0:00:01\r\u001b[K     |██████████████████████████████▋ | 1.5MB 13.7MB/s eta 0:00:01\r\u001b[K     |██████████████████████████████▉ | 1.6MB 13.7MB/s eta 0:00:01\r\u001b[K     |███████████████████████████████ | 1.6MB 13.7MB/s eta 0:00:01\r\u001b[K     |███████████████████████████████▎| 1.6MB 13.7MB/s eta 0:00:01\r\u001b[K     |███████████████████████████████▌| 1.6MB 13.7MB/s eta 0:00:01\r\u001b[K     |███████████████████████████████▊| 1.6MB 13.7MB/s eta 0:00:01\r\u001b[K     |███████████████████████████████▉| 1.6MB 13.7MB/s eta 0:00:01\r\u001b[K     |████████████████████████████████| 1.6MB 13.7MB/s \n",
            "\u001b[?25hRequirement already satisfied: wheel>=0.23.0 in /usr/local/lib/python3.6/dist-packages (from pyLDAvis) (0.35.1)\n",
            "Requirement already satisfied: numpy>=1.9.2 in /usr/local/lib/python3.6/dist-packages (from pyLDAvis) (1.18.5)\n",
            "Requirement already satisfied: scipy>=0.18.0 in /usr/local/lib/python3.6/dist-packages (from pyLDAvis) (1.4.1)\n",
            "Requirement already satisfied: pandas>=0.17.0 in /usr/local/lib/python3.6/dist-packages (from pyLDAvis) (1.1.4)\n",
            "Requirement already satisfied: joblib>=0.8.4 in /usr/local/lib/python3.6/dist-packages (from pyLDAvis) (0.17.0)\n",
            "Requirement already satisfied: jinja2>=2.7.2 in /usr/local/lib/python3.6/dist-packages (from pyLDAvis) (2.11.2)\n",
            "Requirement already satisfied: numexpr in /usr/local/lib/python3.6/dist-packages (from pyLDAvis) (2.7.1)\n",
            "Requirement already satisfied: pytest in /usr/local/lib/python3.6/dist-packages (from pyLDAvis) (3.6.4)\n",
            "Requirement already satisfied: future in /usr/local/lib/python3.6/dist-packages (from pyLDAvis) (0.16.0)\n",
            "Collecting funcy\n",
            "  Downloading https://files.pythonhosted.org/packages/66/89/479de0afbbfb98d1c4b887936808764627300208bb771fcd823403645a36/funcy-1.15-py2.py3-none-any.whl\n",
            "Requirement already satisfied: python-dateutil>=2.7.3 in /usr/local/lib/python3.6/dist-packages (from pandas>=0.17.0->pyLDAvis) (2.8.1)\n",
            "Requirement already satisfied: pytz>=2017.2 in /usr/local/lib/python3.6/dist-packages (from pandas>=0.17.0->pyLDAvis) (2018.9)\n",
            "Requirement already satisfied: MarkupSafe>=0.23 in /usr/local/lib/python3.6/dist-packages (from jinja2>=2.7.2->pyLDAvis) (1.1.1)\n",
            "Requirement already satisfied: atomicwrites>=1.0 in /usr/local/lib/python3.6/dist-packages (from pytest->pyLDAvis) (1.4.0)\n",
            "Requirement already satisfied: setuptools in /usr/local/lib/python3.6/dist-packages (from pytest->pyLDAvis) (50.3.2)\n",
            "Requirement already satisfied: attrs>=17.4.0 in /usr/local/lib/python3.6/dist-packages (from pytest->pyLDAvis) (20.3.0)\n",
            "Requirement already satisfied: py>=1.5.0 in /usr/local/lib/python3.6/dist-packages (from pytest->pyLDAvis) (1.9.0)\n",
            "Requirement already satisfied: six>=1.10.0 in /usr/local/lib/python3.6/dist-packages (from pytest->pyLDAvis) (1.15.0)\n",
            "Requirement already satisfied: more-itertools>=4.0.0 in /usr/local/lib/python3.6/dist-packages (from pytest->pyLDAvis) (8.6.0)\n",
            "Requirement already satisfied: pluggy<0.8,>=0.5 in /usr/local/lib/python3.6/dist-packages (from pytest->pyLDAvis) (0.7.1)\n",
            "Building wheels for collected packages: pyLDAvis\n",
            "  Building wheel for pyLDAvis (setup.py) ... \u001b[?25l\u001b[?25hdone\n",
            "  Created wheel for pyLDAvis: filename=pyLDAvis-2.1.2-py2.py3-none-any.whl size=97712 sha256=5871dd8f5430fe7635b1eedb51fa89b420240452ee40850f7ad893bd85a6bd4b\n",
            "  Stored in directory: /root/.cache/pip/wheels/98/71/24/513a99e58bb6b8465bae4d2d5e9dba8f0bef8179e3051ac414\n",
            "Successfully built pyLDAvis\n",
            "Installing collected packages: funcy, pyLDAvis\n",
            "Successfully installed funcy-1.15 pyLDAvis-2.1.2\n"
          ],
          "name": "stdout"
        }
      ]
    },
    {
      "cell_type": "code",
      "metadata": {
        "colab": {
          "base_uri": "https://localhost:8080/",
          "height": 197
        },
        "id": "TGSyUcFHKhw-",
        "outputId": "4bd5f831-1f78-4c12-d5bf-0f66fb78180b"
      },
      "source": [
        "#importamos el dataframe \n",
        "df = pd.read_csv('https://github.com/pokengineer/rawdata/blob/main/tripadvisor_hotel_reviews.csv?raw=true')\n",
        "df.head()"
      ],
      "execution_count": 2,
      "outputs": [
        {
          "output_type": "execute_result",
          "data": {
            "text/html": [
              "<div>\n",
              "<style scoped>\n",
              "    .dataframe tbody tr th:only-of-type {\n",
              "        vertical-align: middle;\n",
              "    }\n",
              "\n",
              "    .dataframe tbody tr th {\n",
              "        vertical-align: top;\n",
              "    }\n",
              "\n",
              "    .dataframe thead th {\n",
              "        text-align: right;\n",
              "    }\n",
              "</style>\n",
              "<table border=\"1\" class=\"dataframe\">\n",
              "  <thead>\n",
              "    <tr style=\"text-align: right;\">\n",
              "      <th></th>\n",
              "      <th>Review</th>\n",
              "      <th>Rating</th>\n",
              "    </tr>\n",
              "  </thead>\n",
              "  <tbody>\n",
              "    <tr>\n",
              "      <th>0</th>\n",
              "      <td>nice hotel expensive parking got good deal sta...</td>\n",
              "      <td>4</td>\n",
              "    </tr>\n",
              "    <tr>\n",
              "      <th>1</th>\n",
              "      <td>ok nothing special charge diamond member hilto...</td>\n",
              "      <td>2</td>\n",
              "    </tr>\n",
              "    <tr>\n",
              "      <th>2</th>\n",
              "      <td>nice rooms not 4* experience hotel monaco seat...</td>\n",
              "      <td>3</td>\n",
              "    </tr>\n",
              "    <tr>\n",
              "      <th>3</th>\n",
              "      <td>unique, great stay, wonderful time hotel monac...</td>\n",
              "      <td>5</td>\n",
              "    </tr>\n",
              "    <tr>\n",
              "      <th>4</th>\n",
              "      <td>great stay great stay, went seahawk game aweso...</td>\n",
              "      <td>5</td>\n",
              "    </tr>\n",
              "  </tbody>\n",
              "</table>\n",
              "</div>"
            ],
            "text/plain": [
              "                                              Review  Rating\n",
              "0  nice hotel expensive parking got good deal sta...       4\n",
              "1  ok nothing special charge diamond member hilto...       2\n",
              "2  nice rooms not 4* experience hotel monaco seat...       3\n",
              "3  unique, great stay, wonderful time hotel monac...       5\n",
              "4  great stay great stay, went seahawk game aweso...       5"
            ]
          },
          "metadata": {
            "tags": []
          },
          "execution_count": 2
        }
      ]
    },
    {
      "cell_type": "code",
      "metadata": {
        "colab": {
          "base_uri": "https://localhost:8080/",
          "height": 462
        },
        "id": "DaN4q2SdMRu-",
        "outputId": "c8024c64-33f9-4abe-c65f-f6983349b27d"
      },
      "source": [
        "#visualizamos el dataframe\n",
        "plt.figure(figsize=(8,7))\n",
        "sns.countplot(data=df,x=\"Rating\",edgecolor='black',linewidth=3)\n",
        "plt.title('Distribucion de Rating',size=17)\n",
        "plt.show()"
      ],
      "execution_count": 3,
      "outputs": [
        {
          "output_type": "display_data",
          "data": {
            "image/png": "[encoded data removed]",
            "text/plain": [
              "<Figure size 576x504 with 1 Axes>"
            ]
          },
          "metadata": {
            "tags": [],
            "needs_background": "light"
          }
        }
      ]
    },
    {
      "cell_type": "markdown",
      "metadata": {
        "id": "b0PwzHQIKdE9"
      },
      "source": [
        "podemos ver que el dataset esta desbalanceado, tenemos muchas más reseñas de 4-5 estrellas que reseñas negativas. Esto afectará nuestra capacidad de predecir reseñas negativas."
      ]
    },
    {
      "cell_type": "code",
      "metadata": {
        "colab": {
          "base_uri": "https://localhost:8080/",
          "height": 293
        },
        "id": "v7DDtqI_LV_5",
        "outputId": "d733600e-98f1-4d21-95a3-eed72914a339"
      },
      "source": [
        "#contemos la cantidad de palabras\n",
        "df2 = copy.copy(df)\n",
        "df2['cant'] = df['Review'].str.split().str.len()\n",
        "df2.groupby(\"Rating\")['cant'].mean().plot(kind='bar')"
      ],
      "execution_count": 4,
      "outputs": [
        {
          "output_type": "execute_result",
          "data": {
            "text/plain": [
              "<matplotlib.axes._subplots.AxesSubplot at 0x7f04864ad3c8>"
            ]
          },
          "metadata": {
            "tags": []
          },
          "execution_count": 4
        },
        {
          "output_type": "display_data",
          "data": {
            "image/png": "[encoded data removed]",
            "text/plain": [
              "<Figure size 432x288 with 1 Axes>"
            ]
          },
          "metadata": {
            "tags": [],
            "needs_background": "light"
          }
        }
      ]
    },
    {
      "cell_type": "code",
      "metadata": {
        "colab": {
          "base_uri": "https://localhost:8080/",
          "height": 107
        },
        "id": "xaUq-GsoRPA5",
        "outputId": "323ba798-4a0a-41cf-b77f-66dd7627c81d"
      },
      "source": [
        "df2.corr()"
      ],
      "execution_count": 5,
      "outputs": [
        {
          "output_type": "execute_result",
          "data": {
            "text/html": [
              "<div>\n",
              "<style scoped>\n",
              "    .dataframe tbody tr th:only-of-type {\n",
              "        vertical-align: middle;\n",
              "    }\n",
              "\n",
              "    .dataframe tbody tr th {\n",
              "        vertical-align: top;\n",
              "    }\n",
              "\n",
              "    .dataframe thead th {\n",
              "        text-align: right;\n",
              "    }\n",
              "</style>\n",
              "<table border=\"1\" class=\"dataframe\">\n",
              "  <thead>\n",
              "    <tr style=\"text-align: right;\">\n",
              "      <th></th>\n",
              "      <th>Rating</th>\n",
              "      <th>cant</th>\n",
              "    </tr>\n",
              "  </thead>\n",
              "  <tbody>\n",
              "    <tr>\n",
              "      <th>Rating</th>\n",
              "      <td>1.000000</td>\n",
              "      <td>-0.090674</td>\n",
              "    </tr>\n",
              "    <tr>\n",
              "      <th>cant</th>\n",
              "      <td>-0.090674</td>\n",
              "      <td>1.000000</td>\n",
              "    </tr>\n",
              "  </tbody>\n",
              "</table>\n",
              "</div>"
            ],
            "text/plain": [
              "          Rating      cant\n",
              "Rating  1.000000 -0.090674\n",
              "cant   -0.090674  1.000000"
            ]
          },
          "metadata": {
            "tags": []
          },
          "execution_count": 5
        }
      ]
    },
    {
      "cell_type": "markdown",
      "metadata": {
        "id": "d-MqA1A5PXTy"
      },
      "source": [
        "Podemos ver que la cantidad de palabras promedio no es un indicador fuerte para nada, por lo que necesitaremos estrategias de **Minería de texto** que generen mejores indicadores que conteos de palabras y/o variables dummies"
      ]
    },
    {
      "cell_type": "markdown",
      "metadata": {
        "id": "78gOVdYkZ6bL"
      },
      "source": [
        "## Modelo LDA\r\n",
        "Para generar el modelo preditivo utilizaremos varias bibliotecas diferentes.\r\n",
        "  * genism para el pre-procesamiento del texto y la clusterizacion de palabras por temas\r\n",
        "  * xgboost biblioteca utilizada para aplicar gradient boost\r\n",
        "  * sklearn la biblioteca estudiada en la materia para generar modelos redictivos (en este estudio utilizaremos pipeline)"
      ]
    },
    {
      "cell_type": "markdown",
      "metadata": {
        "id": "SFwDED43LB3Q"
      },
      "source": [
        "### Pre-Procesamiento de texto\n",
        "Importamos la biblioteca nltk (Natural Language Toolkit), que contiene un set de herramientas que nos permitiran analizar texto de forma más interesante"
      ]
    },
    {
      "cell_type": "code",
      "metadata": {
        "id": "ysziJ8pVMT5l"
      },
      "source": [
        "docs= np.array(df['Review'])"
      ],
      "execution_count": null,
      "outputs": []
    },
    {
      "cell_type": "code",
      "metadata": {
        "id": "cWOz2ZC-NJXX",
        "colab": {
          "base_uri": "https://localhost:8080/"
        },
        "outputId": "cae57e8f-3091-4908-a4e1-0d14e7963800"
      },
      "source": [
        "import nltk\n",
        "nltk.download('wordnet')"
      ],
      "execution_count": null,
      "outputs": [
        {
          "output_type": "stream",
          "text": [
            "[nltk_data] Downloading package wordnet to\n",
            "[nltk_data]     C:\\Users\\facuv\\AppData\\Roaming\\nltk_data...\n",
            "[nltk_data]   Package wordnet is already up-to-date!\n"
          ],
          "name": "stderr"
        },
        {
          "output_type": "execute_result",
          "data": {
            "text/plain": [
              "True"
            ]
          },
          "metadata": {
            "tags": []
          },
          "execution_count": 7
        }
      ]
    },
    {
      "cell_type": "code",
      "metadata": {
        "id": "F3fAOLljMXoH"
      },
      "source": [
        "def docs_preprocessor(docs):\n",
        "    tokenizer = RegexpTokenizer(r'\\w+')\n",
        "    \n",
        "    for idx in range(len(docs)):\n",
        "        docs[idx] = docs[idx].lower() \n",
        "        docs[idx] = tokenizer.tokenize(docs[idx])  # lo separamos en palabras (tokens).\n",
        "\n",
        "    # Eliminamos los numeros de la lista de tokens.\n",
        "    docs = [[token for token in doc if not token.isdigit()] for doc in docs]\n",
        "    \n",
        "    # Eliminamos los tokens con solo un caracter\n",
        "    docs = [[token for token in doc if len(token) > 3] for doc in docs]\n",
        "    \n",
        "    # Hallamos el Lema correspondiente a cada token (proceso de Lematización)\n",
        "    lemmatizer = WordNetLemmatizer()\n",
        "    docs = [[lemmatizer.lemmatize(token) for token in doc] for doc in docs]\n",
        "  \n",
        "    return docs\n",
        "\n",
        "docs = docs_preprocessor(docs)\n"
      ],
      "execution_count": null,
      "outputs": []
    },
    {
      "cell_type": "code",
      "metadata": {
        "id": "lJ8V1-mCNWmB"
      },
      "source": [
        "# Generamos los bigramas y trigramas\n",
        "# Los bigramas son utilizados comúnmente como base para el simple análisis estadístico de texto.\n",
        "bigram = Phrases(docs, min_count=10)\n",
        "trigram = Phrases(bigram[docs])\n",
        "\n",
        "for idx in range(len(docs)):\n",
        "    for token in bigram[docs[idx]]:\n",
        "        if '_' in token:\n",
        "            # es bigrama\n",
        "            docs[idx].append(token)\n",
        "    for token in trigram[docs[idx]]:\n",
        "        if '_' in token:\n",
        "            # es bigrama\n",
        "            docs[idx].append(token)"
      ],
      "execution_count": null,
      "outputs": []
    },
    {
      "cell_type": "markdown",
      "metadata": {
        "id": "DZDdYJgyVNrP"
      },
      "source": [
        "  En orden las operaciones realizadas fueron:\n",
        "  * Eliminamos Números\n",
        "  * Eliminamos letras individuales\n",
        "  * Lematizamos\n",
        "  * Agregamos Bigramas\n",
        "  * Agregamos Trigramas"
      ]
    },
    {
      "cell_type": "code",
      "metadata": {
        "colab": {
          "base_uri": "https://localhost:8080/"
        },
        "id": "8qtMmRD0Nf6R",
        "outputId": "78bc8422-d8ab-43c8-cf20-beda6e963f00"
      },
      "source": [
        "# Creamos un diccionario con los tokens de docs.\n",
        "dictionary = Dictionary(docs)\n",
        "print('Cantidad de palabras distintas en el diccionario:', len(dictionary))\n",
        "\n",
        "# filtramos las palabras que aparezcan menos de 10 veces o en más del 20% del documento\n",
        "dictionary.filter_extremes(no_below=10, no_above=0.2)\n",
        "print('Cantidad de palabtas distintas luego de remover las más raras y las más comunes:', len(dictionary))"
      ],
      "execution_count": null,
      "outputs": [
        {
          "output_type": "stream",
          "text": [
            "Cantidad de palabras distintas en el diccionario: 52086\n",
            "Cantidad de palabtas distintas luego de remover las más raras y las más comunes: 12057\n"
          ],
          "name": "stdout"
        }
      ]
    },
    {
      "cell_type": "code",
      "metadata": {
        "colab": {
          "base_uri": "https://localhost:8080/"
        },
        "id": "OjeuLJHlNs4G",
        "outputId": "92e5d63c-a08f-472b-a8ea-04e3ed4c8c85"
      },
      "source": [
        "corpus = [dictionary.doc2bow(doc) for doc in docs]\n",
        "print('Cantidad de tokens únicos: %d' % len(dictionary))\n",
        "print('Cantidad de documentos: %d' % len(corpus))"
      ],
      "execution_count": null,
      "outputs": [
        {
          "output_type": "stream",
          "text": [
            "Cantidad de tokens únicos: 12057\n",
            "Cantidad de documentos: 20491\n"
          ],
          "name": "stdout"
        }
      ]
    },
    {
      "cell_type": "markdown",
      "metadata": {
        "id": "7UDoXHJBXo8F"
      },
      "source": [
        "### Entrenamiento"
      ]
    },
    {
      "cell_type": "code",
      "metadata": {
        "colab": {
          "base_uri": "https://localhost:8080/"
        },
        "id": "rWSu3lGFNw_V",
        "outputId": "760fdc7c-137c-4c9e-de19-58fa0b8834a5"
      },
      "source": [
        "# Seteamos los parametros.\n",
        "num_topics = 10\n",
        "chunksize = 500\n",
        "passes = 20 \n",
        "iterations = 400\n",
        "eval_every = 1 # si esto es más de uno toma mucho más tiempo \n",
        "\n",
        "# Cargamos el diccionario con los tokens obtenidos y armamos el modelo LDA\n",
        "temp = dictionary[0] \n",
        "id2word = dictionary.id2token\n",
        "\n",
        "%time model = LdaModel(corpus=corpus, id2word=id2word, chunksize=chunksize, \\\n",
        "                       alpha='auto', eta='auto', \\\n",
        "                       iterations=iterations, num_topics=num_topics, \\\n",
        "                       passes=passes, eval_every=eval_every,random_state=12)"
      ],
      "execution_count": null,
      "outputs": [
        {
          "output_type": "stream",
          "text": [
            "CPU times: user 6min 6s, sys: 287 ms, total: 6min 6s\n",
            "Wall time: 6min 6s\n"
          ],
          "name": "stdout"
        }
      ]
    },
    {
      "cell_type": "code",
      "metadata": {
        "colab": {
          "base_uri": "https://localhost:8080/",
          "height": 861
        },
        "id": "sDOR8Xs_QvV3",
        "outputId": "15c9110c-4982-43ac-a08d-f5e5381f1cda"
      },
      "source": [
        "pyLDAvis.gensim.prepare(model, corpus, dictionary)"
      ],
      "execution_count": null,
      "outputs": [
        {
          "output_type": "execute_result",
          "data": {
            "text/html": [
              "\n",
              "<link rel=\"stylesheet\" type=\"text/css\" href=\"https://cdn.rawgit.com/bmabey/pyLDAvis/files/ldavis.v1.0.0.css\">\n",
              "\n",
              "\n",
              "<div id=\"ldavis_el561404503618716003305170118\"></div>\n",
              "<script type=\"text/javascript\">\n",
              "\n",
              "var ldavis_el561404503618716003305170118_data = {\"mdsDat\": {\"x\": [0.04824094333951582, 0.12290954165821175, 0.14967769832796057, -0.10559632469501284, 0.25004813501267426, 0.05397389374185684, -0.22302056959847474, -0.29146070422855425, 0.09582781533851943, -0.10060042889669679], \"y\": [-0.14099531475422142, -0.06669068276919514, -0.06695186139646522, -0.1763655979358643, 0.019263683168175706, -0.02169879820675968, -0.01839824175374813, -0.08046921026477928, 0.1565765368865937, 0.3957294870262635], \"topics\": [1, 2, 3, 4, 5, 6, 7, 8, 9, 10], \"cluster\": [1, 1, 1, 1, 1, 1, 1, 1, 1, 1], \"Freq\": [20.64819313221785, 16.975655414458842, 15.178819672660465, 13.72843504864957, 7.957856780785977, 6.621608800175428, 6.453463438873825, 5.113053314542988, 4.054234409377863, 3.268679988257192]}, \"tinfo\": {\"Term\": [\"beach\", \"resort\", \"review\", \"staff_friendly\", \"minute_walk\", \"free\", \"make\", \"punta_cana\", \"beautiful\", \"didn__\\u00e7_\\u00e9_\", \"city\", \"wonderful\", \"make_sure\", \"sure\", \"fantastic\", \"station\", \"lovely\", \"walking_distance\", \"price\", \"water\", \"modern\", \"comfortable\", \"internet\", \"desk\", \"coffee\", \"street\", \"perfect\", \"trip\", \"drink\", \"buffet\", \"good_value\", \"pretty_good\", \"parking\", \"late_night\", \"shuttle\", \"option\", \"continental_breakfast\", \"excursion\", \"excellent_value\", \"reasonable_price\", \"couple_day\", \"season\", \"dream\", \"steak_house\", \"grill\", \"roof\", \"right_outside\", \"situated\", \"aqua_palm\", \"incredible\", \"cheaper\", \"valet_parking\", \"absolutely_loved\", \"public_transport\", \"caribbean\", \"check_quick\", \"city_center\", \"felt_safe\", \"conveniently_located\", \"taxi_ride\", \"cost\", \"price\", \"cheap\", \"airport\", \"early_morning\", \"expensive\", \"quite\", \"average\", \"taxi\", \"outside\", \"decent\", \"local\", \"building\", \"plus\", \"overall\", \"pretty\", \"offer\", \"better\", \"right\", \"deal\", \"fine\", \"need\", \"want\", \"high\", \"value\", \"money\", \"star\", \"worth\", \"rate\", \"free\", \"lobby\", \"close\", \"away\", \"floor\", \"large\", \"beach\", \"resort\", \"punta_cana\", \"vacation\", \"punta\", \"cana\", \"entertainment\", \"ocean_blue\", \"speak_english\", \"dominican\", \"sand\", \"carte_restaurant\", \"show\", \"travel_agent\", \"royal_service\", \"dominican_republic\", \"carte\", \"swim\", \"inclusive\", \"ocean_view\", \"breakfast_lunch\", \"bahia_principe\", \"casino\", \"main_buffet\", \"bartender\", \"language_barrier\", \"japanese_restaurant\", \"shopping_mall\", \"palm_tree\", \"breeze_punta\", \"white_sand\", \"country\", \"drink\", \"kid\", \"buffet\", \"lunch\", \"water\", \"beautiful\", \"club\", \"bring\", \"chair\", \"went\", \"week\", \"dinner\", \"trip\", \"just_returned\", \"towel\", \"want\", \"problem\", \"couple\", \"thing\", \"different\", \"day\", \"told\", \"asked\", \"hong_kong\", \"called\", \"card\", \"checked\", \"customer_service\", \"later\", \"manager\", \"toilet\", \"phone\", \"credit_card\", \"finally\", \"hong\", \"bag\", \"kong\", \"half_hour\", \"customer\", \"water_pressure\", \"looked_like\", \"housekeeping\", \"dirty\", \"worst\", \"moved\", \"management\", \"sheet\", \"smoking\", \"double_bed\", \"took_hour\", \"charged\", \"ready\", \"desk\", \"said\", \"arrived\", \"check\", \"smell\", \"left\", \"came\", \"luggage\", \"given\", \"door\", \"problem\", \"hour\", \"booked\", \"work\", \"gave\", \"shower\", \"guest\", \"went\", \"morning\", \"reservation\", \"floor\", \"thing\", \"towel\", \"minute\", \"water\", \"star\", \"minute_walk\", \"station\", \"walking_distance\", \"definitely_stay\", \"metro\", \"distance\", \"short_walk\", \"central\", \"friendly_helpful\", \"clean_comfortable\", \"centre\", \"breakfast_included\", \"block_away\", \"time_square\", \"definitely_recommend\", \"highly_recommended\", \"metro_station\", \"florence\", \"staff_helpful\", \"subway\", \"enjoyed_stay\", \"bed_comfortable\", \"pleasantly_surprised\", \"amsterdam\", \"attraction\", \"bar_restaurant\", \"easy_walking\", \"central_location\", \"museum\", \"extremely_friendly\", \"staff_friendly\", \"walking\", \"comfortable\", \"highly_recommend\", \"city\", \"street\", \"definitely\", \"train\", \"quiet\", \"block\", \"square\", \"minute\", \"located\", \"just_returned\", \"modern\", \"close\", \"easy\", \"away\", \"highly\", \"stop\", \"make_sure\", \"train_station\", \"spanish\", \"activity\", \"felt_like\", \"blue\", \"wedding\", \"breeze\", \"staff_member\", \"tokyo\", \"city_centre\", \"lounge_chair\", \"didnt\", \"beijing\", \"spoke_english\", \"taxi_driver\", \"looking_forward\", \"high_quality\", \"taken_care\", \"shower_head\", \"team\", \"young_child\", \"fresh_towel\", \"princess\", \"dancing\", \"careful\", \"dance\", \"tour_guide\", \"fully\", \"main_road\", \"sure\", \"driver\", \"young\", \"make\", \"ocean\", \"spoke\", \"member\", \"felt\", \"english\", \"dont\", \"child\", \"year\", \"relax\", \"know\", \"guest\", \"thing\", \"family\", \"book\", \"trip\", \"think\", \"extremely_helpful\", \"majestic_colonial\", \"min_walk\", \"ground_floor\", \"paris\", \"harbour\", \"spotlessly_clean\", \"min\", \"harbour_view\", \"make_feel\", \"probably_best\", \"ubud\", \"exceeded_expectation\", \"high_standard\", \"look_forward\", \"colonial\", \"sydney\", \"nothing_trouble\", \"travelled\", \"darling_harbour\", \"waste_money\", \"feel_welcome\", \"worth_visit\", \"french_quarter\", \"roof_terrace\", \"evening_meal\", \"location_ideal\", \"straight_away\", \"nicely_appointed\", \"took_advantage\", \"feel_like\", \"fantastic\", \"wonderful\", \"lovely\", \"birthday\", \"fabulous\", \"feel\", \"perfect\", \"amazing\", \"welcome\", \"loved\", \"visit\", \"beautiful\", \"absolutely\", \"truly\", \"return\", \"extremely\", \"year\", \"experience\", \"home\", \"special\", \"bali\", \"trip\", \"husband\", \"free_internet\", \"nice_touch\", \"fresh_fruit\", \"internet_access\", \"husband_stayed\", \"juice\", \"centrally_located\", \"spacious_clean\", \"bread\", \"egg\", \"coffee_maker\", \"shopping_centre\", \"cereal\", \"bottle_wine\", \"table_chair\", \"soft_drink\", \"free_shuttle\", \"problem_getting\", \"breakfast_served\", \"pastry\", \"hair_dryer\", \"business_center\", \"nightly\", \"wireless_internet\", \"wireless\", \"toast\", \"affinia\", \"decent_size\", \"complimentary_breakfast\", \"wedding_anniversary\", \"king_size\", \"clean_tidy\", \"internet\", \"fruit\", \"coffee\", \"fresh\", \"chocolate\", \"free\", \"touch\", \"complimentary\", \"access\", \"suite\", \"selection\", \"bedroom\", \"wine\", \"included\", \"king\", \"pillow\", \"large\", \"breakfast_buffet\", \"size\", \"bath\", \"shower\", \"drink\", \"buffet\", \"flat_screen\", \"euro\", \"spent_night\", \"boutique_hotel\", \"clean_modern\", \"reasonably_priced\", \"junior_suite\", \"screen\", \"singapore\", \"wife_stayed\", \"madrid\", \"easy_access\", \"price_paid\", \"boutique\", \"ritz_carlton\", \"staff_attentive\", \"reasonably\", \"berlin\", \"ritz\", \"definately_stay\", \"thoroughly_enjoyed\", \"cost_euro\", \"recently_stayed\", \"junior\", \"coffee_making\", \"orchard_road\", \"traffic_noise\", \"rooftop\", \"union_square\", \"higher_floor\", \"barcelona\", \"flat\", \"ramblas\", \"breakfast_buffet\", \"stylish\", \"priced\", \"really_enjoyed\", \"modern\", \"design\", \"suite\", \"brilliant\", \"city\", \"plaza\", \"floor\", \"spent\", \"buffet\", \"trip_advisor\", \"read_review\", \"swimming_pool\", \"value_money\", \"honeymoon\", \"wasn__\\u00e7_\\u00e9_\", \"everyday\", \"advisor\", \"nothing_special\", \"previous_review\", \"public_area\", \"tripadvisor\", \"negative_review\", \"extra_charge\", \"phone_call\", \"willing_help\", \"having_read\", \"effort\", \"definitely_worth\", \"spent_day\", \"free_wifi\", \"langham_place\", \"spent_week\", \"star_ferry\", \"chef\", \"worth_extra\", \"plenty_space\", \"having_said\", \"added_bonus\", \"vending_machine\", \"quarter\", \"round\", \"review\", \"based\", \"previous\", \"read\", \"reading\", \"swimming\", \"negative\", \"trip\", \"disappointed\", \"having\", \"spent\", \"booked\", \"comment\", \"money\", \"holiday\", \"extra\", \"didn__\\u00e7_\\u00e9_\", \"don__\\u00e7_\\u00e9_\", \"it__\\u00e7_\\u00e9_\", \"sick\", \"italian_restaurant\", \"bottle_water\", \"second_floor\", \"can__\\u00e7_\\u00e9_\", \"i__\\u00e7_\\u00e9\", \"difference\", \"business_trip\", \"michael_jackson\", \"you__\\u00e7_\\u00e9\\u00e8e\", \"wouldn__\\u00e7_\\u00e9_\", \"long_weekend\", \"separate_shower\", \"musty_smell\", \"took_care\", \"weren__\\u00e7_\\u00e9_\", \"musty\", \"chinese_restaurant\", \"open_mind\", \"glass_wine\", \"hyatt\", \"save_money\", \"tastefully_decorated\", \"couldn__\\u00e7_\\u00e9_\", \"bed_hard\", \"mandarin_oriental\", \"bowling_alley\", \"live_music\", \"bottled_water\", \"dinner_reservation\", \"water\", \"bottle\", \"glass\", \"wine\"], \"Freq\": [9910.0, 8860.0, 4790.0, 6251.0, 5011.0, 4419.0, 4788.0, 4683.0, 4658.0, 2177.0, 4388.0, 3630.0, 2679.0, 2783.0, 3429.0, 3277.0, 3194.0, 3169.0, 4722.0, 5338.0, 2933.0, 4447.0, 2294.0, 3789.0, 2488.0, 3545.0, 3017.0, 5390.0, 4609.0, 4331.0, 2508.148237827123, 1781.5683479605868, 1160.11534136665, 1052.8374288762182, 951.9107265980903, 926.3080202440186, 871.5697721268638, 790.7995963050314, 770.2422405719054, 673.242961997458, 625.7317712229444, 592.2762831387058, 564.1184219965759, 562.293813726004, 552.9776535307773, 549.9226927628819, 531.136105841543, 525.5188263412776, 504.3848829675006, 513.9885238973488, 505.19370546547316, 481.6850244287902, 477.84633694330273, 474.2464329513481, 470.4373242052582, 453.2632400621684, 451.7567900300807, 444.7841186363753, 436.224523701166, 431.09421661178675, 1407.201274999333, 4503.391113766489, 1269.9955676159775, 2860.882044891127, 755.6944232530482, 1724.151487880087, 3354.81482100891, 1129.8907042658632, 1839.1126647190263, 1911.4829180577024, 892.5647877216868, 1429.5984898538047, 1797.7959563935294, 1088.2971951963448, 2236.44171746976, 1946.3053130869744, 1286.791984437159, 2731.063638659988, 2667.9935035553494, 1268.461868225158, 1458.6898173348166, 2360.2404766535524, 2733.9691235100654, 1472.175437070073, 1704.05464630953, 1690.1776906224206, 1855.232857937871, 1590.9645335027428, 1424.1868551108082, 1924.8138317562878, 1661.9051624207239, 1428.095907472634, 1493.0261189647742, 1461.2457192827108, 1395.6708407036683, 9910.067965827388, 8860.581104550743, 4683.215834794062, 2456.882783979163, 2104.3688760704695, 2095.541047455959, 1339.8186185990965, 1236.675765279897, 1188.1433762175172, 1120.3990634372542, 935.2730165003849, 932.9262952701628, 891.5001940608503, 840.9114519480605, 823.004522901915, 796.1696033952612, 791.3679774691182, 767.9425354028192, 753.5860764099737, 714.57831287344, 676.8513346158528, 657.1737956210833, 659.3855946532692, 617.9599993118658, 594.2849114324359, 561.0385136458362, 549.632240165323, 544.9703421823523, 546.6320459968358, 498.73224475476064, 518.5884996551238, 831.9768852047341, 3466.810485698376, 1584.3359428678123, 3076.685154215898, 1191.7244151458945, 3191.9100121418755, 2828.3245346413696, 1502.3876541358688, 1045.1773002923474, 1228.9669164802715, 2172.459419301076, 1633.261897163456, 1351.1515050993712, 1747.4342607711706, 1341.736436109263, 1163.4784132402842, 1215.4900172476277, 1195.8873467034018, 1075.1342197333104, 1088.3957637703743, 998.6406323981322, 1020.1649505952645, 2624.021839349085, 2405.185691713235, 2313.015207200646, 1482.0401335175934, 1312.8443569356498, 1274.081964039895, 1243.8901855467, 1162.1427715850214, 1141.5662149345371, 976.7412345829048, 909.6010718953866, 858.4607334711837, 825.0709674225959, 782.0032358826285, 803.0175764875244, 778.4936624632985, 749.8865003411793, 745.7972428104061, 732.8472380423411, 710.2091228263145, 690.0655684309612, 681.6689044941245, 674.6526008280098, 641.5255697696268, 619.2774861327631, 576.2043913354943, 531.2495040186128, 488.7382911956003, 477.0559213685937, 452.81784311150284, 1168.2685160688923, 3440.4977669322548, 2296.979455575168, 2288.968170753329, 3373.1368060495743, 918.2355284450992, 2028.9690879477175, 1473.6367493547407, 1120.6141010378476, 1231.266111740414, 2167.6038613109304, 2436.4709285203126, 2188.1226498646997, 2064.7434357335237, 1521.2331378188392, 1111.50444696773, 1744.5078655031818, 1574.0307227491373, 1778.6088770109886, 1518.4154245913742, 1269.01026115962, 1681.3438150026468, 1461.2471080483226, 1271.789591557724, 1351.9533584116946, 1246.3901096246748, 1203.3403417657887, 5011.803981317512, 3277.0169646601257, 3168.985280275038, 1917.171004099051, 1669.3340849305487, 1628.5706932153635, 1570.349048598417, 1506.7880383334605, 1505.7883099099179, 1473.8687685375467, 1382.7567250378881, 1333.7239790867181, 1330.882239646385, 1267.1208862833398, 1170.85497567515, 1059.7611043100583, 1028.8819677895465, 974.4269838119855, 914.4744285952457, 842.885960267872, 804.8579999138417, 798.7406975742743, 770.7177943938409, 772.1443330989885, 737.375162461826, 720.7248275845624, 684.0637939286637, 677.2753889650147, 659.4716786382821, 619.7602050743506, 5873.135299191555, 2407.5524650759285, 3788.180573918197, 2646.5054419047415, 3567.960261192114, 2892.9431153164064, 2423.3982716310543, 1328.2049592136425, 2141.8257488293857, 1543.2855480720743, 1227.147412104259, 3276.668175975939, 1724.3166936133443, 1973.5010779129818, 1655.7755092642203, 1692.7718896811552, 1460.945002302793, 1685.5472650896959, 1349.6733468932482, 1333.811643802918, 2678.898173974528, 1531.5121799758658, 1314.6457616022851, 1232.6776266132667, 1171.4459161391678, 1058.274425955678, 1001.773069192496, 964.4483587733409, 895.7441990080205, 790.9737346255511, 778.7501309675564, 699.23762519741, 861.3980476510521, 588.8612146752654, 575.749822764232, 509.2943697324916, 478.2221535263249, 473.09967018750115, 409.41900432059464, 391.97392788336634, 376.9238741937941, 371.10036809987116, 361.5326423199758, 366.7076693350746, 347.2205037539512, 349.4922131672158, 344.45411815695496, 328.1515194364891, 378.4392731152215, 320.1928294066634, 2654.676724916886, 670.9862015154464, 651.5739047444891, 3555.646224837873, 1654.4109918508766, 677.4478879921345, 612.1567296517026, 1231.3962520088658, 1437.660975844595, 741.4924975819439, 947.6568768856768, 1514.093697211027, 609.4495276797563, 1058.6487022519298, 920.1888994045744, 1041.837978063734, 848.152772691251, 716.6020398079389, 806.3614093839542, 676.4319080749922, 907.6384494573978, 868.6189399750311, 779.2487137735367, 721.2750219309978, 717.1263121665404, 647.742259033464, 560.1543521026871, 870.8995802438466, 505.0762102615415, 498.2664810253986, 474.3479751571911, 462.240280183491, 407.04834029565905, 396.74354239155707, 391.23159573440705, 378.6227326972843, 397.4527153562675, 379.34521075935317, 350.38548243058113, 333.25640988729185, 327.17349978311864, 305.52655740120673, 294.42280531399047, 291.8367961475397, 279.9181914134166, 279.9206156472573, 277.33956770355036, 260.9139739943223, 256.5697469517334, 252.78157149917064, 1137.2056140752652, 2353.944589956715, 2406.8542264385615, 2097.6318117920987, 517.5965887634776, 909.3885771578116, 1575.5366343056621, 1634.5305339524302, 1379.1770758583693, 592.5427363676883, 1500.3580985179283, 1100.4568224162263, 1800.3186995871147, 877.9865741783317, 526.6040269200706, 827.6992821817812, 757.9102692422405, 886.0151856385813, 860.6937812844963, 732.0664143067124, 648.8464129816199, 592.2341821395414, 620.0769024430485, 582.7339479829061, 1623.9383055549233, 1493.174946555797, 1145.6006222092155, 1088.4396204285124, 982.051367032075, 792.4228587830888, 679.4525246636063, 670.3703499862129, 653.9747095475043, 608.3581186649864, 496.48835116833834, 485.5911481708206, 460.9382909815902, 451.11030796395505, 439.18432517798783, 428.98207807890293, 420.6121397893525, 423.9937584872576, 415.10727367642573, 409.40350336106957, 366.3751671491423, 361.17527832228865, 346.28067778801864, 352.83075251716457, 338.98817389223564, 328.71905761791413, 317.7068528260083, 323.22138941949515, 321.075916382959, 318.48818369853484, 1116.874569597252, 318.59219631046824, 2088.8453397800154, 1328.5880927712874, 1976.4906196616428, 1396.532449619278, 511.56748754897825, 2494.34661192439, 796.4833617000869, 610.799805114588, 994.9353043255713, 1116.8346788649415, 662.7006698756297, 653.3963488749154, 658.3891740313671, 733.2816063240554, 620.0623122760624, 577.1220268885533, 841.9590712635361, 687.167150530429, 678.7437223952804, 613.3774826970662, 680.3715499922897, 698.133145810113, 635.1005139520587, 1502.0869391202514, 1425.580162816647, 1050.6836986471526, 1004.6328207361116, 986.4415947041567, 976.5544569202788, 833.5923372500698, 782.7386775496853, 758.5886831104775, 659.584484786226, 604.5947577294754, 608.1124762901503, 557.294557533251, 538.8935003836368, 482.1523364958352, 438.21844560152664, 439.05302492863143, 426.19233642033174, 387.2287874755058, 380.01825891116306, 379.30339650803404, 372.22930170359666, 362.4031760175195, 355.72223159141834, 349.1395421098311, 339.5833889706758, 338.53784665681246, 340.0320880017367, 340.32058402180473, 323.3595255671971, 1453.5980151690885, 694.9657550982839, 488.29956110813924, 1315.3895715826795, 462.028661643778, 561.5577424961658, 731.870129417301, 1277.3981240605362, 520.7758893765701, 707.7612740665139, 406.1207275468472, 814.9935512754747, 479.9423620792438, 751.7656020455471, 504.2052822278309, 507.8817671964111, 1414.892272762227, 1437.6331711220203, 1277.270217399114, 1146.9963823883913, 949.6889441476068, 782.6920950470487, 692.5233236272206, 499.9327636674863, 469.78209854426774, 430.53098709167676, 430.0129685889272, 558.9555302208572, 396.67538680905824, 367.1753601051325, 332.87288386218904, 329.41655063900566, 329.74171451559, 316.81645042136347, 308.72380499865295, 299.5878736942137, 292.8150070037033, 273.0792683587181, 274.97909526311804, 265.04019558319004, 264.9326188080971, 261.39782512934306, 251.27079985202815, 234.95673789815723, 231.89313843355538, 228.2941749409403, 232.63906505680896, 488.0070505684033, 4259.0519611822, 583.9858308047034, 711.5108229122504, 1324.3582270173442, 792.4404528375134, 479.7853406303479, 481.24163986487184, 982.187175097006, 508.38633408951375, 567.1882860655481, 516.69354624862, 603.6886215813022, 402.311560669853, 483.28416607561996, 392.6419049641668, 371.5237193260538, 2177.5803942063135, 1450.0404001970037, 1372.7166631725686, 884.6207103237556, 634.2837410741795, 591.2829356150619, 591.3763891278239, 575.0622667349992, 575.6960140228535, 417.68518756843827, 415.07720003584893, 409.90302579740296, 411.41998948817974, 392.1745771631958, 393.6746201464802, 369.9078166668337, 346.5217291057647, 338.0841403904005, 315.32670720687156, 305.07281412673785, 303.3060473595611, 298.56602285282645, 297.60858354384806, 286.68214800111605, 280.84416995492796, 271.197919518524, 271.65466730037303, 259.3405667626034, 257.68047281091697, 248.8689030638389, 283.84843043814783, 562.5425016768868, 324.623467109248, 491.94864209619624, 335.49087498653387, 319.2217538832077, 285.6576659547215], \"Total\": [9910.0, 8860.0, 4790.0, 6251.0, 5011.0, 4419.0, 4788.0, 4683.0, 4658.0, 2177.0, 4388.0, 3630.0, 2679.0, 2783.0, 3429.0, 3277.0, 3194.0, 3169.0, 4722.0, 5338.0, 2933.0, 4447.0, 2294.0, 3789.0, 2488.0, 3545.0, 3017.0, 5390.0, 4609.0, 4331.0, 2508.305662057622, 1781.7245510172922, 1160.2717759517413, 1052.9922305642829, 952.0655902081114, 926.4640090213916, 871.724977531754, 790.9533187192956, 770.3960424516539, 673.3966337100948, 625.8846865736137, 592.4297667440263, 564.2694667410835, 562.446825812957, 553.1306607478062, 550.0755413673255, 531.2897678406581, 525.6717839090386, 504.53170006200855, 514.1420151962346, 505.3469641945992, 481.8378117195664, 477.99866548352094, 474.39886036696817, 470.5897148225653, 453.4150357522364, 451.9084931735762, 444.93708162151376, 436.37705187410364, 431.2460234114674, 1418.183754094095, 4722.8556587232315, 1300.3081206114257, 3144.6361857859, 782.9655407194646, 1901.7308137593127, 3939.8630766682045, 1210.6229451390457, 2076.839237571409, 2223.4474982293655, 962.2214599589146, 1681.4504318678976, 2248.6885575028027, 1238.6303580162548, 2923.108248970958, 2631.605421430102, 1572.6719242441234, 4102.747536504245, 4029.837298278372, 1560.1190990755733, 1885.0022939238388, 3646.1963004727513, 4561.485590911103, 2016.942261669521, 2595.16002783134, 2708.38512689555, 3255.5599154825504, 2539.3359813893603, 2193.3901066418784, 4419.6303482773865, 3395.3505545089542, 3121.190958295403, 4119.362827621475, 5524.660712066822, 3855.9359126951285, 9910.23238346149, 8860.745115364727, 4683.377346475482, 2457.043195925847, 2104.527762153793, 2095.6999530033213, 1339.976460412479, 1236.8281328795474, 1188.3011195402962, 1120.5563594964005, 935.4295916531868, 933.0830315947483, 891.6569473765816, 841.0686433224945, 823.1608544703693, 796.3257816729912, 791.5240437499035, 768.0990884917474, 753.7425505227696, 714.7358227124024, 677.0076785271507, 657.3268131520389, 659.542191179156, 618.1152133360523, 594.4404745604902, 561.1937842345928, 549.7866332185148, 545.1247865835622, 546.7880934707518, 498.8804311416583, 518.7434362535083, 843.9472780697871, 4609.986809456014, 1867.4470260601079, 4331.386370333227, 1433.2079652921193, 5338.881796736443, 4658.488233430155, 2092.3423639312964, 1342.7071010684558, 1770.004454746478, 4659.394509540586, 3453.4621545858377, 2554.6360463806573, 5390.574448267521, 3315.5665599866493, 2720.250265092111, 4561.485590911103, 4475.792911165421, 2843.192904532284, 4720.689887427114, 2195.471423620639, 3517.7495808497483, 2624.180229348938, 2405.343725112483, 2313.169307422893, 1482.197147403286, 1313.000455067236, 1274.2386178449922, 1244.0462762870593, 1162.2987263084444, 1141.7223383833054, 976.8984029423848, 909.756290250972, 858.616049431847, 825.2263064168415, 782.1543157283334, 803.1730604601604, 778.6447198665611, 750.0405228430928, 745.9518487817538, 733.0020344966211, 710.3637965088316, 690.220292304347, 681.8234302087086, 674.8073656154526, 641.67965901899, 619.4314908647168, 576.358239525084, 531.403803050761, 488.8937955710244, 477.20924846137393, 452.9713570501228, 1203.2121753790875, 3789.410423655205, 2537.0896353648327, 2751.348990396327, 4296.731249526616, 984.9676858820045, 2724.8756465271667, 1894.1167300978434, 1361.3285108101493, 1585.0963371291614, 3606.797548616838, 4475.792911165421, 3892.64363934291, 4009.281031079881, 2414.7313563547227, 1510.989931813134, 3688.101843473341, 3104.181431151598, 4659.394509540586, 3273.7144080957105, 2178.3566837698077, 5524.660712066822, 4720.689887427114, 2720.250265092111, 6050.625706309727, 5338.881796736443, 3255.5599154825504, 5011.963320721929, 3277.1749442744717, 3169.143900617393, 1917.3282257670262, 1669.4898873408076, 1628.7271927853633, 1570.5054084559952, 1506.9440077192626, 1505.9445422416388, 1474.0249911647563, 1382.9116708619313, 1333.8793784972488, 1331.0381503656608, 1267.2766017412143, 1171.0100745703398, 1059.9157736105287, 1029.0364649727685, 974.5819982023331, 914.6306777449464, 843.0395742359937, 805.0124122351559, 798.8950615682324, 770.8717531889673, 772.2990554076492, 737.5291923522245, 720.8778764130234, 684.2174905224966, 677.4297052062785, 659.6254922517826, 619.9135117820354, 6251.275265984544, 2650.2904926385063, 4447.1510772539805, 3119.19815912189, 4388.985350044523, 3545.054775033476, 3114.593168529739, 1504.5688041530082, 2758.6389963782535, 1898.6996139723021, 1433.857251285247, 6050.625706309727, 2361.4467346288066, 3315.5665599866493, 2933.4913104927246, 3121.190958295403, 2210.583891916765, 4119.362827621475, 1854.003766270422, 1903.235248258822, 2679.057433064963, 1531.6696149913994, 1314.802075786207, 1232.8338154940925, 1171.6022722874802, 1058.428867215986, 1001.9286346862004, 964.6016456172067, 895.8995168499339, 791.1253539871084, 778.9045860555066, 699.3922082694073, 861.612406056085, 589.0117183676401, 575.9041927659227, 509.44749308940607, 478.3762081157315, 473.252692275369, 409.5725318261555, 392.12719431309137, 377.0760830911834, 371.25289222606864, 361.68534120478176, 366.86448386404044, 347.3727321920362, 349.64552468634287, 344.6094680191527, 328.30348633056803, 378.6159728831496, 320.34502630281503, 2783.1839950329177, 692.6146509458739, 680.3086641736883, 4788.271872102962, 2141.1623217900074, 774.5450808397482, 697.5550662166489, 1888.346105690713, 2434.654067833311, 980.1076942716448, 1468.5848927971315, 3148.248840965556, 807.4213516603278, 2681.1796153722253, 3104.181431151598, 4720.689887427114, 2409.62125672233, 1804.8818984262277, 5390.574448267521, 3205.6122159849374, 907.7940441956849, 868.7693444502348, 779.4032643583699, 721.4304887838401, 717.2826484503881, 647.89570099582, 560.3088971609236, 871.1507001791092, 505.22818262392394, 498.4207595975148, 474.5013089276916, 462.3897786476649, 407.20182196099336, 396.8964828552912, 391.3842290678979, 378.7720724376356, 397.6125435075311, 379.4982699442902, 350.53797403864075, 333.4080312697977, 327.3248347096443, 305.6789165373012, 294.575211332933, 291.991762954782, 280.0696972894953, 280.0722287734019, 277.49227521812685, 261.06487297547403, 256.721548233901, 252.93347562975413, 1222.86389845222, 3429.8417855618172, 3630.8336602555883, 3194.518081472614, 589.4317535892689, 1186.0936745341053, 2502.4947690229783, 3017.0088299582258, 2405.6513743930914, 776.0017303922658, 3111.0679607326665, 1970.742456394942, 4658.488233430155, 1493.5034061006888, 684.1228890290191, 2004.170292968578, 2071.278945141774, 3148.248840965556, 3394.197457825939, 2085.644397372154, 1406.0171206269579, 1298.7117759504508, 5390.574448267521, 2555.708640399647, 1624.0958908208818, 1493.331443349107, 1145.7561863988278, 1088.5952926399932, 982.207333417709, 792.5776605657034, 679.6075937179766, 670.5250100170944, 654.1290579291664, 608.5122946205961, 496.6416421714826, 485.7430143146172, 461.09203062213004, 451.2635478098642, 439.3367809458738, 429.1348681496507, 420.76429438887124, 424.1472755424169, 415.26027144384085, 409.55679048852676, 366.52780243156656, 361.3283317075443, 346.43284586321914, 352.98609229501915, 339.1433438472815, 328.8711576614065, 317.8557094866989, 323.3736436319446, 321.22824558739353, 318.64046425233505, 1126.5881219361117, 318.74481699430856, 2294.8021581732255, 1516.9269905061635, 2488.803172654506, 1688.190590367483, 558.8148833120072, 4419.6303482773865, 1075.3368015253652, 763.3273453050907, 1731.8681615672642, 2600.0201523482738, 1045.0229179844134, 1166.3843359106813, 1190.488757324117, 1657.7312085754158, 1101.1998569566335, 1047.41591532351, 3855.9359126951285, 2002.8760405941832, 2097.617947960022, 1381.083833188363, 3688.101843473341, 4609.986809456014, 4331.386370333227, 1502.242483692046, 1425.736944356171, 1050.8394835251452, 1004.788073114176, 986.596202322517, 976.7099695156433, 833.7467721146995, 782.8933074106263, 758.7399919050632, 659.7389534150407, 604.74735151892, 608.2666586595575, 557.4483044546749, 539.0469503229955, 482.30626155733455, 438.3713295721491, 439.2081176451421, 426.34558094671314, 387.382270367114, 380.1715716015134, 379.45659578482895, 372.38171835229673, 362.5563992319373, 355.8744210811305, 349.2920046945381, 339.73211882793055, 338.69033408389987, 340.1854618849153, 340.47474066036494, 323.5114086109488, 1603.061957500333, 769.206899358579, 535.3405606856403, 2002.8760405941832, 513.3475009892059, 720.7676425962132, 1103.7356686804912, 2933.4913104927246, 739.9657562787813, 2600.0201523482738, 467.87828043891045, 4388.985350044523, 859.8683490308366, 5524.660712066822, 1683.818223850285, 4331.386370333227, 1415.0480115360913, 1437.7960646304912, 1277.4249704338426, 1147.1513809968385, 949.8464906678182, 782.8457886811792, 692.6770045458503, 500.0855772198158, 469.935773299995, 430.6835853258992, 430.16555508613493, 559.1580904915514, 396.8289698198535, 367.3275225664288, 333.02425728721744, 329.5683218365633, 329.8938957014182, 316.9677459941956, 308.87584649700756, 299.7394490231949, 292.96564205014397, 273.22658019338286, 275.1311093465761, 265.1877620579541, 265.0831839069429, 261.5494424199328, 251.42170506137103, 235.10757225491005, 232.04329236063512, 228.4441857388236, 232.79224896242405, 501.0311562992487, 4790.927597309136, 612.3097177211877, 764.8484748724971, 1606.3855583642514, 962.4609910924448, 767.561102930162, 932.6693031424228, 5390.574448267521, 1297.1665787170627, 2002.2011151006825, 1683.818223850285, 4009.281031079881, 801.033382306116, 2708.38512689555, 1740.0048909210648, 2101.365489256147, 2177.73822537339, 1450.1974723486119, 1372.8737037307314, 884.7762428430188, 634.4386939211057, 591.4373813853313, 591.5313918090029, 575.2166242682364, 575.8505735691626, 417.83895202951777, 415.2314001472482, 410.05558115575707, 411.5736415191265, 392.327428083934, 393.8287875836992, 370.0606330137064, 346.6740307891852, 338.2372204209941, 315.4790087166942, 305.2251290350521, 303.4580124326782, 298.7187822148413, 297.7613989544316, 286.8351952786467, 280.9975330222772, 271.350528250044, 271.8076111992987, 259.49214791255616, 257.8320236195334, 249.01750895035087, 284.0471139068643, 883.5736973707635, 439.07247843778896, 5338.881796736443, 1232.6839546184576, 1184.8673748826059, 1190.488757324117], \"Category\": [\"Default\", \"Default\", \"Default\", \"Default\", \"Default\", \"Default\", \"Default\", \"Default\", \"Default\", \"Default\", \"Default\", \"Default\", \"Default\", \"Default\", \"Default\", \"Default\", \"Default\", \"Default\", \"Default\", \"Default\", \"Default\", \"Default\", \"Default\", \"Default\", \"Default\", \"Default\", \"Default\", \"Default\", \"Default\", \"Default\", \"Topic1\", \"Topic1\", \"Topic1\", \"Topic1\", \"Topic1\", \"Topic1\", \"Topic1\", \"Topic1\", \"Topic1\", \"Topic1\", \"Topic1\", \"Topic1\", \"Topic1\", \"Topic1\", \"Topic1\", \"Topic1\", \"Topic1\", \"Topic1\", \"Topic1\", \"Topic1\", \"Topic1\", \"Topic1\", \"Topic1\", \"Topic1\", \"Topic1\", \"Topic1\", \"Topic1\", \"Topic1\", \"Topic1\", \"Topic1\", \"Topic1\", \"Topic1\", \"Topic1\", \"Topic1\", \"Topic1\", \"Topic1\", \"Topic1\", \"Topic1\", \"Topic1\", \"Topic1\", \"Topic1\", \"Topic1\", \"Topic1\", \"Topic1\", \"Topic1\", \"Topic1\", \"Topic1\", \"Topic1\", \"Topic1\", \"Topic1\", \"Topic1\", \"Topic1\", \"Topic1\", \"Topic1\", \"Topic1\", \"Topic1\", \"Topic1\", \"Topic1\", \"Topic1\", \"Topic1\", \"Topic1\", \"Topic1\", \"Topic1\", \"Topic1\", \"Topic1\", \"Topic2\", \"Topic2\", \"Topic2\", \"Topic2\", \"Topic2\", \"Topic2\", \"Topic2\", \"Topic2\", \"Topic2\", \"Topic2\", \"Topic2\", \"Topic2\", \"Topic2\", \"Topic2\", \"Topic2\", \"Topic2\", \"Topic2\", \"Topic2\", \"Topic2\", \"Topic2\", \"Topic2\", \"Topic2\", \"Topic2\", \"Topic2\", \"Topic2\", \"Topic2\", \"Topic2\", \"Topic2\", \"Topic2\", \"Topic2\", \"Topic2\", \"Topic2\", \"Topic2\", \"Topic2\", \"Topic2\", \"Topic2\", \"Topic2\", \"Topic2\", \"Topic2\", \"Topic2\", \"Topic2\", \"Topic2\", \"Topic2\", \"Topic2\", \"Topic2\", \"Topic2\", \"Topic2\", \"Topic2\", \"Topic2\", \"Topic2\", \"Topic2\", \"Topic2\", \"Topic2\", \"Topic3\", \"Topic3\", \"Topic3\", \"Topic3\", \"Topic3\", \"Topic3\", \"Topic3\", \"Topic3\", \"Topic3\", \"Topic3\", \"Topic3\", \"Topic3\", \"Topic3\", \"Topic3\", \"Topic3\", \"Topic3\", \"Topic3\", \"Topic3\", \"Topic3\", \"Topic3\", \"Topic3\", \"Topic3\", \"Topic3\", \"Topic3\", \"Topic3\", \"Topic3\", \"Topic3\", \"Topic3\", \"Topic3\", \"Topic3\", \"Topic3\", \"Topic3\", \"Topic3\", \"Topic3\", \"Topic3\", \"Topic3\", \"Topic3\", \"Topic3\", \"Topic3\", \"Topic3\", \"Topic3\", \"Topic3\", \"Topic3\", \"Topic3\", \"Topic3\", \"Topic3\", \"Topic3\", \"Topic3\", \"Topic3\", \"Topic3\", \"Topic3\", \"Topic3\", \"Topic3\", \"Topic3\", \"Topic3\", \"Topic3\", \"Topic3\", \"Topic4\", \"Topic4\", \"Topic4\", \"Topic4\", \"Topic4\", \"Topic4\", \"Topic4\", \"Topic4\", \"Topic4\", \"Topic4\", \"Topic4\", \"Topic4\", \"Topic4\", \"Topic4\", \"Topic4\", \"Topic4\", \"Topic4\", \"Topic4\", \"Topic4\", \"Topic4\", \"Topic4\", \"Topic4\", \"Topic4\", \"Topic4\", \"Topic4\", \"Topic4\", \"Topic4\", \"Topic4\", \"Topic4\", \"Topic4\", \"Topic4\", \"Topic4\", \"Topic4\", \"Topic4\", \"Topic4\", \"Topic4\", \"Topic4\", \"Topic4\", \"Topic4\", \"Topic4\", \"Topic4\", \"Topic4\", \"Topic4\", \"Topic4\", \"Topic4\", \"Topic4\", \"Topic4\", \"Topic4\", \"Topic4\", \"Topic4\", \"Topic5\", \"Topic5\", \"Topic5\", \"Topic5\", \"Topic5\", \"Topic5\", \"Topic5\", \"Topic5\", \"Topic5\", \"Topic5\", \"Topic5\", \"Topic5\", \"Topic5\", \"Topic5\", \"Topic5\", \"Topic5\", \"Topic5\", \"Topic5\", \"Topic5\", \"Topic5\", \"Topic5\", \"Topic5\", \"Topic5\", \"Topic5\", \"Topic5\", \"Topic5\", \"Topic5\", \"Topic5\", \"Topic5\", \"Topic5\", \"Topic5\", \"Topic5\", \"Topic5\", \"Topic5\", \"Topic5\", \"Topic5\", \"Topic5\", \"Topic5\", \"Topic5\", \"Topic5\", \"Topic5\", \"Topic5\", \"Topic5\", \"Topic5\", \"Topic5\", \"Topic5\", \"Topic5\", \"Topic5\", \"Topic5\", \"Topic5\", \"Topic6\", \"Topic6\", \"Topic6\", \"Topic6\", \"Topic6\", \"Topic6\", \"Topic6\", \"Topic6\", \"Topic6\", \"Topic6\", \"Topic6\", \"Topic6\", \"Topic6\", \"Topic6\", \"Topic6\", \"Topic6\", \"Topic6\", \"Topic6\", \"Topic6\", \"Topic6\", \"Topic6\", \"Topic6\", \"Topic6\", \"Topic6\", \"Topic6\", \"Topic6\", \"Topic6\", \"Topic6\", \"Topic6\", \"Topic6\", \"Topic6\", \"Topic6\", \"Topic6\", \"Topic6\", \"Topic6\", \"Topic6\", \"Topic6\", \"Topic6\", \"Topic6\", \"Topic6\", \"Topic6\", \"Topic6\", \"Topic6\", \"Topic6\", \"Topic6\", \"Topic6\", \"Topic6\", \"Topic6\", \"Topic6\", \"Topic6\", \"Topic6\", \"Topic6\", \"Topic6\", \"Topic6\", \"Topic7\", \"Topic7\", \"Topic7\", \"Topic7\", \"Topic7\", \"Topic7\", \"Topic7\", \"Topic7\", \"Topic7\", \"Topic7\", \"Topic7\", \"Topic7\", \"Topic7\", \"Topic7\", \"Topic7\", \"Topic7\", \"Topic7\", \"Topic7\", \"Topic7\", \"Topic7\", \"Topic7\", \"Topic7\", \"Topic7\", \"Topic7\", \"Topic7\", \"Topic7\", \"Topic7\", \"Topic7\", \"Topic7\", \"Topic7\", \"Topic7\", \"Topic7\", \"Topic7\", \"Topic7\", \"Topic7\", \"Topic7\", \"Topic7\", \"Topic7\", \"Topic7\", \"Topic7\", \"Topic7\", \"Topic7\", \"Topic7\", \"Topic7\", \"Topic7\", \"Topic7\", \"Topic7\", \"Topic7\", \"Topic7\", \"Topic7\", \"Topic7\", \"Topic7\", \"Topic7\", \"Topic7\", \"Topic7\", \"Topic8\", \"Topic8\", \"Topic8\", \"Topic8\", \"Topic8\", \"Topic8\", \"Topic8\", \"Topic8\", \"Topic8\", \"Topic8\", \"Topic8\", \"Topic8\", \"Topic8\", \"Topic8\", \"Topic8\", \"Topic8\", \"Topic8\", \"Topic8\", \"Topic8\", \"Topic8\", \"Topic8\", \"Topic8\", \"Topic8\", \"Topic8\", \"Topic8\", \"Topic8\", \"Topic8\", \"Topic8\", \"Topic8\", \"Topic8\", \"Topic8\", \"Topic8\", \"Topic8\", \"Topic8\", \"Topic8\", \"Topic8\", \"Topic8\", \"Topic8\", \"Topic8\", \"Topic8\", \"Topic8\", \"Topic8\", \"Topic8\", \"Topic8\", \"Topic8\", \"Topic8\", \"Topic9\", \"Topic9\", \"Topic9\", \"Topic9\", \"Topic9\", \"Topic9\", \"Topic9\", \"Topic9\", \"Topic9\", \"Topic9\", \"Topic9\", \"Topic9\", \"Topic9\", \"Topic9\", \"Topic9\", \"Topic9\", \"Topic9\", \"Topic9\", \"Topic9\", \"Topic9\", \"Topic9\", \"Topic9\", \"Topic9\", \"Topic9\", \"Topic9\", \"Topic9\", \"Topic9\", \"Topic9\", \"Topic9\", \"Topic9\", \"Topic9\", \"Topic9\", \"Topic9\", \"Topic9\", \"Topic9\", \"Topic9\", \"Topic9\", \"Topic9\", \"Topic9\", \"Topic9\", \"Topic9\", \"Topic9\", \"Topic9\", \"Topic9\", \"Topic9\", \"Topic9\", \"Topic9\", \"Topic9\", \"Topic10\", \"Topic10\", \"Topic10\", \"Topic10\", \"Topic10\", \"Topic10\", \"Topic10\", \"Topic10\", \"Topic10\", \"Topic10\", \"Topic10\", \"Topic10\", \"Topic10\", \"Topic10\", \"Topic10\", \"Topic10\", \"Topic10\", \"Topic10\", \"Topic10\", \"Topic10\", \"Topic10\", \"Topic10\", \"Topic10\", \"Topic10\", \"Topic10\", \"Topic10\", \"Topic10\", \"Topic10\", \"Topic10\", \"Topic10\", \"Topic10\", \"Topic10\", \"Topic10\", \"Topic10\", \"Topic10\", \"Topic10\", \"Topic10\"], \"logprob\": [30.0, 29.0, 28.0, 27.0, 26.0, 25.0, 24.0, 23.0, 22.0, 21.0, 20.0, 19.0, 18.0, 17.0, 16.0, 15.0, 14.0, 13.0, 12.0, 11.0, 10.0, 9.0, 8.0, 7.0, 6.0, 5.0, 4.0, 3.0, 2.0, 1.0, -5.014100074768066, -5.356200218200684, -5.785099983215332, -5.882199764251709, -5.982900142669678, -6.010200023651123, -6.071100234985352, -6.168399810791016, -6.194699764251709, -6.3292999267578125, -6.402500152587891, -6.457399845123291, -6.506100177764893, -6.509399890899658, -6.526100158691406, -6.531599998474121, -6.566400051116943, -6.577000141143799, -6.618100166320801, -6.5991997718811035, -6.616499900817871, -6.664100170135498, -6.672100067138672, -6.679699897766113, -6.687699794769287, -6.724899768829346, -6.728300094604492, -6.743800163269043, -6.763299942016602, -6.775100231170654, -5.592100143432617, -4.428800106048584, -5.6946001052856445, -4.882500171661377, -6.213799953460693, -5.388899803161621, -4.723299980163574, -5.811500072479248, -5.324399948120117, -5.285799980163574, -6.047299861907959, -5.576300144195557, -5.347099781036377, -5.848999977111816, -5.128799915313721, -5.2677001953125, -5.68149995803833, -4.928999900817871, -4.952300071716309, -5.695899963378906, -5.556099891662598, -5.074900150299072, -4.9278998374938965, -5.546899795532227, -5.400599956512451, -5.40880012512207, -5.3155999183654785, -5.469299793243408, -5.580100059509277, -5.278800010681152, -5.4257001876831055, -5.577300071716309, -5.532899856567383, -5.5543999671936035, -5.600299835205078, -3.4442999362945557, -3.5562000274658203, -4.19379997253418, -4.838900089263916, -4.993800163269043, -4.998000144958496, -5.445300102233887, -5.525400161743164, -5.565400123596191, -5.624100208282471, -5.804699897766113, -5.807199954986572, -5.852700233459473, -5.911099910736084, -5.932600021362305, -5.965799808502197, -5.971799850463867, -6.001800060272217, -6.020699977874756, -6.07390022277832, -6.1280999183654785, -6.157599925994873, -6.154300212860107, -6.219099998474121, -6.258200168609619, -6.315800189971924, -6.336299896240234, -6.344799995422363, -6.341800212860107, -6.433499813079834, -6.394499778747559, -5.921800136566162, -4.49459981918335, -5.277599811553955, -4.613999843597412, -5.562399864196777, -4.577199935913086, -4.6981000900268555, -5.3308000564575195, -5.693600177764893, -5.531599998474121, -4.961900234222412, -5.247200012207031, -5.4369001388549805, -5.179699897766113, -5.44379997253418, -5.586400032043457, -5.542699813842773, -5.558899879455566, -5.66540002822876, -5.65310001373291, -5.739200115203857, -5.717800140380859, -4.661200046539307, -4.748300075531006, -4.787399768829346, -5.232500076293945, -5.353700160980225, -5.383699893951416, -5.407700061798096, -5.4756999015808105, -5.493500232696533, -5.649499893188477, -5.720699787139893, -5.778500080108643, -5.81820011138916, -5.871799945831299, -5.845300197601318, -5.876299858093262, -5.91379976272583, -5.9191999435424805, -5.936699867248535, -5.968100070953369, -5.9969000816345215, -6.009099960327148, -6.019499778747559, -6.069799900054932, -6.105100154876709, -6.177199840545654, -6.258500099182129, -6.341899871826172, -6.366099834442139, -6.4182000160217285, -5.470399856567383, -4.3902997970581055, -4.794300079345703, -4.797800064086914, -4.410099983215332, -5.71120023727417, -4.918399810791016, -5.2382001876831055, -5.5121002197265625, -5.417900085449219, -4.85230016708374, -4.735400199890137, -4.842899799346924, -4.900899887084961, -5.206399917602539, -5.520199775695801, -5.069499969482422, -5.172299861907959, -5.050099849700928, -5.2083001136779785, -5.387700080871582, -5.106299877166748, -5.246600151062012, -5.385499954223633, -5.324399948120117, -5.405700206756592, -5.440800189971924, -3.9137001037597656, -4.338600158691406, -4.372099876403809, -4.874599933624268, -5.0131001472473145, -5.037799835205078, -5.07420015335083, -5.115499973297119, -5.116199970245361, -5.137599945068359, -5.201399803161621, -5.237500190734863, -5.239699840545654, -5.28879976272583, -5.367800235748291, -5.46750020980835, -5.497000217437744, -5.551400184631348, -5.6149001121521, -5.696400165557861, -5.742599964141846, -5.750199794769287, -5.785900115966797, -5.78410005569458, -5.8302001953125, -5.853000164031982, -5.905200004577637, -5.915200233459473, -5.941800117492676, -6.003900051116943, -3.7551000118255615, -4.646900177001953, -4.193600177764893, -4.552299976348877, -4.253499984741211, -4.463200092315674, -4.6402997970581055, -5.241700172424316, -4.763800144195557, -5.091599941253662, -5.320799827575684, -4.338699817657471, -4.9807000160217285, -4.845699787139893, -5.021200180053711, -4.999100208282471, -5.146399974822998, -5.003399848937988, -5.225599765777588, -5.237500190734863, -3.994800090789795, -4.553899765014648, -4.706600189208984, -4.770999908447266, -4.822000026702881, -4.923500061035156, -4.978400230407715, -5.01639986038208, -5.0903000831604, -5.214700222015381, -5.230299949645996, -5.3379998207092285, -5.12939977645874, -5.509799957275391, -5.532299995422363, -5.654900074005127, -5.717899799346924, -5.728600025177002, -5.873199939727783, -5.9166998863220215, -5.955900192260742, -5.971499919891357, -5.997600078582764, -5.983399868011475, -6.038000106811523, -6.031499862670898, -6.046000003814697, -6.0945000648498535, -5.951900005340576, -6.11899995803833, -4.003900051116943, -5.379199981689453, -5.408599853515625, -3.711699962615967, -4.4766998291015625, -5.36959981918335, -5.4710001945495605, -4.771999835968018, -4.617199897766113, -5.279300212860107, -5.033999919891357, -4.565400123596191, -5.475399971008301, -4.9232001304626465, -5.063399791717529, -4.939199924468994, -5.144899845123291, -5.313399791717529, -5.195400238037109, -5.371099948883057, -4.8933000564575195, -4.93720006942749, -5.04580020904541, -5.1230998039245605, -5.128900051116943, -5.230599880218506, -5.375899791717529, -4.934599876403809, -5.479400157928467, -5.493000030517578, -5.542200088500977, -5.567999839782715, -5.695199966430664, -5.720799922943115, -5.734799861907959, -5.767600059509277, -5.718999862670898, -5.765699863433838, -5.845099925994873, -5.895199775695801, -5.913599967956543, -5.982100009918213, -6.019100189208984, -6.027900218963623, -6.0696001052856445, -6.0696001052856445, -6.07889986038208, -6.139900207519531, -6.156700134277344, -6.171599864959717, -4.667799949645996, -3.9402999877929688, -3.9179999828338623, -4.055600166320801, -5.454899787902832, -4.89139986038208, -4.341800212860107, -4.304999828338623, -4.474899768829346, -5.319699764251709, -4.390699863433838, -4.7006001472473145, -4.208399772644043, -4.926499843597412, -5.437699794769287, -4.985499858856201, -5.073599815368652, -4.917399883270264, -4.946400165557861, -5.10830020904541, -5.228899955749512, -5.320199966430664, -5.2743000984191895, -5.336400032043457, -4.285799980163574, -4.369699954986572, -4.634699821472168, -4.6859002113342285, -4.78879976272583, -5.003300189971924, -5.157100200653076, -5.170599937438965, -5.195300102233887, -5.267600059509277, -5.470799922943115, -5.493000030517578, -5.545100212097168, -5.566699981689453, -5.593500137329102, -5.617000102996826, -5.63670015335083, -5.628699779510498, -5.649899959564209, -5.663700103759766, -5.774700164794922, -5.789000034332275, -5.831200122833252, -5.812399864196777, -5.852399826049805, -5.883200168609619, -5.917300224304199, -5.900100231170654, -5.906700134277344, -5.91480016708374, -4.660099983215332, -5.9145002365112305, -4.033999919891357, -4.486499786376953, -4.089300155639648, -4.436699867248535, -5.440899848937988, -3.856600046157837, -4.998199939727783, -5.263599872589111, -4.775700092315674, -4.660099983215332, -5.18209981918335, -5.196199893951416, -5.188600063323975, -5.080900192260742, -5.248600006103516, -5.320300102233887, -4.942699909210205, -5.1458001136779785, -5.158199787139893, -5.259399890899658, -5.155799865722656, -5.130000114440918, -5.224599838256836, -4.13100004196167, -4.183199882507324, -4.488399982452393, -4.533199787139893, -4.551499843597412, -4.561600208282471, -4.719799995422363, -4.782800197601318, -4.8140997886657715, -4.953999996185303, -5.040999889373779, -5.035200119018555, -5.122499942779541, -5.156099796295166, -5.267300128936768, -5.3628997802734375, -5.361000061035156, -5.390699863433838, -5.486599922180176, -5.50540018081665, -5.507199764251709, -5.526100158691406, -5.552800178527832, -5.571400165557861, -5.590099811553955, -5.6178998947143555, -5.6209001541137695, -5.616499900817871, -5.615699768066406, -5.666800022125244, -4.16379976272583, -4.901700019836426, -5.254700183868408, -4.263700008392334, -5.309999942779541, -5.1149001121521, -4.849999904632568, -4.293000221252441, -5.190299987792969, -4.883500099182129, -5.438899993896484, -4.742400169372559, -5.271900177001953, -4.823200225830078, -5.222599983215332, -5.2153000831604, -3.958699941635132, -3.9428000450134277, -4.061100006103516, -4.168600082397461, -4.357399940490723, -4.55079984664917, -4.6732001304626465, -4.999100208282471, -5.061299800872803, -5.148499965667725, -5.149700164794922, -4.887499809265137, -5.230400085449219, -5.307700157165527, -5.405799865722656, -5.416200160980225, -5.415200233459473, -5.4552001953125, -5.481100082397461, -5.511099815368652, -5.533999919891357, -5.603799819946289, -5.59689998626709, -5.633699893951416, -5.634099960327148, -5.647500038146973, -5.686999797821045, -5.7540998458862305, -5.767300128936768, -5.782899856567383, -5.764100074768066, -5.023200035095215, -2.8566999435424805, -4.843699932098389, -4.646200180053711, -4.024899959564209, -4.538400173187256, -5.040200233459473, -5.037199974060059, -4.323800086975098, -4.9822998046875, -4.872900009155273, -4.966100215911865, -4.810500144958496, -5.216300010681152, -5.032899856567383, -5.240600109100342, -5.295899868011475, -3.3122000694274902, -3.7188000679016113, -3.7736001014709473, -4.2129998207092285, -4.5457000732421875, -4.615900039672852, -4.615699768066406, -4.643700122833252, -4.642600059509277, -4.963399887084961, -4.969699859619141, -4.9822998046875, -4.978600025177002, -5.026500225067139, -5.022600173950195, -5.08489990234375, -5.150199890136719, -5.174900054931641, -5.24459981918335, -5.277599811553955, -5.283400058746338, -5.299200057983398, -5.3024001121521, -5.339799880981445, -5.360400199890137, -5.395299911499023, -5.393599987030029, -5.440000057220459, -5.446499824523926, -5.481200218200684, -5.349699974060059, -4.6656999588012695, -5.2154998779296875, -4.799799919128418, -5.182600021362305, -5.2322998046875, -5.343400001525879], \"loglift\": [30.0, 29.0, 28.0, 27.0, 26.0, 25.0, 24.0, 23.0, 22.0, 21.0, 20.0, 19.0, 18.0, 17.0, 16.0, 15.0, 14.0, 13.0, 12.0, 11.0, 10.0, 9.0, 8.0, 7.0, 6.0, 5.0, 4.0, 3.0, 2.0, 1.0, 1.5775, 1.5775, 1.5774, 1.5774, 1.5774, 1.5774, 1.5774, 1.5773, 1.5773, 1.5773, 1.5773, 1.5773, 1.5773, 1.5773, 1.5773, 1.5773, 1.5773, 1.5773, 1.5773, 1.5772, 1.5772, 1.5772, 1.5772, 1.5772, 1.5772, 1.5772, 1.5772, 1.5772, 1.5772, 1.5772, 1.5698, 1.53, 1.554, 1.483, 1.5421, 1.4795, 1.4168, 1.5085, 1.456, 1.4264, 1.5024, 1.4153, 1.3538, 1.4482, 1.3098, 1.2759, 1.3769, 1.1706, 1.1651, 1.3706, 1.3212, 1.1426, 1.0656, 1.2627, 1.1569, 1.106, 1.0152, 1.11, 1.1457, 0.7463, 0.8631, 0.7957, 0.5626, 0.2476, 0.5613, 1.7734, 1.7734, 1.7734, 1.7733, 1.7733, 1.7733, 1.7733, 1.7733, 1.7733, 1.7732, 1.7732, 1.7732, 1.7732, 1.7732, 1.7732, 1.7732, 1.7732, 1.7732, 1.7732, 1.7732, 1.7732, 1.7732, 1.7732, 1.7731, 1.7731, 1.7731, 1.7731, 1.7731, 1.7731, 1.7731, 1.7731, 1.7591, 1.4884, 1.609, 1.4314, 1.5889, 1.259, 1.2744, 1.4422, 1.5229, 1.4086, 1.0104, 1.0246, 1.1364, 0.6469, 0.8687, 0.9241, 0.4509, 0.4536, 0.8009, 0.3061, 0.9856, 0.5355, 1.8852, 1.8852, 1.8852, 1.8852, 1.8852, 1.8851, 1.8851, 1.8851, 1.8851, 1.8851, 1.8851, 1.8851, 1.8851, 1.8851, 1.8851, 1.8851, 1.8851, 1.8851, 1.8851, 1.8851, 1.885, 1.885, 1.885, 1.885, 1.885, 1.885, 1.885, 1.885, 1.8849, 1.8849, 1.8558, 1.7887, 1.7858, 1.7013, 1.6433, 1.8151, 1.5904, 1.6342, 1.6907, 1.6327, 1.3761, 1.2771, 1.3092, 1.2217, 1.4232, 1.5782, 1.1366, 1.2062, 0.9222, 1.117, 1.3449, 0.6956, 0.7126, 1.125, 0.3867, 0.4305, 0.89, 1.9857, 1.9857, 1.9857, 1.9856, 1.9856, 1.9856, 1.9856, 1.9856, 1.9856, 1.9856, 1.9856, 1.9856, 1.9856, 1.9856, 1.9856, 1.9856, 1.9856, 1.9855, 1.9855, 1.9855, 1.9855, 1.9855, 1.9855, 1.9855, 1.9855, 1.9855, 1.9855, 1.9855, 1.9855, 1.9855, 1.9233, 1.8896, 1.8253, 1.8214, 1.7786, 1.7824, 1.7348, 1.861, 1.7326, 1.7784, 1.83, 1.3724, 1.6713, 1.4669, 1.4138, 1.3739, 1.5715, 1.0921, 1.6682, 1.6302, 2.531, 2.5309, 2.5309, 2.5309, 2.5309, 2.5309, 2.5309, 2.5309, 2.5308, 2.5308, 2.5308, 2.5308, 2.5308, 2.5308, 2.5307, 2.5307, 2.5307, 2.5307, 2.5306, 2.5306, 2.5306, 2.5306, 2.5306, 2.5306, 2.5306, 2.5306, 2.5306, 2.5305, 2.5305, 2.5305, 2.4837, 2.4993, 2.4879, 2.2334, 2.2731, 2.3971, 2.4004, 2.1035, 2.0042, 2.252, 2.0929, 1.799, 2.2497, 1.6017, 1.3151, 1.02, 1.4868, 1.6073, 0.6311, 0.9752, 2.7147, 2.7147, 2.7146, 2.7146, 2.7146, 2.7146, 2.7146, 2.7145, 2.7145, 2.7145, 2.7145, 2.7145, 2.7145, 2.7144, 2.7144, 2.7144, 2.7144, 2.7144, 2.7144, 2.7144, 2.7144, 2.7143, 2.7143, 2.7143, 2.7143, 2.7143, 2.7143, 2.7143, 2.7142, 2.7142, 2.6422, 2.3384, 2.3037, 2.2942, 2.5849, 2.4492, 2.2521, 2.1019, 2.1585, 2.4451, 1.9856, 2.1321, 1.7641, 2.1836, 2.4531, 1.8305, 1.7095, 1.447, 1.3427, 1.6679, 1.9415, 1.9296, 0.5523, 1.2365, 2.7405, 2.7404, 2.7404, 2.7404, 2.7404, 2.7404, 2.7403, 2.7403, 2.7403, 2.7403, 2.7402, 2.7402, 2.7402, 2.7402, 2.7402, 2.7402, 2.7402, 2.7402, 2.7402, 2.7402, 2.7401, 2.7401, 2.7401, 2.7401, 2.7401, 2.7401, 2.7401, 2.7401, 2.7401, 2.7401, 2.7319, 2.7401, 2.6465, 2.608, 2.5101, 2.5509, 2.6522, 2.1685, 2.4404, 2.5176, 2.1863, 1.8955, 2.2851, 2.1611, 2.1482, 1.9249, 2.1662, 2.1445, 1.2189, 1.6708, 1.6122, 1.9289, 1.0503, 0.853, 0.8207, 2.9733, 2.9733, 2.9732, 2.9732, 2.9732, 2.9732, 2.9732, 2.9732, 2.9732, 2.9731, 2.9731, 2.9731, 2.9731, 2.9731, 2.9731, 2.973, 2.973, 2.973, 2.973, 2.973, 2.973, 2.973, 2.973, 2.9729, 2.9729, 2.9729, 2.9729, 2.9729, 2.9729, 2.9729, 2.8755, 2.8719, 2.8814, 2.5529, 2.868, 2.7238, 2.5625, 2.142, 2.6221, 1.6722, 2.8318, 1.2897, 2.3903, 0.9788, 1.7675, 0.83, 3.2053, 3.2053, 3.2053, 3.2053, 3.2052, 3.2052, 3.2052, 3.2051, 3.2051, 3.2051, 3.2051, 3.205, 3.205, 3.205, 3.205, 3.2049, 3.2049, 3.2049, 3.2049, 3.2049, 3.2049, 3.2049, 3.2049, 3.2049, 3.2048, 3.2048, 3.2048, 3.2048, 3.2048, 3.2048, 3.2048, 3.1791, 3.0877, 3.158, 3.1331, 3.0123, 3.011, 2.7355, 2.5437, 1.5028, 2.2687, 1.9441, 2.024, 1.3121, 2.5167, 1.4819, 1.7167, 1.4727, 3.4207, 3.4207, 3.4207, 3.4206, 3.4205, 3.4205, 3.4205, 3.4205, 3.4205, 3.4204, 3.4204, 3.4204, 3.4204, 3.4204, 3.4204, 3.4204, 3.4203, 3.4203, 3.4203, 3.4203, 3.4203, 3.4203, 3.4203, 3.4203, 3.4202, 3.4202, 3.4202, 3.4202, 3.4202, 3.4202, 3.4201, 2.9693, 3.1188, 1.0364, 2.1194, 2.1093, 1.9935]}, \"token.table\": {\"Topic\": [1, 2, 3, 4, 6, 1, 1, 4, 7, 8, 5, 9, 9, 7, 1, 2, 1, 2, 4, 6, 8, 4, 1, 3, 5, 6, 7, 3, 4, 1, 2, 1, 2, 3, 4, 5, 6, 3, 2, 2, 6, 4, 6, 8, 2, 4, 9, 1, 3, 4, 7, 8, 2, 2, 4, 5, 6, 4, 10, 1, 3, 4, 6, 7, 8, 5, 8, 1, 2, 3, 4, 5, 9, 6, 7, 1, 4, 4, 5, 1, 2, 3, 4, 5, 6, 9, 1, 2, 3, 4, 5, 6, 7, 8, 9, 10, 2, 3, 7, 10, 10, 7, 2, 10, 8, 8, 10, 7, 7, 8, 4, 2, 7, 5, 2, 2, 8, 1, 2, 3, 7, 2, 4, 7, 8, 1, 2, 3, 4, 7, 8, 10, 7, 10, 3, 1, 2, 3, 5, 6, 7, 10, 2, 3, 5, 1, 2, 2, 2, 4, 4, 7, 4, 7, 2, 3, 7, 3, 1, 4, 8, 1, 1, 2, 3, 7, 1, 3, 9, 1, 2, 5, 10, 7, 10, 1, 4, 6, 8, 1, 5, 4, 8, 7, 1, 4, 1, 2, 8, 1, 4, 7, 8, 7, 8, 6, 1, 4, 6, 7, 8, 4, 5, 6, 9, 7, 8, 7, 1, 1, 1, 3, 8, 10, 2, 10, 1, 2, 3, 4, 5, 7, 1, 3, 3, 3, 5, 5, 6, 1, 2, 3, 4, 5, 6, 7, 8, 9, 10, 1, 2, 3, 4, 5, 1, 3, 7, 7, 8, 1, 2, 4, 6, 9, 4, 4, 9, 6, 8, 1, 3, 4, 7, 10, 5, 10, 1, 2, 3, 4, 5, 6, 7, 1, 2, 3, 4, 5, 6, 7, 8, 9, 10, 2, 10, 3, 1, 2, 3, 4, 5, 6, 8, 9, 4, 2, 2, 10, 1, 2, 3, 5, 1, 3, 4, 7, 3, 1, 1, 2, 6, 7, 8, 5, 10, 1, 2, 1, 4, 8, 4, 9, 7, 2, 4, 5, 4, 2, 8, 6, 9, 6, 1, 1, 1, 4, 8, 1, 2, 3, 4, 5, 6, 7, 8, 9, 10, 1, 2, 3, 4, 5, 6, 7, 8, 9, 10, 9, 1, 2, 3, 4, 6, 4, 6, 2, 4, 6, 8, 1, 2, 4, 5, 6, 7, 2, 4, 6, 8, 1, 2, 3, 5, 6, 2, 6, 10, 6, 1, 4, 5, 6, 5, 1, 3, 1, 2, 3, 9, 7, 8, 8, 1, 3, 4, 7, 8, 4, 1, 7, 7, 7, 9, 6, 2, 7, 7, 5, 4, 2, 7, 5, 2, 3, 4, 1, 3, 4, 6, 7, 8, 9, 3, 5, 6, 7, 8, 10, 10, 1, 1, 6, 1, 2, 3, 5, 6, 7, 10, 7, 3, 6, 6, 1, 3, 4, 5, 6, 8, 9, 9, 9, 1, 5, 8, 5, 6, 8, 2, 4, 6, 2, 4, 4, 1, 2, 3, 6, 9, 1, 2, 3, 4, 5, 6, 7, 9, 3, 3, 1, 2, 3, 3, 2, 3, 4, 5, 6, 7, 7, 10, 10, 1, 2, 4, 7, 2, 1, 1, 3, 4, 7, 7, 10, 10, 2, 7, 8, 8, 2, 4, 1, 2, 1, 2, 3, 4, 7, 8, 2, 7, 2, 3, 5, 3, 9, 2, 1, 2, 4, 5, 7, 8, 1, 3, 1, 2, 3, 6, 10, 1, 2, 3, 4, 5, 7, 8, 10, 1, 2, 4, 1, 4, 7, 8, 6, 10, 6, 3, 5, 5, 2, 4, 6, 7, 4, 6, 7, 8, 9, 3, 4, 7, 1, 2, 7, 8, 8, 2, 5, 6, 1, 2, 3, 5, 6, 7, 10, 6, 5, 3, 3, 10, 3, 5, 8, 4, 4, 10, 6, 6, 1, 2, 3, 4, 4, 4, 8, 1, 2, 3, 9, 1, 2, 3, 4, 5, 6, 7, 10, 3, 4, 10, 10, 1, 2, 3, 4, 5, 6, 9, 1, 2, 4, 5, 9, 9, 7, 6, 7, 9, 6, 1, 5, 2, 2, 1, 2, 3, 5, 7, 8, 9, 10, 10, 1, 8, 1, 3, 4, 1, 2, 3, 4, 8, 2, 6, 1, 7, 2, 4, 6, 3, 9, 1, 3, 4, 7, 1, 4, 8, 4, 9, 1, 4, 7, 1, 2, 1, 3, 9, 9, 1, 4, 8, 8, 1, 8, 5, 6, 1, 2, 3, 4, 5, 7, 9, 1, 2, 2, 9, 1, 4, 6, 7, 8, 1, 2, 3, 4, 5, 6, 7, 8, 9, 6, 8, 1, 3, 4, 7, 8, 2, 9, 9, 2, 4, 5, 9, 2, 3, 2, 8, 1, 8, 8, 8, 5, 6, 2, 3, 4, 5, 10, 2, 1, 2, 3, 4, 5, 6, 7, 8, 9, 2, 5, 9, 1, 2, 3, 4, 1, 8, 8, 1, 6, 8, 3, 9, 2, 2, 3, 5, 9, 2, 10, 8, 1, 10, 1, 2, 4, 7, 8, 10, 3, 7, 2, 4, 2, 1, 3, 4, 7, 8, 5, 1, 10, 8, 1, 1, 3, 4, 7, 8, 2, 3, 3, 7, 7, 5, 2, 5, 6, 7, 9, 10, 1, 2, 3, 4, 5, 6, 7, 8, 9, 10, 9, 8, 9, 2, 3, 4, 5, 5, 6, 4, 8, 8, 2, 4, 4, 5, 1, 2, 3, 5, 8, 9, 9, 4, 1, 1, 2, 4, 6, 1, 4, 6, 8, 4, 1, 2, 3, 6, 7, 8, 1, 2, 5, 2, 2, 9, 9, 6, 7, 5, 10, 1, 4, 8, 5, 1, 5, 1, 2, 3, 4, 5, 7, 9, 1, 2, 3, 5, 9, 8, 4, 7, 3, 5, 3, 6, 10, 3, 6, 7, 8, 10, 5, 2, 3, 7, 8, 4, 5, 5, 2, 6, 1, 2, 3, 4, 5, 6, 7, 8, 9, 10, 9, 9, 2, 3, 5, 6, 10, 6, 8, 2, 1, 1, 4, 9, 9, 9, 1, 2, 4, 5, 6, 8, 1, 2, 4, 4, 1, 2, 3, 4, 5, 6, 10, 9, 6, 1, 2, 3, 7, 10, 3, 5, 7, 1, 2, 3, 4, 5, 6, 7, 8, 9, 10, 4, 6, 7, 1, 2, 3, 5, 6, 10, 2, 8, 9, 2, 6, 7, 8, 10, 7, 7, 2, 4, 6, 1, 2, 3, 5, 6, 10, 3, 1, 2, 6, 8, 9, 9, 6, 10, 1, 2, 3, 4, 5, 6, 10, 1, 5, 5], \"Freq\": [0.04017399609194793, 0.2792092728390381, 0.07365232616857122, 0.018747864842909034, 0.5878794761455047, 1.000002791883274, 0.10855329763084755, 0.08199238438074655, 0.5745241018228368, 0.23500634114763272, 1.0001347987894385, 0.9998134298121928, 0.9998288748491977, 1.0004539497293727, 0.9098031794367925, 0.08999451233156668, 0.004156878301837416, 0.3928249995236358, 0.00249412698110245, 0.5732335178233797, 0.027435396792126948, 0.999612772532149, 0.9989461513281659, 0.831955527266744, 0.02398823276522722, 0.1432024804469625, 0.0003634580722004124, 0.9998570993788146, 0.9992824794493398, 0.9334037526194535, 0.06608168160137724, 0.36243469256677735, 0.0643303372606805, 0.12623311462473158, 0.40928659857172583, 0.001456535937977672, 0.03617064245977886, 0.9997845290527284, 0.9995028148167702, 0.5436156143908991, 0.45583632254874257, 1.0001694095365838, 0.09294712490859484, 0.9070142256181, 0.9992590098094921, 0.04572849195372344, 0.9537656893205174, 0.1535026295330515, 0.05937365859297275, 0.013757311137396125, 0.4438543014328329, 0.32872732928304427, 0.9999765511591959, 0.6070638924674662, 0.0049372240193605805, 0.001287971483311456, 0.38639144499343675, 1.0001313544629522, 0.9981034188644429, 0.015432306012534099, 0.0025720510020890166, 0.046296918037602296, 0.0771615300626705, 0.5598497681213759, 0.29750056590829627, 0.9999801050347986, 0.9991894346695331, 0.6656514873754467, 0.15306815601310161, 0.16379267649809598, 0.004631042936702119, 0.012430694198516213, 0.00024373910193169047, 0.8788125119586884, 0.12215154606375592, 0.1869700701404254, 0.8126614597934547, 0.9999713378871594, 0.9995948077104945, 0.24101299945403606, 0.0747971377615974, 0.03213506659387148, 0.042662071167725926, 0.3972559094449284, 0.08089171935698682, 0.13075647786471842, 0.058863421688460316, 0.0002494212783409335, 0.5150549397740277, 0.16736167776676641, 0.023196178885706818, 0.06460011109030178, 0.0029930553400912027, 0.016960646927183482, 0.15065045211792386, 0.0002494212783409335, 0.28312204332052254, 0.014602283036588556, 0.4291448736864081, 0.27176471206984254, 0.9992604772726628, 0.9994159780661583, 0.3632973694839431, 0.6371851059796261, 0.9999129012362145, 1.000210916999808, 0.9999296878744605, 0.9998027026507965, 0.3430067493324206, 0.656555859348083, 1.0000904290932866, 0.9999886581387565, 0.9993732329776314, 0.9993762755641769, 1.0002396743806288, 0.13037578906799585, 0.8677470551083003, 0.029790562638843648, 0.7782784489397903, 0.14076040846853624, 0.05138872055200529, 0.710396103445114, 0.025626898759313503, 0.1466043307402169, 0.11728346459217351, 0.7995771553161198, 0.07648902709364439, 0.08493839636561673, 0.022235182294664067, 0.012896405730905159, 0.0008894072917865627, 0.0031129255212529695, 0.9990913203346311, 0.9994427200178836, 0.9998669897566385, 0.014254665285916816, 0.13357149323470202, 0.7781991344978292, 0.06335406793740807, 0.0063354067937408075, 0.004223604529160538, 0.9996234040201603, 1.0001431726885563, 0.9999996534142587, 0.9981537739202526, 0.9987468599419185, 0.9993379307248573, 0.9999110137126742, 0.9991779279833688, 1.0000371561786308, 0.9993656829587246, 0.9991059639068296, 1.0000638718581452, 0.9998004072592496, 0.6943485349453726, 0.07062129118646995, 0.23446268673908024, 1.0000632334681463, 0.9766915855319166, 0.0007690484925448162, 0.02230240628379967, 0.9993134139132464, 0.14778676233705795, 0.020015215056672413, 0.7850153533273959, 0.046779746818501805, 0.9990846449290155, 0.999812736922543, 0.9996861969676202, 0.07558296462425437, 0.27918031978328195, 0.6455193735476861, 0.9984906892752426, 0.9162247021150497, 0.08410656445196744, 0.00022784309361840446, 0.8129441580304672, 0.0011392154680920222, 0.18569212129899965, 1.000202489724814, 1.000122497602661, 0.999983045630226, 0.9993956977321486, 1.0008005871533778, 0.4575176652375935, 0.542421153534486, 0.18973950288617097, 0.7178557514736241, 0.09224111853156422, 0.15469282755267744, 0.03174216461470524, 0.793955914919716, 0.019286378500074072, 0.9987080379150707, 0.9991640097952043, 1.000601753875088, 0.020462538469952437, 0.8517812716942839, 0.01911336010929623, 0.043623433661217285, 0.06476056131149782, 0.13108067943150228, 0.3333194419829629, 0.03245807300208628, 0.5018517441091802, 0.8004429603603318, 0.19912819963137549, 0.9992894597827904, 1.0003154922427768, 0.9991359493527803, 0.9921140303139073, 0.007756399668410079, 0.9989749272494209, 1.0007078124113318, 0.9858435729574103, 0.014218897686885725, 0.28770471349166654, 0.3780960476815911, 0.13470770815074362, 0.12837679758491233, 0.07034345073145881, 0.0007034345073145881, 1.0001842406897947, 0.9992825088323766, 1.0000645500354008, 0.9999628017960897, 0.9982314240445685, 0.9989269964004251, 0.9987761804409939, 0.3286191849167263, 0.28995810433828795, 0.23992611770736766, 0.023310357407587853, 0.019614812940531242, 0.0750479799463804, 0.000284272651312047, 0.000284272651312047, 0.02274181210496376, 0.000284272651312047, 0.8127584623195342, 0.06666157735112899, 0.10255627284789075, 0.005127813642394538, 0.01153758069538771, 0.928060781390315, 0.0280600684182962, 0.04364899531734964, 0.998844545190053, 0.9995486995495465, 0.017658807113470634, 0.1403072492470303, 0.7779507206534426, 0.05779245964408571, 0.005779245964408571, 0.9999913966834627, 0.9998288108615858, 1.000401952772936, 0.29595964156683485, 0.7040866358736116, 0.04195903378727479, 0.9077929322529891, 0.04354239355283233, 0.006597332356489747, 1.000120204817806, 0.9992892325461188, 1.000385430725642, 0.26554661278102704, 0.45502755774999315, 0.10020626897397246, 0.004099347367117055, 0.141199742645143, 0.0036438643263262713, 0.03051736373298252, 0.20041993877186084, 0.5288424556265313, 0.03248995101184463, 0.030532725047275677, 0.030924170240189466, 0.04736486834256868, 0.03248995101184463, 0.00548023270079307, 0.0003914451929137907, 0.09042383956308565, 0.2596382273961003, 0.7401967009099351, 1.0002589670337925, 0.024669152385693574, 0.015418220241058484, 0.34228448935149836, 0.03777463959059329, 0.1310548720489971, 0.00925093214463509, 0.0477964827472813, 0.3916227941228855, 1.0001674971817534, 0.9995034970872411, 0.9995908939777051, 0.9998638307179697, 0.0010202960407765577, 0.22038394480773643, 0.022446512897084266, 0.7560393662154292, 0.29194874006826704, 0.6010872445090246, 0.09759350095349478, 0.009149390714390136, 1.0002172341517477, 0.9995224502529974, 0.0785251704533004, 0.7520628893966643, 0.009978336576938725, 0.15141041153702675, 0.008026053333624626, 0.9687926743733247, 0.030319889958032517, 0.9655597349856725, 0.034484276249488306, 0.338824508193875, 0.6609113571044745, 0.9995616089493625, 0.9996821324717517, 1.000101758006018, 0.9991581195234264, 0.20126062526659863, 0.20824313675543982, 0.5906383247619772, 0.9999845813120801, 1.000017567164959, 1.0001845050343054, 0.9997421066211447, 1.0004663002409926, 0.9995043687181422, 0.9994859235642053, 1.0000590190085807, 0.9065426018901291, 0.012094245848882234, 0.08097886350990713, 0.265747650573562, 0.012079438662434635, 0.2651584096631993, 0.01826646822124262, 0.16970138218444755, 0.2536682119111273, 0.00029462045518133256, 0.0014731022759066628, 0.0126686795727973, 0.0008838613655439976, 0.3378755402761134, 0.11230792606360951, 0.20272532416566802, 0.0004758810426424132, 0.0019035241705696528, 0.008565858767563437, 0.12563259525759707, 0.0033311672984968925, 0.1770277478629777, 0.029504624643829618, 0.9991083636637395, 0.0048279349449552415, 0.011104250373397054, 0.2182226595119769, 0.39975301344229397, 0.36595746882760727, 1.0001395165879123, 1.00022687503364, 0.08768278782099648, 0.04721380882669041, 0.7663812897046711, 0.097800032569573, 0.23240166828613387, 0.22410160870448623, 0.13695098309718604, 0.3519225262618599, 0.05395038728070965, 0.00041500297908238194, 0.03061365700365701, 0.22566638591267169, 0.6863290341581773, 0.05714549307349309, 0.05354656547486657, 0.07512503215876802, 0.003996012348870639, 0.237363133522916, 0.6297715461820128, 0.01308403986760196, 0.9297845830914643, 0.05642492192903345, 1.001050394532721, 0.2727254280600351, 0.00847302300769041, 0.651893207654181, 0.06619549224758134, 0.9994859413456887, 1.0001414096084258, 0.9997257644174916, 0.7740043631262281, 0.13474784663061135, 0.08594153997700409, 0.005305033331913832, 0.09620298525885118, 0.9035280372283996, 0.999838585518198, 0.2644506289425016, 0.304272078885931, 0.19114295972846113, 0.10389778303422034, 0.13611695617026778, 0.999402822745129, 0.43555678830703476, 0.5643005870325947, 0.9999409574142613, 1.000560184441199, 1.0001172763796313, 1.000028209854739, 0.17237390236647127, 0.8275132013950527, 1.000212797106458, 1.0008699793974787, 1.0000368258968413, 0.12393477153258954, 0.8761133583341038, 0.9983730932468089, 0.09861084899566823, 0.7359413696857925, 0.16545444462360442, 0.12239003741019429, 0.7766089487213874, 0.035329082963767425, 0.009463147222437704, 0.022711553333850488, 0.025235059259833874, 0.007570517777950162, 0.31227123629482906, 0.009283739457413837, 0.09199341825982801, 0.20677419700603544, 0.10971692086034533, 0.26922844426500125, 1.0008013162431604, 0.9998781400280493, 0.9997637795966153, 0.9994032844597879, 0.03414748858950419, 0.07183858448546637, 0.5070579909422605, 0.2963744292673949, 0.006120776256609242, 0.04896621005287394, 0.035436073064579826, 0.9985599934628012, 0.9999459724616755, 1.0001609811641283, 0.9995483572932554, 0.2202575938420771, 0.23524110362725242, 0.004495052935552594, 0.20527408405690178, 0.04994503261725104, 0.000998900652345021, 0.28318833493981344, 1.0003216315911398, 0.9995424551668909, 0.7298176194600405, 0.04710100125591294, 0.22261420593584116, 0.9994660521123419, 1.0002608164828373, 0.9984191945095704, 0.09600843495483882, 0.7281538606125416, 0.17583567300717673, 0.15132094080642713, 0.8486155303275691, 1.0000794651722036, 0.23218325540806048, 0.23563152157748712, 0.05747110282377735, 0.24884987522695592, 0.22586143409744497, 0.010548298659023228, 0.2459671460035871, 0.06616660067932752, 0.0043152130877822294, 0.3198052366167497, 0.35097066447295466, 0.0014384043625940766, 1.0001616148858683, 0.999802704242334, 0.9999268071635096, 0.18856080032126996, 0.24918797862620143, 0.5620858734372461, 0.9996808376879046, 0.3333713344830924, 0.17998921814814847, 0.01525995545169085, 0.0915597327101451, 0.22811676995732733, 0.15181699269887308, 0.9997889107414953, 1.0005745624109803, 1.0002594882035303, 0.1972575519531963, 0.07419779477138577, 0.2859329652165598, 0.4421705981091526, 1.0003415615544748, 0.9997237821612761, 0.006536511196216031, 0.021788370654053438, 0.06144320524443069, 0.9103181259263526, 0.9994531552322355, 1.0000919940916089, 0.9993085322107415, 1.0003880901582423, 0.9992711621908558, 1.000352874248416, 1.0003037227774305, 0.40475736973454207, 0.5953733590581118, 0.1515437900249659, 0.8482168318005158, 0.03995641637804242, 0.03541591451690124, 0.2796949146462969, 0.034507814144673, 0.5630222307815068, 0.04631311898364007, 0.007988722608341494, 0.9914892392797165, 0.1909607238039961, 0.41399688168444465, 0.394975403336781, 0.9991719973819747, 0.9991707241908072, 0.9996546928351012, 0.3620392121673666, 0.07676476131915509, 0.28319972756931544, 0.002074723278896084, 0.2183646251038128, 0.05731423057950431, 1.0000073784359387, 0.9997429866335712, 0.0077067737115872935, 0.22276245918730891, 0.7446211362290771, 0.024588278032207082, 0.9998341334780125, 0.4894929031091941, 0.16699306622317273, 0.20321907529804087, 0.0002945203989826679, 0.0005890407979653358, 0.13017801635033924, 0.008835611969480038, 0.0002945203989826679, 0.8504562328438281, 0.12191855086222711, 0.027357333364207058, 0.2138519546490556, 0.730060930326677, 0.03938263719279638, 0.01651529946794687, 0.99822598586667, 1.000434738195121, 0.9990182816798394, 0.9994878729594336, 0.99921357268746, 0.99943921555778, 0.26775371368095274, 0.22661028588844143, 0.4821495444434924, 0.023143178133287635, 0.3268098578170311, 0.6567500782568307, 0.014712704327011937, 0.0003130362622768497, 0.0015651813113842486, 0.8234603118191319, 0.15279192226438842, 0.023506449579136682, 0.1416402956975083, 0.8317006525686202, 0.02162979885035841, 0.004884148127500287, 1.0004177752584535, 0.99981360540306, 0.9989229540823622, 1.0002654968792795, 0.021302048572944248, 0.16227148765860472, 0.011277555126852839, 0.7426478894646054, 0.05262859059197991, 0.008562588151869747, 0.0010442180673011887, 0.9991558144611501, 0.999978562212122, 0.9993034082524374, 1.0002431953964286, 1.0006514954120458, 0.10035050046967786, 0.8773500898206121, 0.02150367867207383, 0.9997065646551547, 0.9999645639644369, 0.999864454580522, 0.9998270102072142, 0.999482598576615, 0.14279514911970204, 0.09205659497647457, 0.2234479648262004, 0.5415968792422032, 1.0000073183452718, 0.5645150521076027, 0.43531746469891824, 0.6239880669914695, 0.08861368998695425, 0.10855177023401895, 0.17833505109874542, 0.3506720064404705, 0.02688078098149948, 0.463693471930866, 0.019549658895635987, 0.0064147318251305575, 0.0021382439417101857, 0.12890556334309977, 0.0009163902607329368, 1.0004992225895077, 0.9990517463937797, 0.9992624164472833, 1.0009402758264665, 0.6472498476546673, 0.08831120802745886, 0.09626470191813061, 0.005759426610486447, 0.16098968668359734, 0.0002742584100231641, 0.0008227752300694924, 0.16726185741762115, 0.20049979062240483, 0.09328065125213487, 0.022516019267756694, 0.5157240603709986, 1.000430992173339, 0.9997780510478211, 1.0010846450873119, 0.998750563439963, 1.0001366712296746, 0.9986870297343823, 0.22697952184853737, 0.7724776319701252, 1.0001389579650428, 1.000369615288898, 0.8183524994372704, 0.022255118477315046, 0.0635860527923287, 0.04705367906632324, 0.01716823425392875, 0.0031793026396164355, 0.024798560589008194, 0.0038151631675397224, 1.0009414131347, 0.9994991613091568, 1.0007885070537152, 0.8594761070462955, 0.046774209907281386, 0.09354841981456277, 0.7649391707567295, 0.1447089755054099, 0.032499651709252814, 0.04002588684192189, 0.01744718144391467, 1.0003875478119926, 0.9996059455069787, 0.9997657652651953, 0.9986405048055421, 0.06728518590474619, 0.3907844048359397, 0.5419274825333006, 1.0002678846539887, 0.9999271605996061, 0.026732456124033386, 0.41339833934665915, 0.008592575182725017, 0.5508795422702594, 0.1465340597104376, 0.2953940568765964, 0.5582249893730956, 1.0001663659493323, 0.9983227181548702, 0.8783895800378259, 0.01211015046008032, 0.10899135414072288, 0.7394725607999693, 0.26029738137100666, 1.000154596838524, 0.06929477110984013, 0.9309033401925693, 1.0007346801338188, 0.9534485754784496, 0.035571699018516444, 0.01079855148776392, 0.9991957918768567, 0.22059813815625823, 0.7797242367535668, 1.0003693901751738, 0.9989435035936477, 0.11573368345702159, 0.2672152228081039, 0.5442611059870744, 0.0708254394901078, 0.0015639686953651565, 0.9996527726313259, 0.9996151363488371, 0.9991592299217169, 0.9997492253781186, 0.9999194285560257, 1.0008924310775034, 0.15877394634638275, 0.7764698472008034, 0.013412410992730963, 0.034437271467822744, 0.016674889342314172, 0.8515524358874924, 0.016498035270547544, 0.008375925598893368, 0.08985083824267431, 0.0068530300354582106, 0.000253815927239193, 0.000253815927239193, 0.011421716725763684, 0.014721323779873194, 0.08779458059334136, 0.9115692623308636, 0.6492233167679282, 0.14178964291771465, 0.06291630457442, 0.019604355773188843, 0.1262885243993793, 0.1755493869648297, 0.8242105969554415, 1.000141838870286, 0.11221234003199881, 0.016624050375110937, 0.04779414482844394, 0.8228904935679913, 0.029088801390305744, 0.9707348578250603, 0.3370372187434366, 0.6632022691403108, 0.9994109954071058, 0.9995261525532406, 1.0002969463744704, 0.9984653443350717, 0.7542530287905971, 0.2452251226609823, 0.28002760270845534, 0.582549225962344, 0.03167525342112036, 0.09318951368822366, 0.012394664382177532, 1.0000287655983728, 0.006985434346131932, 0.16266082834564355, 0.0858210505381923, 0.2110599091724148, 0.06286890911518739, 0.4131385456140885, 0.0004989595961522809, 0.0004989595961522809, 0.055883474769055454, 0.04967722746085219, 0.06115725901693147, 0.8889718981334851, 0.6620614686205379, 0.0833780560181787, 0.010174108026027757, 0.24417859262466618, 0.999454595480286, 0.9990131960175881, 0.9993650060516618, 0.9998626709212743, 0.9997511430541404, 0.999454821249892, 0.02594649022631947, 0.9739913254187617, 0.9998045892616301, 0.06582345285407523, 0.9053680910527594, 0.011824572368995551, 0.016948553728893624, 0.9995407546895886, 1.0000087793572288, 1.0001362798587798, 0.9992745692938619, 0.9991016676099339, 0.0009569168128185635, 0.23444461914054807, 0.1023900989715863, 0.6344358468987076, 0.02775058757173834, 0.9998361538399461, 0.9993784429535021, 1.000529056883598, 0.9997710862051525, 0.9996781873826898, 1.0003847361077909, 0.06805668895618563, 0.4731431164483822, 0.16756587161323794, 0.184376687211977, 0.10655887952103965, 0.9996756299615635, 0.9999311074690799, 1.0002528968864062, 1.000342684052127, 1.0006243745641448, 0.3155960791829652, 0.019069249497460132, 0.3136891542332192, 0.32370051021938573, 0.02765041177131719, 0.0670072743969253, 0.9320102711572337, 0.9992401201337988, 0.9996857208312337, 0.9992170165031116, 1.0001505353675948, 0.9997465966030457, 0.20696760781279822, 0.46158755144503794, 0.05618708253337133, 0.2617322325605146, 0.012802120070894735, 0.05879494508238704, 0.18826260193047165, 0.014847208354138143, 0.04988662006990416, 0.014847208354138143, 0.061170498419049146, 0.0005938883341655256, 0.29931972041942495, 0.30704026876357676, 0.005344995007489731, 1.0008692582096024, 1.000152750707764, 0.9995234659327057, 0.02711268913777384, 0.018075126091849227, 0.08004698697818943, 0.8740614545844233, 1.0001663596745443, 0.9994487020240286, 0.8557337202850359, 0.1436684159565749, 0.9991529337182897, 0.06046766202359303, 0.9394883044036028, 0.9993104563838802, 1.000112158951061, 0.5697944587590382, 0.018430009447731693, 0.36952168942702046, 0.001535834120644308, 0.002150167768902031, 0.03808868619197883, 0.9992919656001582, 0.9999466173526143, 0.9992055679000212, 0.22120229245709513, 0.07776232608943012, 0.7009117770493228, 0.9997515063028792, 0.1839181737308539, 0.8160663751585281, 0.09934790741500536, 0.8999751612888721, 0.9999530576770023, 0.09923000010864562, 0.03384589150992564, 0.06384565898463244, 0.10115306212625502, 0.4296120547339425, 0.2723055816934926, 0.004670909297840455, 0.04131958225012711, 0.9539433989051085, 0.9998709951707638, 0.3739115998770371, 0.6253573795852885, 0.9996673225874876, 0.9984594462183523, 0.9992334333011028, 0.9986021234783428, 0.9987082087058956, 0.8854801887075618, 0.10641170293875539, 0.007704014692398581, 0.9991216109697736, 0.9994295056693598, 0.9997982288068771, 0.23111028811820988, 0.23047478778424596, 0.30948866264042585, 0.006566836784293773, 0.2207304493301326, 0.0004236668893092757, 0.0008473337786185514, 0.41396148710154385, 0.15316886975648683, 0.20588890843030816, 0.21088015469528532, 0.01559764457805365, 0.9987967114291831, 0.9997817353047991, 1.0003917714752175, 1.0001039996148107, 0.9998415497790879, 0.9999313197520039, 1.0002630113316564, 0.9992986566626262, 0.999561516332618, 0.19807747646863708, 0.7402331984461743, 0.04835694261206164, 0.01208923565301541, 0.9990755921176467, 0.4275341923220507, 0.46760403493864877, 0.10440215874416371, 1.000914303967185, 0.882644912173088, 0.11697703655305987, 1.0002157025283827, 0.9999183855883351, 0.9984652902724273, 0.04507868360450858, 0.32408419858879217, 0.0025971258043749803, 0.16825665032629336, 0.14952024273758815, 0.11501557133660627, 0.00037101797205356857, 0.0005565269580803529, 0.18216982427830217, 0.01205808409174098, 0.9999660707370351, 0.9997172704924784, 0.12424668340017267, 0.00584690274824342, 0.09647389534601643, 0.7703294370810706, 0.00292345137412171, 0.9991570344638567, 0.9986056508643074, 0.9999824195496771, 1.000336603472141, 0.6566069073682355, 0.31057814984671234, 0.03275327882998827, 0.9998680374714739, 0.9980556049724486, 0.2024617669880043, 0.0050742297490727895, 0.183687116916435, 0.045668067741655105, 0.5581652723980068, 0.004059383799258231, 0.03622244439492625, 0.055465617979730826, 0.9085796469060669, 0.999954593220786, 0.5993661375249276, 0.26636059147505015, 0.0008769072970372021, 0.0013153609455558032, 0.11487485591187348, 0.016880465467966142, 0.00021922682425930053, 1.0001969881182864, 0.9990076075042322, 0.006368374744835811, 0.5978780054563503, 0.23338220388427708, 0.06986481705363992, 0.09215412866056526, 0.9999972244325044, 1.0000712279411217, 0.9979900096686155, 0.0917919426390867, 0.47285880861081575, 0.05270073678332423, 0.03214165814807137, 0.18618996566855758, 0.09121281366344579, 0.0002895644878204628, 0.0002895644878204628, 0.0723911219551157, 0.0002895644878204628, 0.007731941521531174, 0.7641735537113311, 0.22809227488516964, 0.006009364509201172, 0.4661549897851766, 0.3818092664953173, 0.1077393208435353, 0.03798776850459312, 0.9984816463109775, 1.0004945869741402, 1.0003956816307542, 0.9982755568454023, 0.04535952117798808, 0.07307922856453636, 0.5527141654651141, 0.08819906895719905, 0.24023746401675172, 0.9995773355134869, 1.0000394001499902, 0.16029376569099857, 0.17681889617460667, 0.6629331512340784, 0.10353118550520662, 0.2062341215263716, 0.6298837326136771, 0.048866719558457526, 0.001656498968083306, 0.00952486906647901, 1.0002854657408367, 0.6265417462125307, 0.18233113041885712, 0.10475179414992655, 0.0586767568734551, 0.027566261618401724, 0.9978992789476085, 0.998047319289596, 0.9991654213789407, 0.08512668900651621, 0.12737239661049626, 0.024775678143687554, 0.0003176368992780455, 0.48090226550696097, 0.28142629276034836, 0.9986062238655294, 0.041157788331285125, 0.9583884997142108, 0.9993188141254543], \"Term\": [\"absolutely\", \"absolutely\", \"absolutely\", \"absolutely\", \"absolutely\", \"absolutely_loved\", \"access\", \"access\", \"access\", \"access\", \"activity\", \"added_bonus\", \"advisor\", \"affinia\", \"airport\", \"airport\", \"amazing\", \"amazing\", \"amazing\", \"amazing\", \"amazing\", \"amsterdam\", \"aqua_palm\", \"arrived\", \"arrived\", \"arrived\", \"arrived\", \"asked\", \"attraction\", \"average\", \"average\", \"away\", \"away\", \"away\", \"away\", \"away\", \"away\", \"bag\", \"bahia_principe\", \"bali\", \"bali\", \"bar_restaurant\", \"barcelona\", \"barcelona\", \"bartender\", \"based\", \"based\", \"bath\", \"bath\", \"bath\", \"bath\", \"bath\", \"beach\", \"beautiful\", \"beautiful\", \"beautiful\", \"beautiful\", \"bed_comfortable\", \"bed_hard\", \"bedroom\", \"bedroom\", \"bedroom\", \"bedroom\", \"bedroom\", \"bedroom\", \"beijing\", \"berlin\", \"better\", \"better\", \"better\", \"better\", \"better\", \"better\", \"birthday\", \"birthday\", \"block\", \"block\", \"block_away\", \"blue\", \"book\", \"book\", \"book\", \"book\", \"book\", \"book\", \"book\", \"booked\", \"booked\", \"booked\", \"booked\", \"booked\", \"booked\", \"booked\", \"booked\", \"booked\", \"booked\", \"bottle\", \"bottle\", \"bottle\", \"bottle\", \"bottle_water\", \"bottle_wine\", \"bottled_water\", \"bottled_water\", \"boutique\", \"boutique_hotel\", \"bowling_alley\", \"bread\", \"breakfast_buffet\", \"breakfast_buffet\", \"breakfast_included\", \"breakfast_lunch\", \"breakfast_served\", \"breeze\", \"breeze_punta\", \"brilliant\", \"brilliant\", \"bring\", \"bring\", \"bring\", \"bring\", \"buffet\", \"buffet\", \"buffet\", \"buffet\", \"building\", \"building\", \"building\", \"building\", \"building\", \"building\", \"building\", \"business_center\", \"business_trip\", \"called\", \"came\", \"came\", \"came\", \"came\", \"came\", \"came\", \"can__\\u00e7_\\u00e9_\", \"cana\", \"card\", \"careful\", \"caribbean\", \"carte\", \"carte_restaurant\", \"casino\", \"central\", \"central_location\", \"centrally_located\", \"centre\", \"cereal\", \"chair\", \"chair\", \"chair\", \"charged\", \"cheap\", \"cheap\", \"cheap\", \"cheaper\", \"check\", \"check\", \"check\", \"check\", \"check_quick\", \"checked\", \"chef\", \"child\", \"child\", \"child\", \"chinese_restaurant\", \"chocolate\", \"chocolate\", \"city\", \"city\", \"city\", \"city\", \"city_center\", \"city_centre\", \"clean_comfortable\", \"clean_modern\", \"clean_tidy\", \"close\", \"close\", \"club\", \"club\", \"club\", \"coffee\", \"coffee\", \"coffee\", \"coffee\", \"coffee_maker\", \"coffee_making\", \"colonial\", \"comfortable\", \"comfortable\", \"comfortable\", \"comfortable\", \"comfortable\", \"comment\", \"comment\", \"comment\", \"comment\", \"complimentary\", \"complimentary\", \"complimentary_breakfast\", \"continental_breakfast\", \"conveniently_located\", \"cost\", \"cost\", \"cost_euro\", \"couldn__\\u00e7_\\u00e9_\", \"country\", \"country\", \"couple\", \"couple\", \"couple\", \"couple\", \"couple\", \"couple\", \"couple_day\", \"credit_card\", \"customer\", \"customer_service\", \"dance\", \"dancing\", \"darling_harbour\", \"day\", \"day\", \"day\", \"day\", \"day\", \"day\", \"day\", \"day\", \"day\", \"day\", \"deal\", \"deal\", \"deal\", \"deal\", \"deal\", \"decent\", \"decent\", \"decent\", \"decent_size\", \"definately_stay\", \"definitely\", \"definitely\", \"definitely\", \"definitely\", \"definitely\", \"definitely_recommend\", \"definitely_stay\", \"definitely_worth\", \"design\", \"design\", \"desk\", \"desk\", \"desk\", \"desk\", \"didn__\\u00e7_\\u00e9_\", \"didnt\", \"difference\", \"different\", \"different\", \"different\", \"different\", \"different\", \"different\", \"different\", \"dinner\", \"dinner\", \"dinner\", \"dinner\", \"dinner\", \"dinner\", \"dinner\", \"dinner\", \"dinner\", \"dinner\", \"dinner_reservation\", \"dinner_reservation\", \"dirty\", \"disappointed\", \"disappointed\", \"disappointed\", \"disappointed\", \"disappointed\", \"disappointed\", \"disappointed\", \"disappointed\", \"distance\", \"dominican\", \"dominican_republic\", \"don__\\u00e7_\\u00e9_\", \"dont\", \"dont\", \"dont\", \"dont\", \"door\", \"door\", \"door\", \"door\", \"double_bed\", \"dream\", \"drink\", \"drink\", \"drink\", \"drink\", \"drink\", \"driver\", \"driver\", \"early_morning\", \"early_morning\", \"easy\", \"easy\", \"easy_access\", \"easy_walking\", \"effort\", \"egg\", \"english\", \"english\", \"english\", \"enjoyed_stay\", \"entertainment\", \"euro\", \"evening_meal\", \"everyday\", \"exceeded_expectation\", \"excellent_value\", \"excursion\", \"expensive\", \"expensive\", \"expensive\", \"experience\", \"experience\", \"experience\", \"experience\", \"experience\", \"experience\", \"experience\", \"experience\", \"experience\", \"experience\", \"extra\", \"extra\", \"extra\", \"extra\", \"extra\", \"extra\", \"extra\", \"extra\", \"extra\", \"extra\", \"extra_charge\", \"extremely\", \"extremely\", \"extremely\", \"extremely\", \"extremely\", \"extremely_friendly\", \"extremely_helpful\", \"fabulous\", \"fabulous\", \"fabulous\", \"fabulous\", \"family\", \"family\", \"family\", \"family\", \"family\", \"family\", \"fantastic\", \"fantastic\", \"fantastic\", \"fantastic\", \"feel\", \"feel\", \"feel\", \"feel\", \"feel\", \"feel_like\", \"feel_like\", \"feel_like\", \"feel_welcome\", \"felt\", \"felt\", \"felt\", \"felt\", \"felt_like\", \"felt_safe\", \"finally\", \"fine\", \"fine\", \"fine\", \"fine\", \"flat\", \"flat\", \"flat_screen\", \"floor\", \"floor\", \"floor\", \"floor\", \"floor\", \"florence\", \"free\", \"free\", \"free_internet\", \"free_shuttle\", \"free_wifi\", \"french_quarter\", \"fresh\", \"fresh\", \"fresh_fruit\", \"fresh_towel\", \"friendly_helpful\", \"fruit\", \"fruit\", \"fully\", \"gave\", \"gave\", \"gave\", \"given\", \"given\", \"given\", \"given\", \"given\", \"given\", \"given\", \"glass\", \"glass\", \"glass\", \"glass\", \"glass\", \"glass\", \"glass_wine\", \"good_value\", \"grill\", \"ground_floor\", \"guest\", \"guest\", \"guest\", \"guest\", \"guest\", \"guest\", \"guest\", \"hair_dryer\", \"half_hour\", \"harbour\", \"harbour_view\", \"having\", \"having\", \"having\", \"having\", \"having\", \"having\", \"having\", \"having_read\", \"having_said\", \"high\", \"high\", \"high\", \"high_quality\", \"high_standard\", \"higher_floor\", \"highly\", \"highly\", \"highly\", \"highly_recommend\", \"highly_recommend\", \"highly_recommended\", \"holiday\", \"holiday\", \"holiday\", \"holiday\", \"holiday\", \"home\", \"home\", \"home\", \"home\", \"home\", \"home\", \"home\", \"honeymoon\", \"hong\", \"hong_kong\", \"hour\", \"hour\", \"hour\", \"housekeeping\", \"husband\", \"husband\", \"husband\", \"husband\", \"husband\", \"husband\", \"husband_stayed\", \"hyatt\", \"i__\\u00e7_\\u00e9\", \"included\", \"included\", \"included\", \"included\", \"inclusive\", \"incredible\", \"internet\", \"internet\", \"internet\", \"internet\", \"internet_access\", \"it__\\u00e7_\\u00e9_\", \"italian_restaurant\", \"japanese_restaurant\", \"juice\", \"junior\", \"junior_suite\", \"just_returned\", \"just_returned\", \"kid\", \"kid\", \"king\", \"king\", \"king\", \"king\", \"king\", \"king\", \"king_size\", \"king_size\", \"know\", \"know\", \"know\", \"kong\", \"langham_place\", \"language_barrier\", \"large\", \"large\", \"large\", \"large\", \"large\", \"large\", \"late_night\", \"later\", \"left\", \"left\", \"left\", \"left\", \"live_music\", \"lobby\", \"lobby\", \"lobby\", \"lobby\", \"lobby\", \"lobby\", \"lobby\", \"lobby\", \"local\", \"local\", \"local\", \"located\", \"located\", \"located\", \"located\", \"location_ideal\", \"long_weekend\", \"look_forward\", \"looked_like\", \"looking_forward\", \"lounge_chair\", \"loved\", \"loved\", \"loved\", \"loved\", \"lovely\", \"lovely\", \"lovely\", \"lovely\", \"lovely\", \"luggage\", \"luggage\", \"luggage\", \"lunch\", \"lunch\", \"lunch\", \"lunch\", \"madrid\", \"main_buffet\", \"main_road\", \"majestic_colonial\", \"make\", \"make\", \"make\", \"make\", \"make\", \"make\", \"make\", \"make_feel\", \"make_sure\", \"management\", \"manager\", \"mandarin_oriental\", \"member\", \"member\", \"member\", \"metro\", \"metro_station\", \"michael_jackson\", \"min\", \"min_walk\", \"minute\", \"minute\", \"minute\", \"minute\", \"minute_walk\", \"modern\", \"modern\", \"money\", \"money\", \"money\", \"money\", \"morning\", \"morning\", \"morning\", \"morning\", \"morning\", \"morning\", \"morning\", \"morning\", \"moved\", \"museum\", \"musty\", \"musty_smell\", \"need\", \"need\", \"need\", \"need\", \"need\", \"need\", \"need\", \"negative\", \"negative\", \"negative\", \"negative\", \"negative\", \"negative_review\", \"nice_touch\", \"nicely_appointed\", \"nightly\", \"nothing_special\", \"nothing_trouble\", \"ocean\", \"ocean\", \"ocean_blue\", \"ocean_view\", \"offer\", \"offer\", \"offer\", \"offer\", \"offer\", \"offer\", \"offer\", \"offer\", \"open_mind\", \"option\", \"orchard_road\", \"outside\", \"outside\", \"outside\", \"overall\", \"overall\", \"overall\", \"overall\", \"overall\", \"palm_tree\", \"paris\", \"parking\", \"pastry\", \"perfect\", \"perfect\", \"perfect\", \"phone\", \"phone_call\", \"pillow\", \"pillow\", \"pillow\", \"pillow\", \"plaza\", \"plaza\", \"plaza\", \"pleasantly_surprised\", \"plenty_space\", \"plus\", \"plus\", \"plus\", \"pretty\", \"pretty\", \"pretty_good\", \"previous\", \"previous\", \"previous_review\", \"price\", \"price\", \"price\", \"price_paid\", \"priced\", \"priced\", \"princess\", \"probably_best\", \"problem\", \"problem\", \"problem\", \"problem\", \"problem\", \"problem_getting\", \"public_area\", \"public_transport\", \"punta\", \"punta_cana\", \"quarter\", \"quiet\", \"quiet\", \"quiet\", \"quiet\", \"quiet\", \"quite\", \"quite\", \"quite\", \"quite\", \"quite\", \"quite\", \"quite\", \"quite\", \"quite\", \"ramblas\", \"ramblas\", \"rate\", \"rate\", \"rate\", \"rate\", \"rate\", \"read\", \"read\", \"read_review\", \"reading\", \"reading\", \"reading\", \"reading\", \"ready\", \"ready\", \"really_enjoyed\", \"really_enjoyed\", \"reasonable_price\", \"reasonably\", \"reasonably_priced\", \"recently_stayed\", \"relax\", \"relax\", \"reservation\", \"reservation\", \"reservation\", \"reservation\", \"reservation\", \"resort\", \"return\", \"return\", \"return\", \"return\", \"return\", \"return\", \"return\", \"return\", \"return\", \"review\", \"review\", \"review\", \"right\", \"right\", \"right\", \"right\", \"right_outside\", \"ritz\", \"ritz_carlton\", \"roof\", \"roof_terrace\", \"rooftop\", \"round\", \"round\", \"royal_service\", \"said\", \"said\", \"said\", \"said\", \"sand\", \"save_money\", \"screen\", \"season\", \"second_floor\", \"selection\", \"selection\", \"selection\", \"selection\", \"selection\", \"separate_shower\", \"sheet\", \"shopping_centre\", \"shopping_mall\", \"short_walk\", \"show\", \"shower\", \"shower\", \"shower\", \"shower\", \"shower\", \"shower_head\", \"shuttle\", \"sick\", \"singapore\", \"situated\", \"size\", \"size\", \"size\", \"size\", \"size\", \"smell\", \"smell\", \"smoking\", \"soft_drink\", \"spacious_clean\", \"spanish\", \"speak_english\", \"special\", \"special\", \"special\", \"special\", \"special\", \"spent\", \"spent\", \"spent\", \"spent\", \"spent\", \"spent\", \"spent\", \"spent\", \"spent\", \"spent\", \"spent_day\", \"spent_night\", \"spent_week\", \"spoke\", \"spoke\", \"spoke\", \"spoke\", \"spoke_english\", \"spotlessly_clean\", \"square\", \"square\", \"staff_attentive\", \"staff_friendly\", \"staff_friendly\", \"staff_helpful\", \"staff_member\", \"star\", \"star\", \"star\", \"star\", \"star\", \"star\", \"star_ferry\", \"station\", \"steak_house\", \"stop\", \"stop\", \"stop\", \"straight_away\", \"street\", \"street\", \"stylish\", \"stylish\", \"subway\", \"suite\", \"suite\", \"suite\", \"suite\", \"suite\", \"suite\", \"sure\", \"sure\", \"sure\", \"swim\", \"swimming\", \"swimming\", \"swimming_pool\", \"sydney\", \"table_chair\", \"taken_care\", \"tastefully_decorated\", \"taxi\", \"taxi\", \"taxi\", \"taxi_driver\", \"taxi_ride\", \"team\", \"thing\", \"thing\", \"thing\", \"thing\", \"thing\", \"thing\", \"thing\", \"think\", \"think\", \"think\", \"think\", \"think\", \"thoroughly_enjoyed\", \"time_square\", \"toast\", \"toilet\", \"tokyo\", \"told\", \"took_advantage\", \"took_care\", \"took_hour\", \"touch\", \"touch\", \"touch\", \"touch\", \"tour_guide\", \"towel\", \"towel\", \"towel\", \"traffic_noise\", \"train\", \"train\", \"train_station\", \"travel_agent\", \"travelled\", \"trip\", \"trip\", \"trip\", \"trip\", \"trip\", \"trip\", \"trip\", \"trip\", \"trip\", \"trip\", \"trip_advisor\", \"tripadvisor\", \"truly\", \"truly\", \"truly\", \"truly\", \"truly\", \"ubud\", \"union_square\", \"vacation\", \"valet_parking\", \"value\", \"value\", \"value\", \"value_money\", \"vending_machine\", \"visit\", \"visit\", \"visit\", \"visit\", \"visit\", \"visit\", \"walking\", \"walking\", \"walking\", \"walking_distance\", \"want\", \"want\", \"want\", \"want\", \"want\", \"want\", \"want\", \"wasn__\\u00e7_\\u00e9_\", \"waste_money\", \"water\", \"water\", \"water\", \"water\", \"water\", \"water_pressure\", \"wedding\", \"wedding_anniversary\", \"week\", \"week\", \"week\", \"week\", \"week\", \"week\", \"week\", \"week\", \"week\", \"week\", \"welcome\", \"welcome\", \"welcome\", \"went\", \"went\", \"went\", \"went\", \"went\", \"weren__\\u00e7_\\u00e9_\", \"white_sand\", \"wife_stayed\", \"willing_help\", \"wine\", \"wine\", \"wine\", \"wine\", \"wine\", \"wireless\", \"wireless_internet\", \"wonderful\", \"wonderful\", \"wonderful\", \"work\", \"work\", \"work\", \"work\", \"work\", \"work\", \"worst\", \"worth\", \"worth\", \"worth\", \"worth\", \"worth\", \"worth_extra\", \"worth_visit\", \"wouldn__\\u00e7_\\u00e9_\", \"year\", \"year\", \"year\", \"year\", \"year\", \"year\", \"you__\\u00e7_\\u00e9\\u00e8e\", \"young\", \"young\", \"young_child\"]}, \"R\": 30, \"lambda.step\": 0.01, \"plot.opts\": {\"xlab\": \"PC1\", \"ylab\": \"PC2\"}, \"topic.order\": [10, 7, 3, 5, 2, 9, 6, 1, 4, 8]};\n",
              "\n",
              "function LDAvis_load_lib(url, callback){\n",
              "  var s = document.createElement('script');\n",
              "  s.src = url;\n",
              "  s.async = true;\n",
              "  s.onreadystatechange = s.onload = callback;\n",
              "  s.onerror = function(){console.warn(\"failed to load library \" + url);};\n",
              "  document.getElementsByTagName(\"head\")[0].appendChild(s);\n",
              "}\n",
              "\n",
              "if(typeof(LDAvis) !== \"undefined\"){\n",
              "   // already loaded: just create the visualization\n",
              "   !function(LDAvis){\n",
              "       new LDAvis(\"#\" + \"ldavis_el561404503618716003305170118\", ldavis_el561404503618716003305170118_data);\n",
              "   }(LDAvis);\n",
              "}else if(typeof define === \"function\" && define.amd){\n",
              "   // require.js is available: use it to load d3/LDAvis\n",
              "   require.config({paths: {d3: \"https://cdnjs.cloudflare.com/ajax/libs/d3/3.5.5/d3.min\"}});\n",
              "   require([\"d3\"], function(d3){\n",
              "      window.d3 = d3;\n",
              "      LDAvis_load_lib(\"https://cdn.rawgit.com/bmabey/pyLDAvis/files/ldavis.v1.0.0.js\", function(){\n",
              "        new LDAvis(\"#\" + \"ldavis_el561404503618716003305170118\", ldavis_el561404503618716003305170118_data);\n",
              "      });\n",
              "    });\n",
              "}else{\n",
              "    // require.js not available: dynamically load d3 & LDAvis\n",
              "    LDAvis_load_lib(\"https://cdnjs.cloudflare.com/ajax/libs/d3/3.5.5/d3.min.js\", function(){\n",
              "         LDAvis_load_lib(\"https://cdn.rawgit.com/bmabey/pyLDAvis/files/ldavis.v1.0.0.js\", function(){\n",
              "                 new LDAvis(\"#\" + \"ldavis_el561404503618716003305170118\", ldavis_el561404503618716003305170118_data);\n",
              "            })\n",
              "         });\n",
              "}\n",
              "</script>"
            ],
            "text/plain": [
              "PreparedData(topic_coordinates=              x         y  topics  cluster       Freq\n",
              "topic                                                \n",
              "9      0.048241 -0.140995       1        1  20.648193\n",
              "6      0.122910 -0.066691       2        1  16.975655\n",
              "2      0.149678 -0.066952       3        1  15.178820\n",
              "4     -0.105596 -0.176366       4        1  13.728435\n",
              "1      0.250048  0.019264       5        1   7.957857\n",
              "8      0.053974 -0.021699       6        1   6.621609\n",
              "5     -0.223021 -0.018398       7        1   6.453463\n",
              "0     -0.291461 -0.080469       8        1   5.113053\n",
              "3      0.095828  0.156577       9        1   4.054234\n",
              "7     -0.100600  0.395729      10        1   3.268680, topic_info=                    Term         Freq        Total Category  logprob  loglift\n",
              "5104               beach  9910.000000  9910.000000  Default  30.0000  30.0000\n",
              "5066              resort  8860.000000  8860.000000  Default  29.0000  29.0000\n",
              "48                review  4790.000000  4790.000000  Default  28.0000  28.0000\n",
              "341       staff_friendly  6251.000000  6251.000000  Default  27.0000  27.0000\n",
              "2043         minute_walk  5011.000000  5011.000000  Default  26.0000  26.0000\n",
              "...                  ...          ...          ...      ...      ...      ...\n",
              "1724  dinner_reservation   324.623467   439.072478  Topic10  -5.2155   3.1188\n",
              "304                water   491.948642  5338.881797  Topic10  -4.7998   1.0364\n",
              "84                bottle   335.490875  1232.683955  Topic10  -5.1826   2.1194\n",
              "466                glass   319.221754  1184.867375  Topic10  -5.2323   2.1093\n",
              "347                 wine   285.657666  1190.488757  Topic10  -5.3434   1.9935\n",
              "\n",
              "[545 rows x 6 columns], token_table=      Topic      Freq         Term\n",
              "term                              \n",
              "1517      1  0.040174   absolutely\n",
              "1517      2  0.279209   absolutely\n",
              "1517      3  0.073652   absolutely\n",
              "1517      4  0.018748   absolutely\n",
              "1517      6  0.587879   absolutely\n",
              "...     ...       ...          ...\n",
              "857       6  0.281426         year\n",
              "6772     10  0.998606   you__ç_éèe\n",
              "691       1  0.041158        young\n",
              "691       5  0.958388        young\n",
              "8598      5  0.999319  young_child\n",
              "\n",
              "[1049 rows x 3 columns], R=30, lambda_step=0.01, plot_opts={'xlab': 'PC1', 'ylab': 'PC2'}, topic_order=[10, 7, 3, 5, 2, 9, 6, 1, 4, 8])"
            ]
          },
          "metadata": {
            "tags": []
          },
          "execution_count": 14
        }
      ]
    },
    {
      "cell_type": "code",
      "metadata": {
        "id": "XljSkEK-Q37q"
      },
      "source": [
        "def explore_topic(lda_model, topic_number, topn, output=True):\n",
        "    \"\"\"\n",
        "    accept a ldamodel, atopic number and topn vocabs of interest\n",
        "    prints a formatted list of the topn terms\n",
        "    \"\"\"\n",
        "    terms = []\n",
        "    for term, frequency in lda_model.show_topic(topic_number, topn=topn):\n",
        "        terms += [term]\n",
        "        if output:\n",
        "            print(u'{:20} {:.3f}'.format(term, round(frequency, 3)))\n",
        "    \n",
        "    return terms"
      ],
      "execution_count": null,
      "outputs": []
    },
    {
      "cell_type": "code",
      "metadata": {
        "id": "esgGLuj0Q67B",
        "colab": {
          "base_uri": "https://localhost:8080/"
        },
        "outputId": "f02bdd3c-de76-4a90-cb2d-a94a94d06f44"
      },
      "source": [
        "# vemos los temas en los que el modelo separo los tokens\n",
        "topic_summaries = []\n",
        "print(u'{:20} {}'.format(u'term', u'frequency') + u'\\n')\n",
        "for i in range(num_topics):\n",
        "    print('Topic '+str(i)+' |---------------------\\n')\n",
        "    tmp = explore_topic(model,topic_number=i, topn=5, output=True )\n",
        "#     print tmp[:5]\n",
        "    topic_summaries += [tmp[:5]]"
      ],
      "execution_count": null,
      "outputs": [
        {
          "output_type": "stream",
          "text": [
            "term                 frequency\n",
            "\n",
            "Topic 0 |---------------------\n",
            "\n",
            "flat_screen          0.016\n",
            "barcelona            0.016\n",
            "euro                 0.015\n",
            "breakfast_buffet     0.014\n",
            "modern               0.014\n",
            "Topic 1 |---------------------\n",
            "\n",
            "make                 0.024\n",
            "make_sure            0.018\n",
            "sure                 0.018\n",
            "ocean                0.011\n",
            "train_station        0.011\n",
            "Topic 2 |---------------------\n",
            "\n",
            "desk                 0.012\n",
            "check                0.012\n",
            "told                 0.009\n",
            "problem              0.009\n",
            "asked                0.009\n",
            "Topic 3 |---------------------\n",
            "\n",
            "review               0.057\n",
            "read_review          0.019\n",
            "trip_advisor         0.019\n",
            "read                 0.018\n",
            "swimming_pool        0.017\n",
            "Topic 4 |---------------------\n",
            "\n",
            "staff_friendly       0.023\n",
            "minute_walk          0.020\n",
            "comfortable          0.015\n",
            "city                 0.014\n",
            "station              0.013\n",
            "Topic 5 |---------------------\n",
            "\n",
            "free                 0.021\n",
            "internet             0.018\n",
            "coffee               0.017\n",
            "free_internet        0.014\n",
            "nice_touch           0.013\n",
            "Topic 6 |---------------------\n",
            "\n",
            "beach                0.032\n",
            "resort               0.029\n",
            "punta_cana           0.015\n",
            "drink                0.011\n",
            "water                0.010\n",
            "Topic 7 |---------------------\n",
            "\n",
            "didn__ç_é_           0.036\n",
            "don__ç_é_            0.024\n",
            "it__ç_é_             0.023\n",
            "sick                 0.015\n",
            "italian_restaurant   0.011\n",
            "Topic 8 |---------------------\n",
            "\n",
            "wonderful            0.020\n",
            "fantastic            0.019\n",
            "lovely               0.017\n",
            "beautiful            0.015\n",
            "perfect              0.014\n",
            "Topic 9 |---------------------\n",
            "\n",
            "price                0.012\n",
            "quite                0.009\n",
            "airport              0.008\n",
            "want                 0.007\n",
            "better               0.007\n"
          ],
          "name": "stdout"
        }
      ]
    },
    {
      "cell_type": "code",
      "metadata": {
        "colab": {
          "base_uri": "https://localhost:8080/",
          "height": 906
        },
        "id": "V-p1l4wTQ_SA",
        "outputId": "17ac3d3d-db4e-436c-dbcf-67b73428bab0"
      },
      "source": [
        "# agregamos los temas como una columna del dataframe\n",
        "all_topics = model.get_document_topics(corpus, minimum_probability=0.0)\n",
        "all_topics_csr = gensim.matutils.corpus2csc(all_topics)\n",
        "all_topics_numpy = all_topics_csr.T.toarray()\n",
        "df['Topic'] = all_topics_numpy.argmax(axis=1)\n",
        "\n",
        "# graficamos la Distribucion de Topics por Ratings\n",
        "plt.figure(figsize=(8,7))\n",
        "sns.countplot(data=df,x=\"Rating\",hue=\"Topic\",edgecolor=\"black\",linewidth=3)\n",
        "plt.legend(['0','1','2','3','4','5','6','7','8','9'])\n",
        "plt.title('Distribucion de Topics por Ratings',size=18)\n",
        "plt.show()\n",
        "\n",
        "# graficamos el recuento de topicos\n",
        "plt.figure(figsize=(8,7))\n",
        "ax=sns.countplot(data=df,x=\"Topic\",edgecolor=\"black\",linewidth=3)\n",
        "ax.set_xticklabels(['0','1','2','3','4','5','6','7','8','9'])\n",
        "plt.title('Recuento de Topics',size=18)\n",
        "plt.show()"
      ],
      "execution_count": null,
      "outputs": [
        {
          "output_type": "display_data",
          "data": {
            "image/png": "[encoded data removed]",
            "text/plain": [
              "<Figure size 576x504 with 1 Axes>"
            ]
          },
          "metadata": {
            "tags": [],
            "needs_background": "light"
          }
        },
        {
          "output_type": "display_data",
          "data": {
            "image/png": "[encoded data removed]",
            "text/plain": [
              "<Figure size 576x504 with 1 Axes>"
            ]
          },
          "metadata": {
            "tags": [],
            "needs_background": "light"
          }
        }
      ]
    },
    {
      "cell_type": "code",
      "metadata": {
        "id": "-inzaLQbREnN"
      },
      "source": [
        "from sklearn.model_selection import train_test_split\n",
        "\n",
        "X = df['Review']\n",
        "y = df['Rating']\n",
        "\n",
        "X_train, X_test, y_train, y_test = train_test_split(X, y, test_size=0.20, random_state=42)"
      ],
      "execution_count": null,
      "outputs": []
    },
    {
      "cell_type": "code",
      "metadata": {
        "id": "M3wdz6YYRIlw"
      },
      "source": [
        "xgb = Pipeline([('vect', TfidfVectorizer()),\n",
        "               ('tfidf', TfidfTransformer()),\n",
        "               ('clf', XGBClassifier(objective=\"multi:softmax\",n_estimators=300,learning_rate=0.01))\n",
        "              ])\n",
        "\n",
        "xgb.fit(X_train, y_train)\n",
        "\n",
        "y_pred = xgb.predict(X_test)"
      ],
      "execution_count": null,
      "outputs": []
    },
    {
      "cell_type": "code",
      "metadata": {
        "colab": {
          "base_uri": "https://localhost:8080/",
          "height": 803
        },
        "id": "Cek-p8IJvGyt",
        "outputId": "66a5bb06-7aa9-4504-e05f-98bb84b4001d"
      },
      "source": [
        "print(classification_report(y_pred,y_test,zero_division=0))\n",
        "print(\"\\n\")\n",
        "print(\"Accuracy: %f\" % accuracy_score(y_pred,y_test))\n",
        "print(\"Weighted Precision :%f\" % precision_score(y_pred,y_test,average=\"weighted\"))\n",
        "print(\"MAE (error absoluto promedio):%f\" % mean_absolute_error(y_pred,y_test))\n",
        "print(\"RMSE (error cuadrado promedio):%f\" % mean_squared_error(y_pred,y_test,squared=False))\n",
        "\n",
        "\n",
        "plt.figure(figsize=(8,7))\n",
        "cm=confusion_matrix(y_pred,y_test)\n",
        "g=sns.heatmap(cm,annot=True,fmt='d',linewidths=1,linecolor='black',\n",
        "                  annot_kws={\"size\":14},cmap='Blues',cbar=False)\n",
        "\n",
        "plt.xlabel('Real',size=16)\n",
        "plt.ylabel('Predicho',size=16)\n",
        "plt.title('Matriz de Confusion \\n XGB Classifier',size=16)\n",
        "plt.show()"
      ],
      "execution_count": null,
      "outputs": [
        {
          "output_type": "stream",
          "text": [
            "              precision    recall  f1-score   support\n",
            "\n",
            "           1       0.31      0.71      0.43       126\n",
            "           2       0.07      0.49      0.13        49\n",
            "           3       0.07      0.47      0.12        64\n",
            "           4       0.32      0.43      0.37       930\n",
            "           5       0.90      0.55      0.68      2930\n",
            "\n",
            "    accuracy                           0.53      4099\n",
            "   macro avg       0.33      0.53      0.35      4099\n",
            "weighted avg       0.73      0.53      0.59      4099\n",
            "\n",
            "\n",
            "\n",
            "Accuracy: 0.525738\n",
            "Weighted Precision :0.727017\n",
            "MAE (error absoluto promedio):0.749939\n",
            "RMSE (error cuadrado promedio):1.264294\n"
          ],
          "name": "stdout"
        },
        {
          "output_type": "display_data",
          "data": {
            "image/png": "[encoded data removed]",
            "text/plain": [
              "<Figure size 576x504 with 1 Axes>"
            ]
          },
          "metadata": {
            "tags": [],
            "needs_background": "light"
          }
        }
      ]
    },
    {
      "cell_type": "markdown",
      "metadata": {
        "id": "T4rBYlKdYxrN"
      },
      "source": [
        "Nos interesa de esa matriz la diagonal principal, ya que estos serán los aciertos del modelo. Podemos ver que como el dataset estaba desbalanceado y la mayoria de las reseñas eran positivas, el modelo consiguio una mayor precisión para predecir reseñas positivas.\\\n",
        "Notamos viendo las dos primeras filas que en la mayoria de los casos que el modelo predijo 1 o 2 estrellas acerto (un alto valor de recall) pero viendo las primeras dos columnas vemos que tembien clasifico erroneamente muchas reseñas como 4 o 5 estrellas cuando en realidad eran 1 o 2 (bajo valor de precision).\n",
        "\n",
        "\n",
        "\n"
      ]
    },
    {
      "cell_type": "markdown",
      "metadata": {
        "id": "5O20meAxX-eS"
      },
      "source": [
        "### GridSearch"
      ]
    },
    {
      "cell_type": "code",
      "metadata": {
        "id": "Q1JjPAbgiwY-"
      },
      "source": [
        "from sklearn.linear_model import SGDClassifier\n",
        "from sklearn.model_selection import GridSearchCV\n",
        "from pprint import pprint\n",
        "from time import time\n",
        "import logging\n",
        "\n",
        "from sklearn.model_selection import GridSearchCV\n",
        "from sklearn.model_selection import StratifiedKFold\n",
        "parameters = {\n",
        "    'vect__max_df': (0.5, 0.75, 1.0),\n",
        "    # 'vect__max_features': (None, 5000, 10000, 50000),\n",
        "    'vect__ngram_range': ((1, 1), (1, 2)),  # unigrams or bigrams\n",
        "    # 'tfidf__use_idf': (True, False),\n",
        "    # 'tfidf__norm': ('l1', 'l2'),\n",
        "    'clf__max_iter': (20,),\n",
        "    'clf__alpha': (0.00001, 0.000001),\n",
        "    'clf__penalty': ('l2', 'elasticnet'),\n",
        "    # 'clf__max_iter': (10, 50, 80),\n",
        "}\n"
      ],
      "execution_count": null,
      "outputs": []
    },
    {
      "cell_type": "code",
      "metadata": {
        "colab": {
          "base_uri": "https://localhost:8080/"
        },
        "id": "sqf4qD38lqA5",
        "outputId": "1a5d19c4-e965-40a3-c077-239eaf6e336b"
      },
      "source": [
        "model = Pipeline([('vect', TfidfVectorizer()),\n",
        "               ('tfidf', TfidfTransformer()),\n",
        "               ('clf', XGBClassifier(objective=\"multi:softmax\",n_estimators=300,learning_rate=0.01))\n",
        "              ])\n",
        "gs = GridSearchCV(model, \n",
        "                  parameters, \n",
        "                  cv=StratifiedKFold(n_splits=3,shuffle=True,random_state=1), #Cross Validation de 3 capas\n",
        "                  verbose=1,\n",
        "                  n_jobs=-1)\n",
        "gs.fit(X_train, y_train)\n",
        "\n",
        "# Mostramos los mejores resultados obtenidos\n",
        "\n",
        "print(gs.best_estimator_)"
      ],
      "execution_count": null,
      "outputs": [
        {
          "output_type": "stream",
          "text": [
            "Fitting 3 folds for each of 24 candidates, totalling 72 fits\n"
          ],
          "name": "stdout"
        },
        {
          "output_type": "stream",
          "text": [
            "[Parallel(n_jobs=-1)]: Using backend LokyBackend with 8 concurrent workers.\n",
            "[Parallel(n_jobs=-1)]: Done  34 tasks      | elapsed: 77.9min\n",
            "[Parallel(n_jobs=-1)]: Done  72 out of  72 | elapsed: 163.9min finished\n"
          ],
          "name": "stderr"
        },
        {
          "output_type": "stream",
          "text": [
            "[16:14:51] WARNING: C:\\Users\\Administrator\\workspace\\xgboost-win64_release_1.2.0\\src\\learner.cc:516: \n",
            "Parameters: { max_iter, penalty } might not be used.\n",
            "\n",
            "  This may not be accurate due to some parameters are only used in language bindings but\n",
            "  passed down to XGBoost core.  Or some parameters are not used but slip through this\n",
            "  verification. Please open an issue if you find above cases.\n",
            "\n",
            "\n",
            "Pipeline(steps=[('vect', TfidfVectorizer()), ('tfidf', TfidfTransformer()),\n",
            "                ('clf',\n",
            "                 XGBClassifier(alpha=1e-06, base_score=0.5, booster='gbtree',\n",
            "                               colsample_bylevel=1, colsample_bynode=1,\n",
            "                               colsample_bytree=1, gamma=0, gpu_id=-1,\n",
            "                               importance_type='gain',\n",
            "                               interaction_constraints='', learning_rate=0.01,\n",
            "                               max_delta_step=0, max_depth=6, max_iter=20,\n",
            "                               min_child_weight=1, missing=nan,\n",
            "                               monotone_constraints='()', n_estimators=300,\n",
            "                               n_jobs=0, num_parallel_tree=1,\n",
            "                               objective='multi:softprob', penalty='l2',\n",
            "                               random_state=0, reg_alpha=9.99999997e-07,\n",
            "                               reg_lambda=1, scale_pos_weight=None, subsample=1,\n",
            "                               tree_method='exact', validate_parameters=1,\n",
            "                               verbosity=None))])\n"
          ],
          "name": "stdout"
        }
      ]
    },
    {
      "cell_type": "code",
      "metadata": {
        "id": "ROBsD60pg2e6"
      },
      "source": [
        "y_pred = gs.best_estimator_.predict(X_test)"
      ],
      "execution_count": null,
      "outputs": []
    },
    {
      "cell_type": "code",
      "metadata": {
        "colab": {
          "base_uri": "https://localhost:8080/",
          "height": 838
        },
        "id": "IPjAMa79g9fM",
        "outputId": "41fc094c-5ff6-41de-c172-2cf465dc642e"
      },
      "source": [
        "print(\"_\"*25+\"Classification Report\"+\"_\"*25)\n",
        "print(classification_report(y_pred,y_test,zero_division=0))\n",
        "print(\"_\"*25+\"Evaluation Metrics\"+\"_\"*25)\n",
        "print(\"\\n\")\n",
        "print(\"Accuracy: %f\" % accuracy_score(y_pred,y_test))\n",
        "print(\"Weighted Precision :%f\" % precision_score(y_pred,y_test,average=\"weighted\"))\n",
        "print(\"MAE :%f\" % mean_absolute_error(y_pred,y_test))\n",
        "print(\"RMSE :%f\" % mean_squared_error(y_pred,y_test,squared=False))\n",
        "\n",
        "\n",
        "plt.figure(figsize=(8,7))\n",
        "cm=confusion_matrix(y_pred,y_test)\n",
        "g=sns.heatmap(cm,annot=True,fmt='d',linewidths=1,linecolor='black',\n",
        "                  annot_kws={\"size\":14},cmap='Blues',cbar=False)\n",
        "\n",
        "plt.xlabel('Actual',size=16)\n",
        "plt.ylabel('Predicted',size=16)\n",
        "plt.title('Confusion Matrix \\n XGB Classifier',size=16)\n",
        "plt.show()"
      ],
      "execution_count": null,
      "outputs": [
        {
          "output_type": "stream",
          "text": [
            "_________________________Classification Report_________________________\n",
            "              precision    recall  f1-score   support\n",
            "\n",
            "           1       0.39      0.68      0.49       166\n",
            "           2       0.21      0.41      0.28       168\n",
            "           3       0.11      0.46      0.18       104\n",
            "           4       0.39      0.46      0.42      1051\n",
            "           5       0.87      0.60      0.71      2610\n",
            "\n",
            "    accuracy                           0.55      4099\n",
            "   macro avg       0.39      0.52      0.42      4099\n",
            "weighted avg       0.68      0.55      0.59      4099\n",
            "\n",
            "_________________________Evaluation Metrics_________________________\n",
            "\n",
            "\n",
            "Accuracy: 0.553306\n",
            "Weighted Precision :0.678744\n",
            "MAE :0.644547\n",
            "RMSE :1.110398\n"
          ],
          "name": "stdout"
        },
        {
          "output_type": "display_data",
          "data": {
            "text/plain": [
              "<Figure size 576x504 with 1 Axes>"
            ],
            "image/png": "[encoded data removed]"
          },
          "metadata": {
            "tags": [],
            "needs_background": "light"
          }
        }
      ]
    },
    {
      "cell_type": "markdown",
      "metadata": {
        "id": "m9jquMlqiw8V"
      },
      "source": [
        "Podemos ver que incluso con GridSearch el resultado del modelo es muy similar (prácticamente el mismo) si quisieramos lograr un modelo que prediga con mayor precisión los ratings bajos podriamos intentar aplciar una función de ganancia que recompense estos mucho más que los demas."
      ]
    },
    {
      "cell_type": "markdown",
      "metadata": {
        "id": "PYVkqDw9YkW0"
      },
      "source": [
        "# Machine learning\r\n",
        "Ahora intentaremos crear un modelo predictivo con una estrategia diferente.\r\n",
        "Utilizaremos Keras que es una biblioteca que utiliza Tensorflow para generar modelos secuenciales (con distinta cantidad de capas) y ademas volveremos a realizar un preprocesamiento de texto pero desde la biblioteca keras_preprocessing"
      ]
    },
    {
      "cell_type": "code",
      "metadata": {
        "id": "YHTNUcWWvyw9"
      },
      "source": [
        "from keras import layers\n",
        "from keras_preprocessing.text import Tokenizer\n",
        "from keras_preprocessing.sequence import pad_sequences\n",
        "from keras.utils import to_categorical\n",
        "from keras import Sequential"
      ],
      "execution_count": null,
      "outputs": []
    },
    {
      "cell_type": "code",
      "metadata": {
        "id": "xVNV0o-RI-hA"
      },
      "source": [
        "df['Rating'] = df.apply(lambda x: x['Rating']-1 , axis=1)"
      ],
      "execution_count": null,
      "outputs": []
    },
    {
      "cell_type": "code",
      "metadata": {
        "id": "kJ6xxKkqyb-v"
      },
      "source": [
        "data = df.Review\n",
        "labels = df.Rating"
      ],
      "execution_count": null,
      "outputs": []
    },
    {
      "cell_type": "code",
      "metadata": {
        "id": "jVzxlOLIyjro"
      },
      "source": [
        "tokenizer = Tokenizer(num_words= 10000 )\n",
        "tokenizer.fit_on_texts(data)\n",
        "sequences = tokenizer.texts_to_sequences(data)\n",
        "word_index = tokenizer.word_index\n",
        "data = pad_sequences(sequences)"
      ],
      "execution_count": null,
      "outputs": []
    },
    {
      "cell_type": "code",
      "metadata": {
        "id": "YzrxDDf_y7UZ"
      },
      "source": [
        "# Convertimos la columna de ratings a columnas dummies\n",
        "labels = np.asarray(labels)\n",
        "labelsCategories = len(np.unique(labels))\n",
        "labels = to_categorical(labels, labelsCategories)"
      ],
      "execution_count": null,
      "outputs": []
    },
    {
      "cell_type": "code",
      "metadata": {
        "id": "BhsmLLxUzZKC"
      },
      "source": [
        "# mezclamos los datos\n",
        "indices = np.arange(len(data))\n",
        "np.random.shuffle(indices)\n",
        "data = data[indices]\n",
        "labels = labels[indices]"
      ],
      "execution_count": null,
      "outputs": []
    },
    {
      "cell_type": "code",
      "metadata": {
        "id": "Krq5hg7Jzhux"
      },
      "source": [
        "X_train = data[:19000]\n",
        "y_train = labels[:19000]\n",
        "X_test = data[19000:]\n",
        "y_test = labels[19000:]"
      ],
      "execution_count": null,
      "outputs": []
    },
    {
      "cell_type": "code",
      "metadata": {
        "id": "GguZxvdZzrRq"
      },
      "source": [
        "# estos números son por heuristicas, input dim espera el tamaño del vocabulario (aproximado) + 1\n",
        "inputDim = 10000 + 1\n",
        "# input lenght = tamaño de cada registro del dataset\n",
        "inputLength = len(X_train[0])"
      ],
      "execution_count": null,
      "outputs": []
    },
    {
      "cell_type": "markdown",
      "metadata": {
        "id": "JTl8eeSmzyE_"
      },
      "source": [
        "## Entrenamiento del modelo"
      ]
    },
    {
      "cell_type": "code",
      "metadata": {
        "id": "ACt72Ul9zwrh"
      },
      "source": [
        "# utilizaremos un modelo secuencial con dos capas convolucionales y una capa densa (con activacion softmax)\n",
        "model = Sequential()\n",
        "model.add(layers.Embedding(inputDim, 128, input_length=inputLength))\n",
        "model.add(layers.Conv1D(64, 7, activation='relu'))\n",
        "model.add(layers.MaxPool1D(5))\n",
        "model.add(layers.Conv1D(64, 7, activation='relu'))\n",
        "model.add(layers.GlobalMaxPooling1D())\n",
        "model.add(layers.Dense(5, activation=\"softmax\"))"
      ],
      "execution_count": null,
      "outputs": []
    },
    {
      "cell_type": "code",
      "metadata": {
        "id": "nIDr-92lz6YT"
      },
      "source": [
        "model.compile(optimizer='rmsprop',\n",
        "              loss='categorical_crossentropy',\n",
        "              metrics=['accuracy'])"
      ],
      "execution_count": null,
      "outputs": []
    },
    {
      "cell_type": "code",
      "metadata": {
        "colab": {
          "base_uri": "https://localhost:8080/"
        },
        "id": "6qEl-nlgz8MQ",
        "outputId": "5d8dbdf4-80d9-4254-8163-75cf96e8bd50"
      },
      "source": [
        "# Entrenamos el modelo\n",
        "history = model.fit(X_train,\n",
        "                    y_train,\n",
        "                    epochs=10,\n",
        "                    batch_size=128,\n",
        "                    validation_split=0.3)"
      ],
      "execution_count": null,
      "outputs": [
        {
          "output_type": "stream",
          "text": [
            "Epoch 1/10\n",
            "104/104 [==============================] - 11s 104ms/step - loss: 1.1512 - accuracy: 0.4946 - val_loss: 0.9422 - val_accuracy: 0.5768\n",
            "Epoch 2/10\n",
            "104/104 [==============================] - 11s 102ms/step - loss: 0.8069 - accuracy: 0.6395 - val_loss: 0.8362 - val_accuracy: 0.6360\n",
            "Epoch 3/10\n",
            "104/104 [==============================] - 11s 102ms/step - loss: 0.6775 - accuracy: 0.7098 - val_loss: 0.8607 - val_accuracy: 0.6361\n",
            "Epoch 4/10\n",
            "104/104 [==============================] - 11s 102ms/step - loss: 0.5739 - accuracy: 0.7655 - val_loss: 0.8917 - val_accuracy: 0.6304\n",
            "Epoch 5/10\n",
            "104/104 [==============================] - 11s 102ms/step - loss: 0.4798 - accuracy: 0.8141 - val_loss: 0.9659 - val_accuracy: 0.6186\n",
            "Epoch 6/10\n",
            "104/104 [==============================] - 11s 102ms/step - loss: 0.3963 - accuracy: 0.8556 - val_loss: 1.0749 - val_accuracy: 0.5979\n",
            "Epoch 7/10\n",
            "104/104 [==============================] - 11s 101ms/step - loss: 0.3088 - accuracy: 0.8941 - val_loss: 1.1868 - val_accuracy: 0.6196\n",
            "Epoch 8/10\n",
            "104/104 [==============================] - 11s 102ms/step - loss: 0.2328 - accuracy: 0.9251 - val_loss: 1.3025 - val_accuracy: 0.5921\n",
            "Epoch 9/10\n",
            "104/104 [==============================] - 11s 102ms/step - loss: 0.1679 - accuracy: 0.9511 - val_loss: 1.4469 - val_accuracy: 0.5986\n",
            "Epoch 10/10\n",
            "104/104 [==============================] - 11s 101ms/step - loss: 0.1112 - accuracy: 0.9695 - val_loss: 1.6129 - val_accuracy: 0.5958\n"
          ],
          "name": "stdout"
        }
      ]
    },
    {
      "cell_type": "code",
      "metadata": {
        "colab": {
          "base_uri": "https://localhost:8080/"
        },
        "id": "dcxUcyfU2lFu",
        "outputId": "f4b84a98-209b-4ffd-b987-2db115e92203"
      },
      "source": [
        "#Evaluamos la perdida del modelo y su presicion con el conjunto de test\n",
        "print(f'Model loss(1) and accuracy(2): {model.evaluate(X_test, y_test)}')"
      ],
      "execution_count": null,
      "outputs": [
        {
          "output_type": "stream",
          "text": [
            "47/47 [==============================] - 0s 10ms/step - loss: 1.6500 - accuracy: 0.5889\n",
            "Model loss(1) and accuracy(2): [1.6499515771865845, 0.5888665318489075]\n"
          ],
          "name": "stdout"
        }
      ]
    },
    {
      "cell_type": "code",
      "metadata": {
        "id": "eVPJEdXa2oFh"
      },
      "source": [
        "# Guardamos las metricas del entrenamiento\n",
        "acc = history.history['accuracy']\n",
        "val_acc = history.history['val_accuracy']\n",
        "loss = history.history['loss']\n",
        "val_loss = history.history['val_loss']"
      ],
      "execution_count": null,
      "outputs": []
    },
    {
      "cell_type": "code",
      "metadata": {
        "colab": {
          "base_uri": "https://localhost:8080/",
          "height": 542
        },
        "id": "Sns45Vr82rd-",
        "outputId": "f636f1d3-3081-4e71-b32a-619f1629cc7a"
      },
      "source": [
        "# Graficamos con with Plotly\n",
        "from plotly.subplots import make_subplots\n",
        "import plotly.graph_objects as go\n",
        "import plotly.express as px\n",
        "epochs = range(1, 10 + 1)\n",
        "\n",
        "fig = make_subplots(rows=2, cols=1, subplot_titles=('Loss', 'Accuracy'))\n",
        "\n",
        "fig.add_trace(\n",
        "    go.Scatter(x=list(epochs), y=loss, mode='lines+markers', name='Training loss'),\n",
        "    row=1, col=1\n",
        ")\n",
        "\n",
        "fig.add_trace(\n",
        "    go.Scatter(x=list(epochs), y=val_loss, mode='lines+markers', name='Validation loss'),\n",
        "    row=1, col=1\n",
        ")\n",
        "\n",
        "fig.add_trace(\n",
        "    go.Scatter(x=list(epochs), y=acc, mode='lines+markers', name='Training accuracy'),\n",
        "    row=2, col=1\n",
        ")\n",
        "\n",
        "fig.add_trace(\n",
        "    go.Scatter(x=list(epochs), y=val_acc, mode='lines+markers', name='Validation accuracy'),\n",
        "    row=2, col=1\n",
        ")\n",
        "\n",
        "fig.show()"
      ],
      "execution_count": null,
      "outputs": [
        {
          "output_type": "display_data",
          "data": {
            "text/html": [
              "<html>\n",
              "<head><meta charset=\"utf-8\" /></head>\n",
              "<body>\n",
              "    <div>\n",
              "            <script src=\"https://cdnjs.cloudflare.com/ajax/libs/mathjax/2.7.5/MathJax.js?config=TeX-AMS-MML_SVG\"></script><script type=\"text/javascript\">if (window.MathJax) {MathJax.Hub.Config({SVG: {font: \"STIX-Web\"}});}</script>\n",
              "                <script type=\"text/javascript\">window.PlotlyConfig = {MathJaxConfig: 'local'};</script>\n",
              "        <script src=\"https://cdn.plot.ly/plotly-latest.min.js\"></script>    \n",
              "            <div id=\"47614b1c-3f03-4d79-93d7-2c5ea4790a68\" class=\"plotly-graph-div\" style=\"height:525px; width:100%;\"></div>\n",
              "            <script type=\"text/javascript\">\n",
              "                \n",
              "                    window.PLOTLYENV=window.PLOTLYENV || {};\n",
              "                    \n",
              "                if (document.getElementById(\"47614b1c-3f03-4d79-93d7-2c5ea4790a68\")) {\n",
              "                    Plotly.newPlot(\n",
              "                        '47614b1c-3f03-4d79-93d7-2c5ea4790a68',\n",
              "                        [{\"mode\": \"lines+markers\", \"name\": \"Training loss\", \"type\": \"scatter\", \"x\": [1, 2, 3, 4, 5, 6, 7, 8, 9, 10], \"xaxis\": \"x\", \"y\": [1.1512097120285034, 0.8069083094596863, 0.6774629950523376, 0.5739036798477173, 0.47977906465530396, 0.3963181674480438, 0.3088478446006775, 0.2328420728445053, 0.16789498925209045, 0.11116939783096313], \"yaxis\": \"y\"}, {\"mode\": \"lines+markers\", \"name\": \"Validation loss\", \"type\": \"scatter\", \"x\": [1, 2, 3, 4, 5, 6, 7, 8, 9, 10], \"xaxis\": \"x\", \"y\": [0.9421927332878113, 0.8362345695495605, 0.860663890838623, 0.8917074203491211, 0.9658822417259216, 1.0748533010482788, 1.1867579221725464, 1.3024978637695312, 1.4468785524368286, 1.6129450798034668], \"yaxis\": \"y\"}, {\"mode\": \"lines+markers\", \"name\": \"Training accuracy\", \"type\": \"scatter\", \"x\": [1, 2, 3, 4, 5, 6, 7, 8, 9, 10], \"xaxis\": \"x2\", \"y\": [0.4945864677429199, 0.6394736766815186, 0.7098495960235596, 0.7654887437820435, 0.8141353130340576, 0.8555639386177063, 0.8941353559494019, 0.925112783908844, 0.9510526061058044, 0.9695488810539246], \"yaxis\": \"y2\"}, {\"mode\": \"lines+markers\", \"name\": \"Validation accuracy\", \"type\": \"scatter\", \"x\": [1, 2, 3, 4, 5, 6, 7, 8, 9, 10], \"xaxis\": \"x2\", \"y\": [0.5768421292304993, 0.6359649300575256, 0.6361403465270996, 0.6303508877754211, 0.6185964941978455, 0.5978947281837463, 0.6196491122245789, 0.5921052694320679, 0.5985965132713318, 0.5957894921302795], \"yaxis\": \"y2\"}],\n",
              "                        {\"annotations\": [{\"font\": {\"size\": 16}, \"showarrow\": false, \"text\": \"Loss\", \"x\": 0.5, \"xanchor\": \"center\", \"xref\": \"paper\", \"y\": 1.0, \"yanchor\": \"bottom\", \"yref\": \"paper\"}, {\"font\": {\"size\": 16}, \"showarrow\": false, \"text\": \"Accuracy\", \"x\": 0.5, \"xanchor\": \"center\", \"xref\": \"paper\", \"y\": 0.375, \"yanchor\": \"bottom\", \"yref\": \"paper\"}], \"template\": {\"data\": {\"bar\": [{\"error_x\": {\"color\": \"#2a3f5f\"}, \"error_y\": {\"color\": \"#2a3f5f\"}, \"marker\": {\"line\": {\"color\": \"#E5ECF6\", \"width\": 0.5}}, \"type\": \"bar\"}], \"barpolar\": [{\"marker\": {\"line\": {\"color\": \"#E5ECF6\", \"width\": 0.5}}, \"type\": \"barpolar\"}], \"carpet\": [{\"aaxis\": {\"endlinecolor\": \"#2a3f5f\", \"gridcolor\": \"white\", \"linecolor\": \"white\", \"minorgridcolor\": \"white\", \"startlinecolor\": \"#2a3f5f\"}, \"baxis\": {\"endlinecolor\": \"#2a3f5f\", \"gridcolor\": \"white\", \"linecolor\": \"white\", \"minorgridcolor\": \"white\", \"startlinecolor\": \"#2a3f5f\"}, \"type\": \"carpet\"}], \"choropleth\": [{\"colorbar\": {\"outlinewidth\": 0, \"ticks\": \"\"}, \"type\": \"choropleth\"}], \"contour\": [{\"colorbar\": {\"outlinewidth\": 0, \"ticks\": \"\"}, \"colorscale\": [[0.0, \"#0d0887\"], [0.1111111111111111, \"#46039f\"], [0.2222222222222222, \"#7201a8\"], [0.3333333333333333, \"#9c179e\"], [0.4444444444444444, \"#bd3786\"], [0.5555555555555556, \"#d8576b\"], [0.6666666666666666, \"#ed7953\"], [0.7777777777777778, \"#fb9f3a\"], [0.8888888888888888, \"#fdca26\"], [1.0, \"#f0f921\"]], \"type\": \"contour\"}], \"contourcarpet\": [{\"colorbar\": {\"outlinewidth\": 0, \"ticks\": \"\"}, \"type\": \"contourcarpet\"}], \"heatmap\": [{\"colorbar\": {\"outlinewidth\": 0, \"ticks\": \"\"}, \"colorscale\": [[0.0, \"#0d0887\"], [0.1111111111111111, \"#46039f\"], [0.2222222222222222, \"#7201a8\"], [0.3333333333333333, \"#9c179e\"], [0.4444444444444444, \"#bd3786\"], [0.5555555555555556, \"#d8576b\"], [0.6666666666666666, \"#ed7953\"], [0.7777777777777778, \"#fb9f3a\"], [0.8888888888888888, \"#fdca26\"], [1.0, \"#f0f921\"]], \"type\": \"heatmap\"}], \"heatmapgl\": [{\"colorbar\": {\"outlinewidth\": 0, \"ticks\": \"\"}, \"colorscale\": [[0.0, \"#0d0887\"], [0.1111111111111111, \"#46039f\"], [0.2222222222222222, \"#7201a8\"], [0.3333333333333333, \"#9c179e\"], [0.4444444444444444, \"#bd3786\"], [0.5555555555555556, \"#d8576b\"], [0.6666666666666666, \"#ed7953\"], [0.7777777777777778, \"#fb9f3a\"], [0.8888888888888888, \"#fdca26\"], [1.0, \"#f0f921\"]], \"type\": \"heatmapgl\"}], \"histogram\": [{\"marker\": {\"colorbar\": {\"outlinewidth\": 0, \"ticks\": \"\"}}, \"type\": \"histogram\"}], \"histogram2d\": [{\"colorbar\": {\"outlinewidth\": 0, \"ticks\": \"\"}, \"colorscale\": [[0.0, \"#0d0887\"], [0.1111111111111111, \"#46039f\"], [0.2222222222222222, \"#7201a8\"], [0.3333333333333333, \"#9c179e\"], [0.4444444444444444, \"#bd3786\"], [0.5555555555555556, \"#d8576b\"], [0.6666666666666666, \"#ed7953\"], [0.7777777777777778, \"#fb9f3a\"], [0.8888888888888888, \"#fdca26\"], [1.0, \"#f0f921\"]], \"type\": \"histogram2d\"}], \"histogram2dcontour\": [{\"colorbar\": {\"outlinewidth\": 0, \"ticks\": \"\"}, \"colorscale\": [[0.0, \"#0d0887\"], [0.1111111111111111, \"#46039f\"], [0.2222222222222222, \"#7201a8\"], [0.3333333333333333, \"#9c179e\"], [0.4444444444444444, \"#bd3786\"], [0.5555555555555556, \"#d8576b\"], [0.6666666666666666, \"#ed7953\"], [0.7777777777777778, \"#fb9f3a\"], [0.8888888888888888, \"#fdca26\"], [1.0, \"#f0f921\"]], \"type\": \"histogram2dcontour\"}], \"mesh3d\": [{\"colorbar\": {\"outlinewidth\": 0, \"ticks\": \"\"}, \"type\": \"mesh3d\"}], \"parcoords\": [{\"line\": {\"colorbar\": {\"outlinewidth\": 0, \"ticks\": \"\"}}, \"type\": \"parcoords\"}], \"pie\": [{\"automargin\": true, \"type\": \"pie\"}], \"scatter\": [{\"marker\": {\"colorbar\": {\"outlinewidth\": 0, \"ticks\": \"\"}}, \"type\": \"scatter\"}], \"scatter3d\": [{\"line\": {\"colorbar\": {\"outlinewidth\": 0, \"ticks\": \"\"}}, \"marker\": {\"colorbar\": {\"outlinewidth\": 0, \"ticks\": \"\"}}, \"type\": \"scatter3d\"}], \"scattercarpet\": [{\"marker\": {\"colorbar\": {\"outlinewidth\": 0, \"ticks\": \"\"}}, \"type\": \"scattercarpet\"}], \"scattergeo\": [{\"marker\": {\"colorbar\": {\"outlinewidth\": 0, \"ticks\": \"\"}}, \"type\": \"scattergeo\"}], \"scattergl\": [{\"marker\": {\"colorbar\": {\"outlinewidth\": 0, \"ticks\": \"\"}}, \"type\": \"scattergl\"}], \"scattermapbox\": [{\"marker\": {\"colorbar\": {\"outlinewidth\": 0, \"ticks\": \"\"}}, \"type\": \"scattermapbox\"}], \"scatterpolar\": [{\"marker\": {\"colorbar\": {\"outlinewidth\": 0, \"ticks\": \"\"}}, \"type\": \"scatterpolar\"}], \"scatterpolargl\": [{\"marker\": {\"colorbar\": {\"outlinewidth\": 0, \"ticks\": \"\"}}, \"type\": \"scatterpolargl\"}], \"scatterternary\": [{\"marker\": {\"colorbar\": {\"outlinewidth\": 0, \"ticks\": \"\"}}, \"type\": \"scatterternary\"}], \"surface\": [{\"colorbar\": {\"outlinewidth\": 0, \"ticks\": \"\"}, \"colorscale\": [[0.0, \"#0d0887\"], [0.1111111111111111, \"#46039f\"], [0.2222222222222222, \"#7201a8\"], [0.3333333333333333, \"#9c179e\"], [0.4444444444444444, \"#bd3786\"], [0.5555555555555556, \"#d8576b\"], [0.6666666666666666, \"#ed7953\"], [0.7777777777777778, \"#fb9f3a\"], [0.8888888888888888, \"#fdca26\"], [1.0, \"#f0f921\"]], \"type\": \"surface\"}], \"table\": [{\"cells\": {\"fill\": {\"color\": \"#EBF0F8\"}, \"line\": {\"color\": \"white\"}}, \"header\": {\"fill\": {\"color\": \"#C8D4E3\"}, \"line\": {\"color\": \"white\"}}, \"type\": \"table\"}]}, \"layout\": {\"annotationdefaults\": {\"arrowcolor\": \"#2a3f5f\", \"arrowhead\": 0, \"arrowwidth\": 1}, \"coloraxis\": {\"colorbar\": {\"outlinewidth\": 0, \"ticks\": \"\"}}, \"colorscale\": {\"diverging\": [[0, \"#8e0152\"], [0.1, \"#c51b7d\"], [0.2, \"#de77ae\"], [0.3, \"#f1b6da\"], [0.4, \"#fde0ef\"], [0.5, \"#f7f7f7\"], [0.6, \"#e6f5d0\"], [0.7, \"#b8e186\"], [0.8, \"#7fbc41\"], [0.9, \"#4d9221\"], [1, \"#276419\"]], \"sequential\": [[0.0, \"#0d0887\"], [0.1111111111111111, \"#46039f\"], [0.2222222222222222, \"#7201a8\"], [0.3333333333333333, \"#9c179e\"], [0.4444444444444444, \"#bd3786\"], [0.5555555555555556, \"#d8576b\"], [0.6666666666666666, \"#ed7953\"], [0.7777777777777778, \"#fb9f3a\"], [0.8888888888888888, \"#fdca26\"], [1.0, \"#f0f921\"]], \"sequentialminus\": [[0.0, \"#0d0887\"], [0.1111111111111111, \"#46039f\"], [0.2222222222222222, \"#7201a8\"], [0.3333333333333333, \"#9c179e\"], [0.4444444444444444, \"#bd3786\"], [0.5555555555555556, \"#d8576b\"], [0.6666666666666666, \"#ed7953\"], [0.7777777777777778, \"#fb9f3a\"], [0.8888888888888888, \"#fdca26\"], [1.0, \"#f0f921\"]]}, \"colorway\": [\"#636efa\", \"#EF553B\", \"#00cc96\", \"#ab63fa\", \"#FFA15A\", \"#19d3f3\", \"#FF6692\", \"#B6E880\", \"#FF97FF\", \"#FECB52\"], \"font\": {\"color\": \"#2a3f5f\"}, \"geo\": {\"bgcolor\": \"white\", \"lakecolor\": \"white\", \"landcolor\": \"#E5ECF6\", \"showlakes\": true, \"showland\": true, \"subunitcolor\": \"white\"}, \"hoverlabel\": {\"align\": \"left\"}, \"hovermode\": \"closest\", \"mapbox\": {\"style\": \"light\"}, \"paper_bgcolor\": \"white\", \"plot_bgcolor\": \"#E5ECF6\", \"polar\": {\"angularaxis\": {\"gridcolor\": \"white\", \"linecolor\": \"white\", \"ticks\": \"\"}, \"bgcolor\": \"#E5ECF6\", \"radialaxis\": {\"gridcolor\": \"white\", \"linecolor\": \"white\", \"ticks\": \"\"}}, \"scene\": {\"xaxis\": {\"backgroundcolor\": \"#E5ECF6\", \"gridcolor\": \"white\", \"gridwidth\": 2, \"linecolor\": \"white\", \"showbackground\": true, \"ticks\": \"\", \"zerolinecolor\": \"white\"}, \"yaxis\": {\"backgroundcolor\": \"#E5ECF6\", \"gridcolor\": \"white\", \"gridwidth\": 2, \"linecolor\": \"white\", \"showbackground\": true, \"ticks\": \"\", \"zerolinecolor\": \"white\"}, \"zaxis\": {\"backgroundcolor\": \"#E5ECF6\", \"gridcolor\": \"white\", \"gridwidth\": 2, \"linecolor\": \"white\", \"showbackground\": true, \"ticks\": \"\", \"zerolinecolor\": \"white\"}}, \"shapedefaults\": {\"line\": {\"color\": \"#2a3f5f\"}}, \"ternary\": {\"aaxis\": {\"gridcolor\": \"white\", \"linecolor\": \"white\", \"ticks\": \"\"}, \"baxis\": {\"gridcolor\": \"white\", \"linecolor\": \"white\", \"ticks\": \"\"}, \"bgcolor\": \"#E5ECF6\", \"caxis\": {\"gridcolor\": \"white\", \"linecolor\": \"white\", \"ticks\": \"\"}}, \"title\": {\"x\": 0.05}, \"xaxis\": {\"automargin\": true, \"gridcolor\": \"white\", \"linecolor\": \"white\", \"ticks\": \"\", \"title\": {\"standoff\": 15}, \"zerolinecolor\": \"white\", \"zerolinewidth\": 2}, \"yaxis\": {\"automargin\": true, \"gridcolor\": \"white\", \"linecolor\": \"white\", \"ticks\": \"\", \"title\": {\"standoff\": 15}, \"zerolinecolor\": \"white\", \"zerolinewidth\": 2}}}, \"xaxis\": {\"anchor\": \"y\", \"domain\": [0.0, 1.0]}, \"xaxis2\": {\"anchor\": \"y2\", \"domain\": [0.0, 1.0]}, \"yaxis\": {\"anchor\": \"x\", \"domain\": [0.625, 1.0]}, \"yaxis2\": {\"anchor\": \"x2\", \"domain\": [0.0, 0.375]}},\n",
              "                        {\"responsive\": true}\n",
              "                    ).then(function(){\n",
              "                            \n",
              "var gd = document.getElementById('47614b1c-3f03-4d79-93d7-2c5ea4790a68');\n",
              "var x = new MutationObserver(function (mutations, observer) {{\n",
              "        var display = window.getComputedStyle(gd).display;\n",
              "        if (!display || display === 'none') {{\n",
              "            console.log([gd, 'removed!']);\n",
              "            Plotly.purge(gd);\n",
              "            observer.disconnect();\n",
              "        }}\n",
              "}});\n",
              "\n",
              "// Listen for the removal of the full notebook cells\n",
              "var notebookContainer = gd.closest('#notebook-container');\n",
              "if (notebookContainer) {{\n",
              "    x.observe(notebookContainer, {childList: true});\n",
              "}}\n",
              "\n",
              "// Listen for the clearing of the current output cell\n",
              "var outputEl = gd.closest('.output');\n",
              "if (outputEl) {{\n",
              "    x.observe(outputEl, {childList: true});\n",
              "}}\n",
              "\n",
              "                        })\n",
              "                };\n",
              "                \n",
              "            </script>\n",
              "        </div>\n",
              "</body>\n",
              "</html>"
            ]
          },
          "metadata": {
            "tags": []
          }
        }
      ]
    },
    {
      "cell_type": "markdown",
      "metadata": {
        "id": "7o2B3tTx8Gq_"
      },
      "source": [
        "Este gráfico nos muestra que el modelo comenzo a overfittear, y que a partir de la segunda iteración ya pierde poder predictivo."
      ]
    },
    {
      "cell_type": "code",
      "metadata": {
        "id": "E0iUmLaU8GGB",
        "colab": {
          "base_uri": "https://localhost:8080/"
        },
        "outputId": "c39f9cf7-e08c-4f04-a1d1-14bbdcefc3dd"
      },
      "source": [
        "from keras.callbacks import ModelCheckpoint, EarlyStopping\n",
        "es = EarlyStopping(monitor='val_accuracy', mode='max')\n",
        "\n",
        "history2 = model.fit(X_train,\n",
        "                    y_train,\n",
        "                    epochs=40,\n",
        "                    batch_size=128,\n",
        "                    validation_split=0.2,\n",
        "                    callbacks=[es])"
      ],
      "execution_count": null,
      "outputs": [
        {
          "output_type": "stream",
          "text": [
            "Epoch 1/40\n",
            "119/119 [==============================] - 11s 96ms/step - loss: 0.2476 - accuracy: 0.9366 - val_loss: 1.3650 - val_accuracy: 0.6034\n",
            "Epoch 2/40\n",
            "119/119 [==============================] - 11s 96ms/step - loss: 0.1405 - accuracy: 0.9629 - val_loss: 1.4663 - val_accuracy: 0.5921\n"
          ],
          "name": "stdout"
        }
      ]
    },
    {
      "cell_type": "code",
      "metadata": {
        "colab": {
          "base_uri": "https://localhost:8080/"
        },
        "id": "PMMk_SDR3dBB",
        "outputId": "282bfc50-f969-4e4e-8b46-7aeacdef5458"
      },
      "source": [
        "#Evaluamos la presicion del este modelo\n",
        "print(f'Model loss(1) and accuracy(2): {model.evaluate(X_test, y_test)}')"
      ],
      "execution_count": null,
      "outputs": [
        {
          "output_type": "stream",
          "text": [
            "47/47 [==============================] - 0s 10ms/step - loss: 1.4446 - accuracy: 0.5815\n",
            "Model loss(1) and accuracy(2): [1.4446481466293335, 0.5814889073371887]\n"
          ],
          "name": "stdout"
        }
      ]
    },
    {
      "cell_type": "markdown",
      "metadata": {
        "id": "0EVHvX3fShEH"
      },
      "source": [
        "Vemos que el modelo tiene menos perdida y una presicion similar en solo 2 \"epochs\", de esta forma prevenimos que el modelo entrene de más perdiendo asi poder predictivo (lo que se conoce comunmente como overfit)."
      ]
    },
    {
      "cell_type": "markdown",
      "metadata": {
        "id": "sYWgAiaEgMlM"
      },
      "source": [
        "# Balanceo del dataset\n",
        "En vista de que los modelos comparten una capacidad predictiva similar, vamos a intentar entrenar un modelo LDA pero con un dataset balanceado.\\\n",
        "Ya que con estos modelos entrenados con un dataset desbalanceado podremos predecir con mayor precisión puntajes de 5 estrellas pero esa precision empeora para ratings más bajos."
      ]
    },
    {
      "cell_type": "code",
      "metadata": {
        "colab": {
          "base_uri": "https://localhost:8080/",
          "height": 296
        },
        "id": "bwr4tzRSgZKQ",
        "outputId": "cbf57f77-2bdc-4ea0-c545-a986e6fd6768"
      },
      "source": [
        "df = pd.read_csv('https://github.com/pokengineer/rawdata/blob/main/tripadvisor_hotel_reviews.csv?raw=true')\n",
        "sns.countplot(x='Rating', data=df,  palette=\"pastel\")"
      ],
      "execution_count": null,
      "outputs": [
        {
          "output_type": "execute_result",
          "data": {
            "text/plain": [
              "<AxesSubplot:xlabel='Rating', ylabel='count'>"
            ]
          },
          "metadata": {
            "tags": []
          },
          "execution_count": 12
        },
        {
          "output_type": "display_data",
          "data": {
            "text/plain": [
              "<Figure size 432x288 with 1 Axes>"
            ],
            "image/png": "[encoded data removed]"
          },
          "metadata": {
            "tags": [],
            "needs_background": "light"
          }
        }
      ]
    },
    {
      "cell_type": "code",
      "metadata": {
        "colab": {
          "base_uri": "https://localhost:8080/"
        },
        "id": "lmStJ7ldhxT2",
        "outputId": "be6d5079-a1f1-492b-ad61-6e553c590d6d"
      },
      "source": [
        "print(df['Rating'].value_counts(normalize = False))"
      ],
      "execution_count": null,
      "outputs": [
        {
          "output_type": "stream",
          "text": [
            "5    9054\n",
            "4    6039\n",
            "3    2184\n",
            "2    1793\n",
            "1    1421\n",
            "Name: Rating, dtype: int64\n"
          ],
          "name": "stdout"
        }
      ]
    },
    {
      "cell_type": "markdown",
      "metadata": {
        "id": "pr02zbCoXO05"
      },
      "source": [
        "Como podemos ver contamos con menos de 1500 reseñas de 1 estrella y con más de 9000 reseñas de 5 estrellas.\\\n",
        "Existen varias estrategias para afrontar un dataset desbalanceado, y comunmente en este caso intentariamos conseguir más datos, ya que con más datos siempre se podrá conseguir un modelo con mejor poder predictivo.\\\n",
        "Otra estrategia posible será la generación de reseñas artificiales, pero como contamos con tan pocos datos, podemos suponer que estas reseñas van a resultar casi identicas a las que ya tenemos, ademas el metodo de generacion de reseñas implica un clustering de las reseñas que queremos multiplicar y esta es una tarea que se escapa de las posibilidades de este trabajo.\\\n",
        "Finalmente otra estrategia para trabajar con datasets desbalanceados sería eliminar algunos indices del dataset y trabajar asi con un dataset más pequeño pero balanceado."
      ]
    },
    {
      "cell_type": "code",
      "metadata": {
        "colab": {
          "base_uri": "https://localhost:8080/"
        },
        "id": "6FEkqLMSiONi",
        "outputId": "4a1507d2-9cb1-420c-f384-5524d501cde1"
      },
      "source": [
        "df[df['Rating']==1].count()"
      ],
      "execution_count": null,
      "outputs": [
        {
          "output_type": "execute_result",
          "data": {
            "text/plain": [
              "Review    1421\n",
              "Rating    1421\n",
              "dtype: int64"
            ]
          },
          "metadata": {
            "tags": []
          },
          "execution_count": 14
        }
      ]
    },
    {
      "cell_type": "code",
      "metadata": {
        "id": "zLRY9mKXh0AS"
      },
      "source": [
        "remove_n = 7000\n",
        "drop_indices = np.random.choice(df[df['Rating']==5].index, remove_n, replace=False)\n",
        "df_subset = df.drop(drop_indices)\n",
        "remove_n = 4000\n",
        "drop_indices = np.random.choice(df[df['Rating']==4].index, remove_n, replace=False)\n",
        "df_subset = df_subset.drop(drop_indices)"
      ],
      "execution_count": null,
      "outputs": []
    },
    {
      "cell_type": "code",
      "metadata": {
        "colab": {
          "base_uri": "https://localhost:8080/",
          "height": 296
        },
        "id": "uSPoIICzjB1O",
        "outputId": "f1d7b856-1a17-4f59-cada-28ba9b4402ed"
      },
      "source": [
        "sns.countplot(x='Rating', data=df_subset,  palette=\"pastel\")"
      ],
      "execution_count": null,
      "outputs": [
        {
          "output_type": "execute_result",
          "data": {
            "text/plain": [
              "<AxesSubplot:xlabel='Rating', ylabel='count'>"
            ]
          },
          "metadata": {
            "tags": []
          },
          "execution_count": 16
        },
        {
          "output_type": "display_data",
          "data": {
            "text/plain": [
              "<Figure size 432x288 with 1 Axes>"
            ],
            "image/png": "[encoded data removed]"
          },
          "metadata": {
            "tags": [],
            "needs_background": "light"
          }
        }
      ]
    },
    {
      "cell_type": "markdown",
      "metadata": {
        "id": "xzJCeDqraGpD"
      },
      "source": [
        "Ahora contamos con un set de datos de aproximadamente 9000 elementos.\n",
        "Volvemos a ejecutar las rutinas de pre-procesamiento de texto y entrenamiento del modelo."
      ]
    },
    {
      "cell_type": "code",
      "metadata": {
        "id": "CujfzPPdjiFS"
      },
      "source": [
        "docs= np.array(df_subset['Review'])\n",
        "def docs_preprocessor(docs):\n",
        "    tokenizer = RegexpTokenizer(r'\\w+')\n",
        "    \n",
        "    for idx in range(len(docs)):\n",
        "        docs[idx] = docs[idx].lower()\n",
        "        docs[idx] = tokenizer.tokenize(docs[idx]) \n",
        "\n",
        "    docs = [[token for token in doc if not token.isdigit()] for doc in docs]\n",
        "    \n",
        "    docs = [[token for token in doc if len(token) > 3] for doc in docs]\n",
        "    \n",
        "    lemmatizer = WordNetLemmatizer()\n",
        "    docs = [[lemmatizer.lemmatize(token) for token in doc] for doc in docs]\n",
        "  \n",
        "    return docs\n",
        "\n",
        "docs = docs_preprocessor(docs)"
      ],
      "execution_count": null,
      "outputs": []
    },
    {
      "cell_type": "code",
      "metadata": {
        "id": "r-AGaEDJjwSO"
      },
      "source": [
        "bigram = Phrases(docs, min_count=10)\n",
        "trigram = Phrases(bigram[docs])\n",
        "\n",
        "for idx in range(len(docs)):\n",
        "    for token in bigram[docs[idx]]:\n",
        "        if '_' in token:\n",
        "            docs[idx].append(token)\n",
        "    for token in trigram[docs[idx]]:\n",
        "        if '_' in token:\n",
        "            docs[idx].append(token)"
      ],
      "execution_count": null,
      "outputs": []
    },
    {
      "cell_type": "code",
      "metadata": {
        "colab": {
          "base_uri": "https://localhost:8080/"
        },
        "id": "05ImSLgLj3an",
        "outputId": "2a9b031e-505d-4a8a-e872-62316f202eb5"
      },
      "source": [
        "# Creamos un diccionario con los tokens de docs.\n",
        "dictionary = Dictionary(docs)\n",
        "print('Cantidad de palabras distintas en el diccionario:', len(dictionary))\n",
        "\n",
        "# filtramos las palabras que aparezcan menos de 10 veces o en más del 20% del documento\n",
        "dictionary.filter_extremes(no_below=10, no_above=0.2)\n",
        "print('Cantidad de palabtas distintas luego de remover las más raras y las más comunes:', len(dictionary))\n",
        "\n",
        "corpus = [dictionary.doc2bow(doc) for doc in docs]\n",
        "print('Cantidad de tokens únicos: %d' % len(dictionary))\n",
        "print('Cantidad de documentos: %d' % len(corpus))"
      ],
      "execution_count": null,
      "outputs": [
        {
          "output_type": "stream",
          "text": [
            "Cantidad de palabras distintas en el diccionario: 34402\n",
            "Cantidad de palabtas distintas luego de remover las más raras y las más comunes: 7463\n",
            "Cantidad de tokens únicos: 7463\n",
            "Cantidad de documentos: 9491\n"
          ],
          "name": "stdout"
        }
      ]
    },
    {
      "cell_type": "code",
      "metadata": {
        "colab": {
          "base_uri": "https://localhost:8080/"
        },
        "id": "xRSAwyhPj-m7",
        "outputId": "14648a88-6376-4a1e-9d91-0f568187a926"
      },
      "source": [
        "num_topics = 10\n",
        "chunksize = 500 \n",
        "passes = 20 \n",
        "iterations = 400\n",
        "eval_every = 1  \n",
        "temp = dictionary[0] \n",
        "id2word = dictionary.id2token\n",
        "\n",
        "%time model = LdaModel(corpus=corpus, id2word=id2word, chunksize=chunksize, \\\n",
        "                       alpha='auto', eta='auto', \\\n",
        "                       iterations=iterations, num_topics=num_topics, \\\n",
        "                       passes=passes, eval_every=eval_every,random_state=12)"
      ],
      "execution_count": null,
      "outputs": [
        {
          "output_type": "stream",
          "text": [
            "Wall time: 2min 29s\n"
          ],
          "name": "stdout"
        }
      ]
    },
    {
      "cell_type": "code",
      "metadata": {
        "colab": {
          "base_uri": "https://localhost:8080/",
          "height": 861
        },
        "id": "V0yTN_-RkA_D",
        "outputId": "8a3d274a-e142-493f-c102-a4ee512da431"
      },
      "source": [
        "pyLDAvis.gensim.prepare(model, corpus, dictionary)"
      ],
      "execution_count": null,
      "outputs": [
        {
          "output_type": "execute_result",
          "data": {
            "text/plain": [
              "PreparedData(topic_coordinates=              x         y  topics  cluster       Freq\n",
              "topic                                                \n",
              "3     -0.165356  0.032838       1        1  21.698585\n",
              "4     -0.187732  0.038520       2        1  15.034879\n",
              "8     -0.171259  0.110165       3        1  14.614539\n",
              "9     -0.038036 -0.200038       4        1  13.033139\n",
              "5     -0.051787 -0.138382       5        1   9.873986\n",
              "6     -0.001236  0.006240       6        1   7.642680\n",
              "0     -0.037972  0.296475       7        1   7.440910\n",
              "1      0.047727 -0.274479       8        1   5.507680\n",
              "2      0.325938  0.110984       9        1   3.000787\n",
              "7      0.279712  0.017678      10        1   2.152816, topic_info=                Term         Freq        Total Category  logprob  loglift\n",
              "3595          resort  4770.000000  4770.000000  Default  30.0000  30.0000\n",
              "6348      punta_cana  2287.000000  2287.000000  Default  29.0000  29.0000\n",
              "656   great_location  2607.000000  2607.000000  Default  28.0000  28.0000\n",
              "283   staff_friendly  2481.000000  2481.000000  Default  27.0000  27.0000\n",
              "446       didn__ç_é_  1267.000000  1267.000000  Default  26.0000  26.0000\n",
              "...              ...          ...          ...      ...      ...      ...\n",
              "1061        boutique   157.330959   190.912991  Topic10  -4.7428   3.6449\n",
              "4862            euro   377.010657   737.172154  Topic10  -3.8689   3.1678\n",
              "76            hilton   198.002239   336.085559  Topic10  -4.5129   3.3093\n",
              "922         pressure   139.938918   211.306317  Topic10  -4.8600   3.4263\n",
              "701           center   149.711403   515.690899  Topic10  -4.7925   2.6016\n",
              "\n",
              "[542 rows x 6 columns], token_table=      Topic      Freq        Term\n",
              "term                             \n",
              "294       2  0.023941      access\n",
              "294       4  0.323836      access\n",
              "294       8  0.651452      access\n",
              "3942      1  0.998996    activity\n",
              "1435      3  0.995532     advance\n",
              "...     ...       ...         ...\n",
              "599       3  0.045772        year\n",
              "599       4  0.061264        year\n",
              "599       6  0.223931        year\n",
              "599       7  0.107740        year\n",
              "5798      9  0.997737  you__ç_éèe\n",
              "\n",
              "[1004 rows x 3 columns], R=30, lambda_step=0.01, plot_opts={'xlab': 'PC1', 'ylab': 'PC2'}, topic_order=[4, 5, 9, 10, 6, 7, 1, 2, 3, 8])"
            ],
            "text/html": [
              "\n",
              "<link rel=\"stylesheet\" type=\"text/css\" href=\"https://cdn.rawgit.com/bmabey/pyLDAvis/files/ldavis.v1.0.0.css\">\n",
              "\n",
              "\n",
              "<div id=\"ldavis_el818419822748748328407397471\"></div>\n",
              "<script type=\"text/javascript\">\n",
              "\n",
              "var ldavis_el818419822748748328407397471_data = {\"mdsDat\": {\"x\": [-0.16535645192428322, -0.18773171681123121, -0.1712585718606619, -0.038036338943228706, -0.051786559625795175, -0.0012357664894941385, -0.03797186967076206, 0.04772746103187305, 0.3259376791338976, 0.27971213515968496], \"y\": [0.03283763945435475, 0.03851980004345553, 0.11016468699839631, -0.20003830299525155, -0.13838165534971905, 0.0062403989129731306, 0.29647457996955207, -0.27447869297572963, 0.11098403411820122, 0.01767751182376717], \"topics\": [1, 2, 3, 4, 5, 6, 7, 8, 9, 10], \"cluster\": [1, 1, 1, 1, 1, 1, 1, 1, 1, 1], \"Freq\": [21.69858476478819, 15.034879011485646, 14.614538688800083, 13.033138500053177, 9.873986330336958, 7.642679999019364, 7.440909908541345, 5.507680214921309, 3.0007865656585846, 2.152816016395335]}, \"tinfo\": {\"Term\": [\"resort\", \"punta_cana\", \"great_location\", \"staff_friendly\", \"didn__\\u00e7_\\u00e9_\", \"floor\", \"minute_walk\", \"told\", \"just_returned\", \"desk\", \"check\", \"station\", \"vacation\", \"internet\", \"comfortable\", \"booked\", \"door\", \"city\", \"shower\", \"view\", \"minute\", \"star\", \"cana\", \"excellent\", \"punta\", \"buffet\", \"water\", \"arrived\", \"asked\", \"drink\", \"kid\", \"don__\\u00e7_\\u00e9_\", \"it__\\u00e7_\\u00e9_\", \"entertainment\", \"dominican\", \"activity\", \"make_reservation\", \"american\", \"beer\", \"italian\", \"island\", \"bali\", \"bottled_water\", \"weather\", \"variety\", \"fresh_fruit\", \"stuff\", \"maid_service\", \"casino\", \"white\", \"gorgeous\", \"massage\", \"awesome\", \"took_hour\", \"italian_restaurant\", \"mexican\", \"relax\", \"boat\", \"japanese_restaurant\", \"looking_forward\", \"make_sure\", \"lunch\", \"buffet\", \"fruit\", \"pretty_good\", \"bring\", \"dollar\", \"drink\", \"tour\", \"water\", \"make\", \"dinner\", \"child\", \"want\", \"couple\", \"sure\", \"pretty\", \"meal\", \"best\", \"thing\", \"trip\", \"beautiful\", \"went\", \"hard\", \"different\", \"hour\", \"problem\", \"lot\", \"long\", \"towel\", \"day\", \"took\", \"going\", \"week\", \"dirty\", \"dont\", \"looked_like\", \"construction\", \"look_like\", \"broken\", \"completely\", \"rating\", \"star_rating\", \"worse\", \"puerto_rico\", \"carpet\", \"easy_walking\", \"second_floor\", \"fixed\", \"ritz_carlton\", \"good_luck\", \"juan\", \"plate\", \"small_child\", \"ritz\", \"example\", \"overpriced\", \"long_weekend\", \"condition\", \"luck\", \"staff_attentive\", \"construction_site\", \"missing\", \"worn\", \"property\", \"impression\", \"worst\", \"disappointing\", \"poor\", \"star\", \"look\", \"read_review\", \"looked\", \"smell\", \"disappointed\", \"worth_money\", \"expect\", \"review\", \"rude\", \"better\", \"guest\", \"average\", \"think\", \"need\", \"door\", \"quality\", \"experience\", \"expected\", \"thing\", \"work\", \"money\", \"read\", \"second\", \"nothing\", \"know\", \"lobby\", \"problem\", \"going\", \"floor\", \"minute_walk\", \"hong_kong\", \"customer_service\", \"card\", \"manager\", \"credit_card\", \"travel_agent\", \"customer\", \"reasonably_priced\", \"bag\", \"charged\", \"harbour_view\", \"kong\", \"hong\", \"credit\", \"called_desk\", \"room_ready\", \"dinner_reservation\", \"hour_later\", \"agent\", \"london\", \"minute_later\", \"central_station\", \"shower_curtain\", \"sydney\", \"advance\", \"situation\", \"desk_clerk\", \"save_money\", \"write_review\", \"told\", \"later\", \"checked\", \"immediately\", \"arrived\", \"called\", \"check\", \"luggage\", \"asked\", \"booking\", \"desk\", \"ready\", \"said\", \"arrival\", \"charge\", \"booked\", \"minute\", \"finally\", \"received\", \"reservation\", \"phone\", \"given\", \"hour\", \"available\", \"left\", \"went\", \"took\", \"morning\", \"problem\", \"great_location\", \"walking_distance\", \"staff_helpful\", \"staff_friendly\", \"block\", \"distance\", \"short_walk\", \"definitely_stay\", \"block_away\", \"flat_screen\", \"centre\", \"square\", \"internet_access\", \"spent_night\", \"time_square\", \"metro_station\", \"value_money\", \"florence\", \"bed_comfortable\", \"decorated\", \"centrally_located\", \"paris\", \"city_centre\", \"enjoyed_stay\", \"perfect_location\", \"downtown\", \"flat\", \"extremely_helpful\", \"spacious_clean\", \"friendly_staff\", \"spacious\", \"highly_recommend\", \"walking\", \"city\", \"husband_stayed\", \"comfortable\", \"excellent\", \"highly\", \"shopping\", \"recommend\", \"definitely\", \"located\", \"quiet\", \"perfect\", \"modern\", \"view\", \"close\", \"easy\", \"wonderful\", \"street\", \"large\", \"lovely\", \"away\", \"price\", \"fantastic\", \"best\", \"good_value\", \"noise\", \"window\", \"noisy\", \"great_value\", \"smoking\", \"junior_suite\", \"central_location\", \"honeymoon\", \"location_perfect\", \"street_noise\", \"curtain\", \"museum\", \"pleasantly_surprised\", \"shopping_area\", \"twin\", \"right_outside\", \"shower_head\", \"stair\", \"facing\", \"apart\", \"window_open\", \"madrid\", \"fully_booked\", \"half_price\", \"bedroom\", \"orchard_road\", \"bus\", \"boston\", \"suitcase\", \"queen\", \"singapore\", \"smoke\", \"tiny\", \"sleep\", \"double\", \"loud\", \"floor\", \"shower\", \"hear\", \"size\", \"bath\", \"late_night\", \"light\", \"king_size\", \"bed\", \"value\", \"door\", \"cheap\", \"suite\", \"price\", \"wall\", \"street\", \"view\", \"outside\", \"quite\", \"booked\", \"right\", \"morning\", \"pool_area\", \"just_returned\", \"buffet_breakfast\", \"reception_staff\", \"swimming_pool\", \"swim\", \"really_enjoyed\", \"spoke_english\", \"clean_modern\", \"took_minute\", \"ground_floor\", \"everyday\", \"english_speaking\", \"subway\", \"mall\", \"breakfast_lunch\", \"seafood\", \"lunch_dinner\", \"taxi_driver\", \"soft_drink\", \"mexican_restaurant\", \"public_area\", \"shopping_mall\", \"ramblas\", \"extra_charge\", \"definitely_return\", \"cocktail\", \"probably_best\", \"princess\", \"staff_polite\", \"holiday\", \"eating\", \"swimming\", \"returned\", \"english\", \"club\", \"taxi\", \"lounge\", \"lovely\", \"extra\", \"fantastic\", \"year\", \"worth\", \"evening\", \"used\", \"best\", \"safe\", \"punta_cana\", \"resort\", \"cana\", \"punta\", \"ocean\", \"ocean_blue\", \"speak_english\", \"metro\", \"sick\", \"inclusive\", \"royal_service\", \"villa\", \"carte_restaurant\", \"dominican_republic\", \"lounge_chair\", \"ocean_view\", \"royal\", \"inclusive_resort\", \"speak_spanish\", \"breeze_punta\", \"ground_beautiful\", \"bottle_water\", \"caribbean\", \"beach_beautiful\", \"waste_money\", \"golf\", \"bavaro\", \"iberostar\", \"mexico\", \"waste\", \"vacation\", \"main_buffet\", \"breeze\", \"speak\", \"carte\", \"beautiful\", \"japanese\", \"wedding\", \"week\", \"chair\", \"english\", \"drink\", \"ground\", \"trip\", \"water\", \"towel\", \"train_station\", \"train\", \"barcelona\", \"friendly_helpful\", \"free_internet\", \"nice_touch\", \"clean_comfortable\", \"nothing_special\", \"min_walk\", \"harbour\", \"wife_stayed\", \"highly_recommended\", \"reception_area\", \"recently_stayed\", \"coffee_shop\", \"musty_smell\", \"business_center\", \"darling_harbour\", \"wireless_internet\", \"having_read\", \"main_road\", \"separate_shower\", \"business_trip\", \"business_traveler\", \"sitting_area\", \"glass_wine\", \"wireless\", \"shower_bath\", \"china\", \"free_wireless\", \"internet\", \"attraction\", \"station\", \"business\", \"breakfast_buffet\", \"touch\", \"access\", \"reading_review\", \"free\", \"facility\", \"coffee\", \"euro\", \"comfortable\", \"main\", \"tourist\", \"city\", \"minute\", \"didn__\\u00e7_\\u00e9_\", \"spanish\", \"amsterdam\", \"wasn__\\u00e7_\\u00e9_\", \"i__\\u00e7_\\u00e9\", \"majestic_colonial\", \"previous_review\", \"tropical\", \"single_bed\", \"you__\\u00e7_\\u00e9\\u00e8e\", \"serve\", \"wouldn__\\u00e7_\\u00e9_\", \"spotlessly_clean\", \"couldn__\\u00e7_\\u00e9_\", \"easy_walk\", \"review_read\", \"service_slow\", \"guy\", \"that__\\u00e7_\\u00e9_\", \"weren__\\u00e7_\\u00e9_\", \"executive_lounge\", \"stylish\", \"bed_hard\", \"conveniently_located\", \"doesn__\\u00e7_\\u00e9_\", \"internet_connection\", \"high_quality\", \"bottle_champagne\", \"free_shuttle\", \"colonial\", \"executive\", \"previous\", \"breakfast_included\", \"early_morning\", \"water_pressure\", \"continental_breakfast\", \"boutique_hotel\", \"euro_night\", \"easy_access\", \"phone_call\", \"beijing\", \"coffee_maker\", \"dream\", \"cost_euro\", \"paid_extra\", \"forbidden_city\", \"traffic_noise\", \"learn\", \"seating\", \"right_middle\", \"staff_courteous\", \"main_shopping\", \"sauna\", \"fast_food\", \"price_reasonable\", \"park_plaza\", \"fitness_center\", \"roof_terrace\", \"convention_center\", \"warning\", \"convention\", \"conditioning_worked\", \"continental\", \"included\", \"boutique\", \"euro\", \"hilton\", \"pressure\", \"center\"], \"Freq\": [4770.0, 2287.0, 2607.0, 2481.0, 1267.0, 2800.0, 2006.0, 1981.0, 1381.0, 2406.0, 2236.0, 1251.0, 1244.0, 1075.0, 1675.0, 2115.0, 1924.0, 1688.0, 1882.0, 2680.0, 2695.0, 2020.0, 1018.0, 2119.0, 1012.0, 2167.0, 2760.0, 1454.0, 1553.0, 2254.0, 910.0533051871868, 763.3559220418892, 650.4728752548594, 636.3757404871836, 603.7822256348505, 560.7027298449809, 528.1304849886905, 486.7150486103392, 482.2845762274543, 475.6839286905601, 469.17103047996966, 468.0956669350204, 465.25836810034815, 402.87321548395624, 402.00572166128916, 383.76072581273047, 369.0785814128595, 350.72613395082595, 346.43463684088954, 343.46751476343854, 337.711480973787, 322.84385966619277, 320.3624095601358, 318.4685536873868, 317.8480799382837, 313.65596285965853, 308.2156529256094, 301.7585566767486, 300.87985585417454, 300.1587309584589, 1239.5732530834093, 679.3831640394664, 1994.1112787977347, 553.1034941273394, 696.7305406327157, 640.5207203733835, 417.1488148399428, 1749.7015676166106, 690.0933273456524, 1999.8826507120227, 1604.3291950614491, 993.0427283924787, 621.8909155525936, 1377.5296000063652, 934.1701757998608, 940.9967428963164, 923.0141052459581, 619.6154920516318, 1225.3832845282243, 1222.0590637921116, 1170.9819223786449, 1067.9192158163403, 1112.0050535902953, 705.4972533841449, 735.70662200674, 953.5981562888837, 915.3275015366033, 643.5132647568616, 710.3784208823814, 722.8033611006101, 743.1794241224063, 700.3261868561784, 705.4352229574386, 663.640528143672, 629.3739283900911, 571.1419161173375, 495.14332244303046, 396.31957950961595, 381.08791884752696, 362.0747802492066, 337.0473701563476, 319.30838564045047, 317.1516890264206, 295.833828816753, 293.83082336911684, 287.5030629968797, 234.02327847170224, 229.29735584066637, 224.08023800333962, 221.23476422507636, 216.94961376723083, 214.18989584322466, 205.8128318439048, 205.5749848554543, 204.33978935522865, 196.50068847587013, 258.49647557629066, 191.3280339186777, 184.50959211195712, 182.35101656103157, 178.98328640091975, 175.93954074257252, 171.61512343944491, 171.36407985514074, 758.0826323844637, 237.23304581982148, 595.8681972142653, 311.6795495430808, 722.6152323727081, 1733.611930741054, 1052.220984878313, 642.5715224289862, 680.9261438481575, 519.9592640599518, 623.9431548768465, 339.8055908025149, 772.469828345474, 1466.532676933749, 448.90932043479836, 1371.3683984718987, 1136.5898314056928, 603.3906385099137, 981.7352507728832, 1038.973070560679, 1017.2698227786616, 588.0757761734103, 917.8716536061528, 468.1568270524732, 1083.3216181108146, 707.253983781591, 754.4198210565539, 538.7802226439048, 530.2700477088774, 614.590100593746, 632.3069488843403, 665.0504775650538, 727.6972869414591, 621.2848701868213, 546.67234477379, 2006.0190742119519, 937.735891980533, 865.6855950214023, 823.3460752351087, 807.1749607584829, 661.6137555721901, 601.8954102221095, 509.6835866569163, 399.5421619139896, 435.58688718480715, 328.2882922001447, 318.19691291118664, 316.1804177994215, 314.51059741088017, 310.50868463002274, 310.43485786767667, 302.3157404157886, 281.7919004835777, 279.9088757110057, 272.5248867469549, 257.35641218848417, 250.35508385694155, 245.25421676947985, 242.17866291112577, 242.03526148832367, 233.19310122074887, 232.1192885367294, 227.35065614862336, 218.5973762255893, 216.79310095077295, 1972.7693496875347, 751.6612878129431, 719.3194013108504, 278.15880760088834, 1409.2066094666536, 932.8801628476723, 2050.33156927523, 694.9015492504418, 1409.224074475759, 574.0114958317798, 1977.3020332271378, 601.78850838533, 1351.8806279128607, 551.421020230617, 678.5800416398523, 1518.133702400013, 1761.739416365595, 546.6370346155522, 393.9743341337297, 882.9827459837844, 504.54955888223145, 670.8647311795364, 1168.8184524399953, 697.0943781714595, 709.8785365358772, 721.4804964244739, 603.1973524531697, 609.0899666200786, 621.6851490199598, 2606.7731704421562, 1219.8120707850712, 1108.065438364365, 2478.8916828616675, 783.784452650128, 658.715249821776, 589.3894683458996, 585.3860396031471, 582.652292376757, 570.5703400200157, 545.0348535137324, 539.7858185946553, 538.8883123137167, 529.3074976612257, 512.7780716008684, 422.8661692682893, 353.79915952338837, 350.4487680167526, 330.82886741361204, 318.87884588430757, 307.535772330223, 306.18974195539033, 303.5084209451499, 301.8444993732661, 281.25163436739865, 267.2158383735421, 253.54114703063087, 244.89927063960857, 244.07131816873635, 241.09244020741738, 716.7977966008277, 827.5575945761848, 949.515937716542, 1361.2568821735822, 404.6343418113791, 1302.4315119008527, 1575.940608530771, 511.4672126001711, 740.0398142979001, 1327.6675581842153, 897.0040072484444, 811.436380412449, 814.6507691525295, 722.6595056595099, 750.2041378260606, 1339.4706845098228, 854.9340556571447, 650.0019108992254, 751.2666085405343, 804.3755361826311, 778.3603243489589, 700.2192018756155, 780.0707423756511, 720.2304412776556, 607.5956680359832, 625.561826915036, 1058.6212897637909, 1032.1504630150043, 996.1847731037623, 585.4982577889655, 544.9773657639963, 422.09596083661313, 342.94920842587027, 331.43267740129573, 325.4797337612898, 277.8173724127491, 260.1753154047786, 249.45644990678122, 248.69059768224784, 247.90093368315448, 228.597258269044, 229.81811783595955, 220.75192445795165, 215.0593871557657, 213.83808413070045, 206.85951819438208, 206.77263895861893, 206.66514855928926, 194.96597061940537, 185.44789338685231, 182.43681255038356, 512.7119677770145, 174.6114921983951, 174.29825649839336, 173.67230567969605, 172.86561674381198, 214.2009871434687, 386.1823676175663, 225.41750908937598, 555.8385813280477, 749.5249438160967, 609.649374237456, 384.3312961775585, 2022.5992013563318, 1300.4620786194464, 436.0308812401866, 769.859389497214, 487.3427296336632, 353.9244120151838, 561.2886048647146, 435.9093737071686, 834.4712419086272, 646.6074849261503, 906.9010686913751, 455.19448172135895, 671.2532693002374, 981.8195826102443, 535.1990364399362, 712.779076054007, 894.9444343744062, 533.4124399587371, 634.4950232715344, 573.9272006927669, 528.996483704016, 423.6234620736522, 888.9895675887209, 1379.5000922259755, 683.6122063023037, 599.2659184996826, 526.8043677691189, 425.74479349970403, 423.1578510173484, 367.3545778118789, 360.1881931661618, 335.7947868911265, 319.5411817651435, 311.3075699249563, 307.1043853411196, 286.535100405437, 282.5287003862368, 260.3024613596656, 245.23308562645008, 244.94080398695328, 239.49224740748883, 238.12970905231606, 234.44236387972308, 233.2151690113308, 231.78117574219777, 229.24871987029923, 224.2021792624848, 217.14846892762804, 217.11206990190772, 213.19151129145837, 196.70433455762426, 193.31258409697986, 736.339545440033, 345.3989660638697, 315.8529262438138, 627.33229837627, 712.0839749179919, 654.5427116603132, 556.5444760313508, 449.6844282388425, 508.2604744589634, 354.11992787696516, 328.2384745110834, 317.85112679723665, 306.1581300623892, 299.764855350422, 294.4543583801986, 302.10480977387175, 289.2413731910562, 2286.899945426312, 4767.3966881487095, 1017.4426956316229, 1011.7057666661656, 922.8996638707599, 662.2029410273797, 600.2411441301628, 553.4816568606692, 518.4705817965589, 445.8046262770491, 429.02377486869256, 412.83288968390355, 408.44124179192863, 384.7092968652087, 373.66528724377173, 359.7201502475123, 312.81336030895835, 305.6996497584265, 252.70869873908637, 237.958961959646, 226.41634922206418, 223.39841713659104, 220.88628039661614, 215.26692621889185, 211.62396760797276, 206.17859273181975, 193.38024580864467, 171.94414767007157, 171.9382776485387, 171.61971274232948, 1200.2337713090917, 336.1613128369874, 364.52145008775005, 456.22873837700325, 293.5575973961894, 727.6589118313158, 279.2860058360664, 298.625634502023, 523.9090695682402, 380.0194111960456, 355.545199140541, 413.4144286488348, 316.9115361838015, 363.3736284019705, 361.99914251838646, 312.2468451120098, 748.297404086423, 643.1995855482885, 594.4059827448503, 592.3042431901871, 581.8836484668127, 535.2749410752335, 489.8067551973526, 405.3091763097154, 325.10842790756357, 317.77384899991944, 285.05937545384137, 282.23885181228826, 276.58122067871705, 204.24289514064697, 204.18299108935605, 198.51761652366105, 188.27333544783832, 182.74101885747024, 179.27432731472143, 177.63025686287412, 173.79691380906434, 167.44088962652918, 166.19925179501482, 160.18810072069252, 158.5347596598303, 157.43061076758036, 151.81978437929064, 150.4429913929158, 142.91016986813605, 139.05331689401714, 1020.8408335937288, 262.0618337464229, 1085.4700132047005, 647.019420614949, 651.149509195369, 306.43987343847783, 517.0876409126407, 406.7134907444302, 657.4870351789418, 343.8668707178862, 454.4692155288778, 329.58230336474566, 372.11828810222175, 329.29407561347165, 251.71884542055568, 315.3770201527392, 323.6569000464274, 1266.7387288727045, 646.9993852145132, 428.0294729195045, 383.0235627317746, 379.94547208968197, 295.46609113140846, 281.072706124092, 269.9277852607175, 244.5054055614595, 231.66966422072755, 218.40711018654713, 217.95116360084407, 217.50431110218426, 202.2771061294955, 198.09832625637418, 195.46202542530904, 194.8193922331635, 194.056942100386, 181.3513071441314, 180.0220117842971, 171.12732666246896, 166.44543048669973, 161.68359775458754, 157.04065614754492, 156.88268154272106, 152.51394541072804, 149.4305459781321, 139.78014925451856, 137.24348492866207, 132.9829285872573, 165.34523346141305, 187.96621246070686, 553.540715459399, 415.95087352534387, 402.6818844107083, 370.93021944890245, 348.7383029504717, 346.1458869312227, 261.5706768233369, 218.26437159370607, 217.7407496984241, 198.62776021141295, 199.61132525703687, 183.20163049118509, 174.88941035256482, 173.7739813730038, 157.55565914376743, 138.8002509481538, 138.70977735767326, 137.62723869369256, 135.62740325285182, 131.93190893747422, 125.2628930008689, 124.83870713891223, 122.14967161387358, 117.18089666376606, 116.23579613597958, 115.15171048374052, 113.58545213249019, 102.71179777751294, 101.55943445328312, 99.18893558120767, 200.63926532455062, 421.8771501319396, 157.3309590992378, 377.0106567984636, 198.00223887215512, 139.93891838177007, 149.71140295330702], \"Total\": [4770.0, 2287.0, 2607.0, 2481.0, 1267.0, 2800.0, 2006.0, 1981.0, 1381.0, 2406.0, 2236.0, 1251.0, 1244.0, 1075.0, 1675.0, 2115.0, 1924.0, 1688.0, 1882.0, 2680.0, 2695.0, 2020.0, 1018.0, 2119.0, 1012.0, 2167.0, 2760.0, 1454.0, 1553.0, 2254.0, 910.9143824777078, 764.2170183612301, 651.3339751472136, 637.2368225082181, 604.6433006283766, 561.5637891652688, 528.9915667362925, 487.5761386344268, 483.1456920824481, 476.5450019701998, 470.0321176028905, 468.9573454232769, 466.11943211362944, 403.7343505197958, 402.86686887358667, 384.62182526264354, 369.9397293200592, 351.58787983007505, 347.29570635940775, 344.32863870092876, 338.57264773541203, 323.7050080568389, 321.2243852674969, 319.32967005158054, 318.70913560432683, 314.5170116073443, 309.0768102629773, 302.61960935357956, 301.7410137210421, 301.01986391120613, 1249.4929952216135, 682.2605469010113, 2167.004689827387, 574.1772437426915, 760.6951881507697, 694.4889701489817, 433.9356927724612, 2254.3130971909122, 787.6998688036043, 2760.289151376535, 2282.5101483307885, 1264.9516569163518, 740.6891588388061, 2129.8675839168613, 1289.4693114825122, 1310.008677599305, 1327.344780711492, 765.7077225910446, 2319.402504163696, 2476.749692571699, 2335.634331201821, 2009.5828346517965, 2412.838445442982, 1015.7449245008464, 1111.4002848435057, 2221.329370160897, 2472.360166463579, 862.9550077718059, 1311.6701177840043, 1581.5160142000225, 1853.8308532310814, 1466.6383593829532, 1627.02521827425, 1621.049316005442, 630.2245750310535, 571.9926960207223, 495.99403263622554, 397.1703223645443, 381.9385793870812, 362.9254671117187, 337.898098681631, 320.1590492914712, 318.0023146772882, 296.6845267604006, 294.6813860306653, 288.35985249493416, 234.87411277581396, 230.14803676776276, 224.93094192860767, 222.08537302217707, 217.8002869529779, 215.04047597621684, 206.66361320062347, 206.42580411893513, 205.21517736351782, 197.3514014952445, 259.6279800274301, 192.1787733738283, 185.36031446251116, 183.20173971766724, 179.83405125017094, 176.79031935303814, 172.46581226757203, 172.21516884113197, 788.1203435063658, 240.6969329058839, 628.5459037012131, 320.423688480287, 770.4313846337326, 2020.7923511488143, 1276.9861467568799, 759.6053405241865, 818.4248074765276, 613.0129059741923, 769.6988550217098, 376.52784709896207, 1026.4005398991435, 2279.432702209344, 538.348442136631, 2316.4366490091, 1837.1486834115274, 812.5531181304569, 1666.517881786858, 1931.9986365568748, 1924.9238478138095, 842.3474001001878, 1719.49596912807, 619.180318911447, 2476.749692571699, 1353.7756515148722, 1523.351957527352, 830.0661727316929, 865.476058814188, 1326.533986911823, 1463.090951432646, 1751.4772492601817, 2472.360166463579, 1627.02521827425, 2800.2301880221075, 2006.8717356219154, 938.5886909757326, 866.5381042597594, 824.1986916941255, 808.0283657827644, 662.46623581134, 602.7479738857821, 510.53613484233983, 400.3948134669759, 436.5390455987002, 329.140836119199, 319.04978346771924, 317.03321892888005, 315.36339412238067, 311.361186081048, 311.2873470469018, 303.16830074494436, 282.6446018169788, 280.76137071276185, 273.3774601024232, 258.20915731690553, 251.20763068559734, 246.10684099221115, 243.03129699458444, 242.8889098503123, 234.04576073649764, 232.97188135758833, 228.20312244457853, 219.44997957611994, 217.6458349045382, 1981.790729015629, 755.6172803368594, 726.6076447000082, 279.513250876719, 1454.9383780699773, 957.0742328708224, 2236.5820734164304, 731.007237051756, 1553.374525503633, 611.2304478862598, 2406.983790738819, 666.6129295413001, 1679.2897859214052, 606.4184166839218, 793.0103653447044, 2115.8925527202787, 2695.06613025014, 640.8549570680447, 422.3502606190528, 1247.9035286006053, 594.1286399197048, 945.0575579331447, 2221.329370160897, 1127.4284778026636, 1433.1083745768376, 2412.838445442982, 1466.6383593829532, 1663.858690322218, 2472.360166463579, 2607.6256045572372, 1220.6644848470762, 1108.917878125123, 2481.1117127487696, 784.6369689927527, 659.5677356630395, 590.2418887921215, 586.2384231343699, 583.5047134955001, 571.4228531459917, 545.8874075889462, 540.6382906871306, 539.7408178543014, 530.159969608381, 513.6305063418669, 423.7186247880109, 354.65167963526517, 351.3012246817627, 331.68138818282375, 319.73135351827653, 308.38819436760247, 307.04220404209707, 304.3608827638477, 302.69696361770826, 282.10404187759383, 268.06830047160105, 254.39373531743786, 245.75174019521802, 244.92382790371744, 241.9449905960891, 724.8382257151874, 877.6209091864808, 1102.5242404045864, 1688.1804332644551, 431.22023370358585, 1675.4543796593107, 2119.7401683264316, 567.8978477846706, 897.5388854532305, 1864.6874111881427, 1158.1310373172057, 1027.632352933591, 1040.380259892489, 901.9034223006796, 972.0840371313398, 2680.2590552593488, 1331.7499048030218, 853.6027525268188, 1224.465441617851, 1523.577706261937, 1612.2307815826687, 1209.641111772642, 1879.3767862398784, 2303.0857276144225, 1020.0688829844582, 2319.402504163696, 1059.4739647966276, 1033.003163149196, 997.0374728310121, 586.3509638575414, 545.8300520269038, 422.94864072330233, 343.80201100658826, 332.28532758391157, 326.3326259688852, 278.67006267923216, 261.0279508796822, 250.30917188062193, 249.54331578463794, 248.75363195145334, 229.45004112738025, 230.70397735682036, 221.6045845289239, 215.9121348235615, 214.692046096869, 207.7122783702066, 207.6254616846872, 207.51775667006262, 195.818775096605, 186.30063792379744, 183.28952760015423, 515.1678346411968, 175.46484089732738, 175.15105545419044, 174.5250220757238, 173.7183650719031, 215.34332864320402, 393.73250932755315, 227.68785148286835, 574.2572351490464, 788.6437074786209, 655.3008900306125, 409.34381421468544, 2800.2301880221075, 1882.665701196205, 505.488150473029, 1016.59820268746, 591.150621023386, 408.4757015399224, 745.6991987526716, 554.539771219983, 1359.230380592213, 988.1746657462526, 1924.9238478138095, 657.8231338976751, 1232.9608060526145, 2303.0857276144225, 902.7928353494138, 1523.577706261937, 2680.2590552593488, 1045.9907608319736, 1813.5350824067875, 2115.8925527202787, 1815.2152674120161, 1663.858690322218, 889.8451896144032, 1381.1634143677545, 684.467819580182, 600.121536698345, 527.6599781309503, 426.6005387700889, 424.0134538414376, 368.2102178163972, 361.0438503491605, 336.6504500316937, 320.396822340739, 312.163280185918, 307.9599965423443, 287.3909307352139, 283.38443733834225, 261.1581460502606, 246.08883351031974, 245.79647487526097, 240.34790936623526, 238.9854065595131, 235.29809715444554, 234.07081692659722, 232.63680747102688, 230.10443359538118, 225.05779925341858, 218.00408438973378, 217.96775279255272, 214.04723466807548, 197.5600332160351, 194.16817780344758, 748.5325052767729, 367.7869861550601, 333.11296902077834, 843.7715909851113, 1156.8512878955246, 1061.8001208561006, 847.4052227002484, 622.4540748592688, 1209.641111772642, 1043.7482021137723, 1020.0688829844582, 1420.0805595497159, 1179.3506177172503, 1037.8934382711082, 929.8007318804546, 2319.402504163696, 812.1920590797565, 2287.7621501610624, 4770.6051640147, 1018.3049104498574, 1012.5679823872132, 923.7619719609116, 663.0654416022878, 601.1034000258597, 554.3447158509504, 519.3328344299284, 446.6668758616353, 429.8860182900175, 413.6953646161957, 409.3034650558685, 385.5715200058311, 374.52756287210684, 360.5824061918533, 313.67578931775915, 306.56185202500814, 253.57092907904476, 238.8226073568173, 227.27855432215276, 224.26080228622902, 221.74856261740803, 216.12916788261137, 212.48630504864283, 207.0408591647351, 194.2424263530833, 172.80637611497284, 172.80052883649793, 172.48202803713906, 1244.4117263103801, 354.86815969747755, 409.4963027115882, 583.1384099814653, 356.4325854604146, 2009.5828346517965, 355.73011187765013, 417.23065183758416, 1621.049316005442, 885.7281600282364, 1156.8512878955246, 2254.3130971909122, 752.9164383207467, 2335.634331201821, 2760.289151376535, 1581.5160142000225, 749.1546980492975, 644.0569822032315, 595.2634154903693, 593.1616182340541, 582.7410002276773, 536.1323716690417, 490.664101371614, 406.1665988772637, 325.96580814277434, 318.6313293177369, 285.916804680107, 283.0962559658446, 277.43862848346896, 205.10026848833488, 205.04034359915417, 199.37542654022238, 189.13067183067062, 183.59859787507125, 180.1316701076038, 178.48774277834335, 174.65435308080734, 168.29831190362373, 167.05657042010372, 161.04545023860553, 159.39218983886872, 158.2881445816283, 152.67715204930738, 151.30039744777721, 143.7678210882445, 139.91067518322072, 1075.1647569339127, 269.7315492076211, 1251.2260889629129, 785.951880804511, 871.8558530943606, 365.5166300981524, 793.6113874927988, 625.3581356863854, 1794.1875823388505, 656.9167510128809, 1188.5467337133523, 737.1721538175975, 1675.4543796593107, 1162.4057875961767, 566.645578539665, 1688.1804332644551, 2695.06613025014, 1267.5951910381598, 647.8561056481307, 428.8861519223288, 383.88000919203074, 380.8019107106665, 296.3228856407098, 281.9292223119141, 270.7844403446129, 245.36190705515375, 232.52613755650967, 219.2638249251431, 218.80764082857007, 218.36080717757247, 203.13354518502896, 198.95484032170262, 196.31860037947666, 195.67592847023207, 194.91368500269976, 182.2077655156412, 180.87846684253532, 171.983765437107, 167.3022237363822, 162.5402103350756, 157.8971416752819, 157.73914660710514, 153.370424960368, 150.2870801837883, 140.6366802317385, 138.10004964474774, 133.8397361556865, 237.61078703445682, 378.228348932441, 554.3937337056975, 416.80394574999997, 403.53497223150725, 371.7832369353715, 349.5913070671226, 346.9988954364766, 262.4237349125524, 219.11752935779472, 218.59441363682149, 199.4808397839442, 200.5379631441233, 184.05462911681698, 175.74257527356005, 174.62732108731942, 158.40871517162935, 139.65388310288412, 139.56320968525057, 138.48029655013002, 136.48040976583528, 132.7849695169107, 126.11610519219137, 125.69184567531252, 123.00276712177438, 118.03401944776985, 117.08885057923578, 116.00476028417347, 114.43844648188264, 103.56507671943012, 102.41252834882623, 100.04209947905882, 203.92858601932429, 736.2349759327374, 190.9129907605769, 737.1721538175975, 336.0855587031713, 211.3063168319907, 515.6908985330292], \"Category\": [\"Default\", \"Default\", \"Default\", \"Default\", \"Default\", \"Default\", \"Default\", \"Default\", \"Default\", \"Default\", \"Default\", \"Default\", \"Default\", \"Default\", \"Default\", \"Default\", \"Default\", \"Default\", \"Default\", \"Default\", \"Default\", \"Default\", \"Default\", \"Default\", \"Default\", \"Default\", \"Default\", \"Default\", \"Default\", \"Default\", \"Topic1\", \"Topic1\", \"Topic1\", \"Topic1\", \"Topic1\", \"Topic1\", \"Topic1\", \"Topic1\", \"Topic1\", \"Topic1\", \"Topic1\", \"Topic1\", \"Topic1\", \"Topic1\", \"Topic1\", \"Topic1\", \"Topic1\", \"Topic1\", \"Topic1\", \"Topic1\", \"Topic1\", \"Topic1\", \"Topic1\", \"Topic1\", \"Topic1\", \"Topic1\", \"Topic1\", \"Topic1\", \"Topic1\", \"Topic1\", \"Topic1\", \"Topic1\", \"Topic1\", \"Topic1\", \"Topic1\", \"Topic1\", \"Topic1\", \"Topic1\", \"Topic1\", \"Topic1\", \"Topic1\", \"Topic1\", \"Topic1\", \"Topic1\", \"Topic1\", \"Topic1\", \"Topic1\", \"Topic1\", \"Topic1\", \"Topic1\", \"Topic1\", \"Topic1\", \"Topic1\", \"Topic1\", \"Topic1\", \"Topic1\", \"Topic1\", \"Topic1\", \"Topic1\", \"Topic1\", \"Topic1\", \"Topic1\", \"Topic1\", \"Topic1\", \"Topic2\", \"Topic2\", \"Topic2\", \"Topic2\", \"Topic2\", \"Topic2\", \"Topic2\", \"Topic2\", \"Topic2\", \"Topic2\", \"Topic2\", \"Topic2\", \"Topic2\", \"Topic2\", \"Topic2\", \"Topic2\", \"Topic2\", \"Topic2\", \"Topic2\", \"Topic2\", \"Topic2\", \"Topic2\", \"Topic2\", \"Topic2\", \"Topic2\", \"Topic2\", \"Topic2\", \"Topic2\", \"Topic2\", \"Topic2\", \"Topic2\", \"Topic2\", \"Topic2\", \"Topic2\", \"Topic2\", \"Topic2\", \"Topic2\", \"Topic2\", \"Topic2\", \"Topic2\", \"Topic2\", \"Topic2\", \"Topic2\", \"Topic2\", \"Topic2\", \"Topic2\", \"Topic2\", \"Topic2\", \"Topic2\", \"Topic2\", \"Topic2\", \"Topic2\", \"Topic2\", \"Topic2\", \"Topic2\", \"Topic2\", \"Topic2\", \"Topic2\", \"Topic2\", \"Topic2\", \"Topic2\", \"Topic2\", \"Topic2\", \"Topic2\", \"Topic2\", \"Topic3\", \"Topic3\", \"Topic3\", \"Topic3\", \"Topic3\", \"Topic3\", \"Topic3\", \"Topic3\", \"Topic3\", \"Topic3\", \"Topic3\", \"Topic3\", \"Topic3\", \"Topic3\", \"Topic3\", \"Topic3\", \"Topic3\", \"Topic3\", \"Topic3\", \"Topic3\", \"Topic3\", \"Topic3\", \"Topic3\", \"Topic3\", \"Topic3\", \"Topic3\", \"Topic3\", \"Topic3\", \"Topic3\", \"Topic3\", \"Topic3\", \"Topic3\", \"Topic3\", \"Topic3\", \"Topic3\", \"Topic3\", \"Topic3\", \"Topic3\", \"Topic3\", \"Topic3\", \"Topic3\", \"Topic3\", \"Topic3\", \"Topic3\", \"Topic3\", \"Topic3\", \"Topic3\", \"Topic3\", \"Topic3\", \"Topic3\", \"Topic3\", \"Topic3\", \"Topic3\", \"Topic3\", \"Topic3\", \"Topic3\", \"Topic3\", \"Topic3\", \"Topic3\", \"Topic4\", \"Topic4\", \"Topic4\", \"Topic4\", \"Topic4\", \"Topic4\", \"Topic4\", \"Topic4\", \"Topic4\", \"Topic4\", \"Topic4\", \"Topic4\", \"Topic4\", \"Topic4\", \"Topic4\", \"Topic4\", \"Topic4\", \"Topic4\", \"Topic4\", \"Topic4\", \"Topic4\", \"Topic4\", \"Topic4\", \"Topic4\", \"Topic4\", \"Topic4\", \"Topic4\", \"Topic4\", \"Topic4\", \"Topic4\", \"Topic4\", \"Topic4\", \"Topic4\", \"Topic4\", \"Topic4\", \"Topic4\", \"Topic4\", \"Topic4\", \"Topic4\", \"Topic4\", \"Topic4\", \"Topic4\", \"Topic4\", \"Topic4\", \"Topic4\", \"Topic4\", \"Topic4\", \"Topic4\", \"Topic4\", \"Topic4\", \"Topic4\", \"Topic4\", \"Topic4\", \"Topic4\", \"Topic4\", \"Topic4\", \"Topic5\", \"Topic5\", \"Topic5\", \"Topic5\", \"Topic5\", \"Topic5\", \"Topic5\", \"Topic5\", \"Topic5\", \"Topic5\", \"Topic5\", \"Topic5\", \"Topic5\", \"Topic5\", \"Topic5\", \"Topic5\", \"Topic5\", \"Topic5\", \"Topic5\", \"Topic5\", \"Topic5\", \"Topic5\", \"Topic5\", \"Topic5\", \"Topic5\", \"Topic5\", \"Topic5\", \"Topic5\", \"Topic5\", \"Topic5\", \"Topic5\", \"Topic5\", \"Topic5\", \"Topic5\", \"Topic5\", \"Topic5\", \"Topic5\", \"Topic5\", \"Topic5\", \"Topic5\", \"Topic5\", \"Topic5\", \"Topic5\", \"Topic5\", \"Topic5\", \"Topic5\", \"Topic5\", \"Topic5\", \"Topic5\", \"Topic5\", \"Topic5\", \"Topic5\", \"Topic5\", \"Topic5\", \"Topic5\", \"Topic5\", \"Topic5\", \"Topic5\", \"Topic5\", \"Topic6\", \"Topic6\", \"Topic6\", \"Topic6\", \"Topic6\", \"Topic6\", \"Topic6\", \"Topic6\", \"Topic6\", \"Topic6\", \"Topic6\", \"Topic6\", \"Topic6\", \"Topic6\", \"Topic6\", \"Topic6\", \"Topic6\", \"Topic6\", \"Topic6\", \"Topic6\", \"Topic6\", \"Topic6\", \"Topic6\", \"Topic6\", \"Topic6\", \"Topic6\", \"Topic6\", \"Topic6\", \"Topic6\", \"Topic6\", \"Topic6\", \"Topic6\", \"Topic6\", \"Topic6\", \"Topic6\", \"Topic6\", \"Topic6\", \"Topic6\", \"Topic6\", \"Topic6\", \"Topic6\", \"Topic6\", \"Topic6\", \"Topic6\", \"Topic6\", \"Topic6\", \"Topic6\", \"Topic7\", \"Topic7\", \"Topic7\", \"Topic7\", \"Topic7\", \"Topic7\", \"Topic7\", \"Topic7\", \"Topic7\", \"Topic7\", \"Topic7\", \"Topic7\", \"Topic7\", \"Topic7\", \"Topic7\", \"Topic7\", \"Topic7\", \"Topic7\", \"Topic7\", \"Topic7\", \"Topic7\", \"Topic7\", \"Topic7\", \"Topic7\", \"Topic7\", \"Topic7\", \"Topic7\", \"Topic7\", \"Topic7\", \"Topic7\", \"Topic7\", \"Topic7\", \"Topic7\", \"Topic7\", \"Topic7\", \"Topic7\", \"Topic7\", \"Topic7\", \"Topic7\", \"Topic7\", \"Topic7\", \"Topic7\", \"Topic7\", \"Topic7\", \"Topic7\", \"Topic7\", \"Topic8\", \"Topic8\", \"Topic8\", \"Topic8\", \"Topic8\", \"Topic8\", \"Topic8\", \"Topic8\", \"Topic8\", \"Topic8\", \"Topic8\", \"Topic8\", \"Topic8\", \"Topic8\", \"Topic8\", \"Topic8\", \"Topic8\", \"Topic8\", \"Topic8\", \"Topic8\", \"Topic8\", \"Topic8\", \"Topic8\", \"Topic8\", \"Topic8\", \"Topic8\", \"Topic8\", \"Topic8\", \"Topic8\", \"Topic8\", \"Topic8\", \"Topic8\", \"Topic8\", \"Topic8\", \"Topic8\", \"Topic8\", \"Topic8\", \"Topic8\", \"Topic8\", \"Topic8\", \"Topic8\", \"Topic8\", \"Topic8\", \"Topic8\", \"Topic8\", \"Topic8\", \"Topic8\", \"Topic9\", \"Topic9\", \"Topic9\", \"Topic9\", \"Topic9\", \"Topic9\", \"Topic9\", \"Topic9\", \"Topic9\", \"Topic9\", \"Topic9\", \"Topic9\", \"Topic9\", \"Topic9\", \"Topic9\", \"Topic9\", \"Topic9\", \"Topic9\", \"Topic9\", \"Topic9\", \"Topic9\", \"Topic9\", \"Topic9\", \"Topic9\", \"Topic9\", \"Topic9\", \"Topic9\", \"Topic9\", \"Topic9\", \"Topic9\", \"Topic9\", \"Topic9\", \"Topic10\", \"Topic10\", \"Topic10\", \"Topic10\", \"Topic10\", \"Topic10\", \"Topic10\", \"Topic10\", \"Topic10\", \"Topic10\", \"Topic10\", \"Topic10\", \"Topic10\", \"Topic10\", \"Topic10\", \"Topic10\", \"Topic10\", \"Topic10\", \"Topic10\", \"Topic10\", \"Topic10\", \"Topic10\", \"Topic10\", \"Topic10\", \"Topic10\", \"Topic10\", \"Topic10\", \"Topic10\", \"Topic10\", \"Topic10\", \"Topic10\", \"Topic10\", \"Topic10\", \"Topic10\", \"Topic10\", \"Topic10\", \"Topic10\"], \"logprob\": [30.0, 29.0, 28.0, 27.0, 26.0, 25.0, 24.0, 23.0, 22.0, 21.0, 20.0, 19.0, 18.0, 17.0, 16.0, 15.0, 14.0, 13.0, 12.0, 11.0, 10.0, 9.0, 8.0, 7.0, 6.0, 5.0, 4.0, 3.0, 2.0, 1.0, -5.298099994659424, -5.473899841308594, -5.633999824523926, -5.655900001525879, -5.708399772644043, -5.78249979019165, -5.842299938201904, -5.923999786376953, -5.93310022354126, -5.946899890899658, -5.960700035095215, -5.9629998207092285, -5.969099998474121, -6.11299991607666, -6.115200042724609, -6.161600112915039, -6.2006001472473145, -6.2515997886657715, -6.263999938964844, -6.272600173950195, -6.2895002365112305, -6.334499835968018, -6.342199802398682, -6.348100185394287, -6.350100040435791, -6.363399982452393, -6.380899906158447, -6.4019999504089355, -6.404900074005127, -6.407299995422363, -4.989099979400635, -5.5904998779296875, -4.513700008392334, -5.79610013961792, -5.565299987792969, -5.649400234222412, -6.078199863433838, -4.644499778747559, -5.57480001449585, -4.510799884796143, -4.731200218200684, -5.210899829864502, -5.678899765014648, -4.883600234985352, -5.271999835968018, -5.264699935913086, -5.283999919891357, -5.682600021362305, -5.0005998611450195, -5.003399848937988, -5.04610013961792, -5.138199806213379, -5.097700119018555, -5.552700042724609, -5.510799884796143, -5.251399993896484, -5.292399883270264, -5.644700050354004, -5.545899868011475, -5.528500080108643, -5.500699996948242, -5.560100078582764, -5.552800178527832, -5.613900184631348, -5.300099849700928, -5.39709997177124, -5.539899826049805, -5.762599945068359, -5.801700115203857, -5.85290002822876, -5.924600124359131, -5.978600025177002, -5.985400199890137, -6.054999828338623, -6.061800003051758, -6.083499908447266, -6.289400100708008, -6.309800148010254, -6.332799911499023, -6.345600128173828, -6.365099906921387, -6.377900123596191, -6.417799949645996, -6.419000148773193, -6.425000190734863, -6.464099884033203, -6.189899921417236, -6.490799903869629, -6.527100086212158, -6.53879976272583, -6.557499885559082, -6.5746002197265625, -6.5995001792907715, -6.60099983215332, -5.113999843597412, -6.275700092315674, -5.354800224304199, -6.002799987792969, -5.161900043487549, -4.286799907684326, -4.786099910736084, -5.279300212860107, -5.22130012512207, -5.491000175476074, -5.308700084686279, -5.916399955749512, -5.095200061798096, -4.454100131988525, -5.638000011444092, -4.521200180053711, -4.709000110626221, -5.342199802398682, -4.855500221252441, -4.798799991607666, -4.819900035858154, -5.3678998947143555, -4.922699928283691, -5.5960001945495605, -4.756999969482422, -5.1834001541137695, -5.118800163269043, -5.45550012588501, -5.471399784088135, -5.323800086975098, -5.295400142669678, -5.244900226593018, -5.154900074005127, -5.313000202178955, -5.440899848937988, -4.112500190734863, -4.873000144958496, -4.952899932861328, -5.002999782562256, -5.022900104522705, -5.221700191497803, -5.316299915313721, -5.482600212097168, -5.726099967956543, -5.639699935913086, -5.922500133514404, -5.953800201416016, -5.960100173950195, -5.965400218963623, -5.9781999588012695, -5.978400230407715, -6.004899978637695, -6.075300216674805, -6.081999778747559, -6.108699798583984, -6.165999889373779, -6.19350004196167, -6.214099884033203, -6.2266998291015625, -6.22730016708374, -6.264599800109863, -6.269199848175049, -6.289899826049805, -6.32919979095459, -6.337500095367432, -4.129199981689453, -5.094099998474121, -5.1381001472473145, -6.088200092315674, -4.46560001373291, -4.8780999183654785, -4.090700149536133, -5.172699928283691, -4.46560001373291, -5.363800048828125, -4.1269001960754395, -5.316500186920166, -4.507199764251709, -5.403900146484375, -5.196400165557861, -4.391200065612793, -4.242400169372559, -5.412600040435791, -5.740099906921387, -4.93310022354126, -5.492800235748291, -5.207900047302246, -4.652699947357178, -5.16949987411499, -5.151299953460693, -5.1350998878479, -5.314199924468994, -5.304500102996826, -5.283999919891357, -3.7360000610351562, -4.4953999519348145, -4.5914998054504395, -3.78629994392395, -4.93779993057251, -5.111599922180176, -5.222799777984619, -5.229599952697754, -5.234300136566162, -5.255300045013428, -5.301000118255615, -5.310699939727783, -5.312399864196777, -5.3302998542785645, -5.362100124359131, -5.554800033569336, -5.7332000732421875, -5.742700099945068, -5.800300121307373, -5.837100028991699, -5.873300075531006, -5.877699851989746, -5.886499881744385, -5.892000198364258, -5.962699890136719, -6.013800144195557, -6.066400051116943, -6.101099967956543, -6.104400157928467, -6.116700172424316, -5.027100086212158, -4.883399963378906, -4.7459001541137695, -4.385700225830078, -5.598899841308594, -4.429900169372559, -4.239299774169922, -5.36460018157959, -4.995200157165527, -4.410699844360352, -4.802800178527832, -4.90310001373291, -4.899099826812744, -5.019000053405762, -4.981599807739258, -4.401899814605713, -4.850900173187256, -5.124899864196777, -4.980100154876709, -4.911799907684326, -4.944699764251709, -5.05049991607666, -4.942500114440918, -5.022299766540527, -5.192399978637695, -5.1631999015808105, -4.359600067138672, -4.384900093078613, -4.420400142669678, -4.9517998695373535, -5.023600101470947, -5.279099941253662, -5.486700057983398, -5.520899772644043, -5.539000034332275, -5.697299957275391, -5.763000011444092, -5.804999828338623, -5.80810022354126, -5.811299800872803, -5.892300128936768, -5.88700008392334, -5.927299976348877, -5.953400135040283, -5.959099769592285, -5.992300033569336, -5.992700099945068, -5.993199825286865, -6.051499843597412, -6.101500034332275, -6.1178998947143555, -5.08459997177124, -6.1616997718811035, -6.16349983215332, -6.167099952697754, -6.171800136566162, -5.957399845123291, -5.368000030517578, -5.906400203704834, -5.003799915313721, -4.704899787902832, -4.911399841308594, -5.372799873352051, -3.7121999263763428, -4.153800010681152, -5.246600151062012, -4.678100109100342, -5.135300159454346, -5.4552001953125, -4.994100093841553, -5.2469000816345215, -4.597499847412109, -4.85260009765625, -4.5142998695373535, -5.20359992980957, -4.815199851989746, -4.434899806976318, -5.0416998863220215, -4.755099773406982, -4.527500152587891, -5.045000076293945, -4.871500015258789, -4.971799850463867, -5.053299903869629, -5.2754998207092285, -4.27810001373291, -3.83870005607605, -4.540800094604492, -4.672399997711182, -4.801300048828125, -5.0142998695373535, -5.020400047302246, -5.161799907684326, -5.18149995803833, -5.251699924468994, -5.301300048828125, -5.327400207519531, -5.341000080108643, -5.410299777984619, -5.4243998527526855, -5.50629997253418, -5.565899848937988, -5.5671000480651855, -5.589600086212158, -5.595300197601318, -5.610899925231934, -5.616199970245361, -5.622399806976318, -5.633299827575684, -5.655600070953369, -5.687600135803223, -5.687699794769287, -5.705999851226807, -5.786499977111816, -5.803800106048584, -4.4664998054504395, -5.223499774932861, -5.312900066375732, -4.626699924468994, -4.5, -4.584199905395508, -4.746399879455566, -4.95959997177124, -4.837200164794922, -5.198500156402588, -5.274400234222412, -5.306600093841553, -5.344099998474121, -5.365200042724609, -5.382999897003174, -5.357399940490723, -5.400899887084961, -3.3064000606536865, -2.5717999935150146, -4.116399765014648, -4.122000217437744, -4.213900089263916, -4.54580020904541, -4.644100189208984, -4.725200176239014, -4.790500164031982, -4.941500186920166, -4.979899883270264, -5.018400192260742, -5.0289998054504395, -5.088900089263916, -5.118000030517578, -5.156099796295166, -5.29580020904541, -5.31879997253418, -5.509200096130371, -5.569300174713135, -5.61899995803833, -5.632400035858154, -5.643700122833252, -5.66949987411499, -5.686600208282471, -5.712699890136719, -5.776700019836426, -5.894199848175049, -5.8942999839782715, -5.896100044250488, -3.9511001110076904, -5.223800182342529, -5.1427998542785645, -4.918399810791016, -5.359300136566162, -4.451600074768066, -5.409200191497803, -5.342199802398682, -4.780099868774414, -5.101200103759766, -5.167699813842773, -5.016900062561035, -5.282800197601318, -5.145999908447266, -5.149799823760986, -5.297599792480469, -4.122700214385986, -4.274099826812744, -4.353000164031982, -4.356500148773193, -4.374300003051758, -4.457799911499023, -4.546500205993652, -4.735899925231934, -4.956399917602539, -4.9791998863220215, -5.087900161743164, -5.097799777984619, -5.118000030517578, -5.421199798583984, -5.421500205993652, -5.449699878692627, -5.502699851989746, -5.53249979019165, -5.551599979400635, -5.560800075531006, -5.582699775695801, -5.619900226593018, -5.627399921417236, -5.6641998291015625, -5.674600124359131, -5.681600093841553, -5.717899799346924, -5.7270002365112305, -5.778299808502197, -5.805699825286865, -3.8122000694274902, -5.171999931335449, -3.7507998943328857, -4.268199920654297, -4.2617998123168945, -5.015500068664551, -4.492300033569336, -4.732399940490723, -4.252099990844727, -4.900300025939941, -4.621399879455566, -4.942699909210205, -4.821300029754639, -4.943600177764893, -5.212200164794922, -4.986800193786621, -4.960899829864502, -2.9890999794006348, -3.660900115966797, -4.074100017547607, -4.185200214385986, -4.193299770355225, -4.444699764251709, -4.494699954986572, -4.535099983215332, -4.633999824523926, -4.688000202178955, -4.7469000816345215, -4.749000072479248, -4.751100063323975, -4.823599815368652, -4.8445000648498535, -4.857900142669678, -4.861199855804443, -4.865099906921387, -4.932799816131592, -4.940199851989746, -4.990900039672852, -5.018599987030029, -5.047599792480469, -5.0767998695373535, -5.0777997970581055, -5.105999946594238, -5.126399993896484, -5.19320011138916, -5.21150016784668, -5.243100166320801, -5.025199890136719, -4.896999835968018, -3.484800100326538, -3.7706000804901123, -3.802999973297119, -3.885200023651123, -3.946899890899658, -3.9542999267578125, -4.234499931335449, -4.415500164031982, -4.417900085449219, -4.509699821472168, -4.504799842834473, -4.59060001373291, -4.63700008392334, -4.643400192260742, -4.741399765014648, -4.868100166320801, -4.868800163269043, -4.8765997886657715, -4.891300201416016, -4.918900012969971, -4.970799922943115, -4.9741997718811035, -4.9959001541137695, -5.037499904632568, -5.045599937438965, -5.054900169372559, -5.068600177764893, -5.169300079345703, -5.180500030517578, -5.20419979095459, -4.49970006942749, -3.756500005722046, -4.742800235748291, -3.8689000606536865, -4.512899875640869, -4.860000133514404, -4.792500019073486], \"loglift\": [30.0, 29.0, 28.0, 27.0, 26.0, 25.0, 24.0, 23.0, 22.0, 21.0, 20.0, 19.0, 18.0, 17.0, 16.0, 15.0, 14.0, 13.0, 12.0, 11.0, 10.0, 9.0, 8.0, 7.0, 6.0, 5.0, 4.0, 3.0, 2.0, 1.0, 1.527, 1.5268, 1.5266, 1.5266, 1.5265, 1.5264, 1.5263, 1.5262, 1.5261, 1.5261, 1.5261, 1.5261, 1.5261, 1.5258, 1.5258, 1.5257, 1.5256, 1.5255, 1.5254, 1.5254, 1.5254, 1.5253, 1.5252, 1.5252, 1.5252, 1.5252, 1.5251, 1.5251, 1.5251, 1.5251, 1.52, 1.5237, 1.4448, 1.4905, 1.4401, 1.447, 1.4885, 1.2745, 1.3956, 1.2057, 1.1754, 1.2859, 1.3531, 1.0922, 1.2056, 1.1971, 1.1646, 1.3162, 0.8899, 0.8215, 0.8375, 0.8957, 0.7533, 1.1634, 1.1154, 0.6823, 0.5343, 1.2345, 0.9147, 0.7449, 0.6139, 0.7887, 0.6922, 0.6348, 1.8934, 1.8933, 1.8931, 1.8927, 1.8926, 1.8925, 1.8923, 1.8921, 1.8921, 1.8919, 1.8919, 1.8918, 1.8912, 1.8911, 1.891, 1.891, 1.8909, 1.8908, 1.8907, 1.8907, 1.8905, 1.8905, 1.8904, 1.8904, 1.8902, 1.8901, 1.8901, 1.89, 1.8899, 1.8898, 1.8559, 1.8803, 1.8414, 1.8671, 1.8307, 1.7415, 1.7012, 1.7275, 1.7109, 1.7302, 1.6849, 1.7922, 1.6106, 1.4538, 1.7131, 1.3706, 1.4146, 1.5972, 1.3656, 1.2745, 1.257, 1.5355, 1.2671, 1.6152, 1.0679, 1.2455, 1.1921, 1.4626, 1.4049, 1.1254, 1.0559, 0.9264, 0.6718, 0.9321, 0.2612, 1.9227, 1.9222, 1.9222, 1.9221, 1.9221, 1.9219, 1.9217, 1.9215, 1.921, 1.921, 1.9206, 1.9205, 1.9205, 1.9204, 1.9204, 1.9204, 1.9203, 1.9201, 1.9201, 1.92, 1.9198, 1.9198, 1.9197, 1.9196, 1.9196, 1.9195, 1.9195, 1.9194, 1.9193, 1.9192, 1.9186, 1.9179, 1.9131, 1.9183, 1.8912, 1.8975, 1.8362, 1.8725, 1.8258, 1.8603, 1.7265, 1.8208, 1.7063, 1.8281, 1.7673, 1.5912, 1.498, 1.7641, 1.8536, 1.5772, 1.7597, 1.5805, 1.281, 1.4424, 1.2206, 0.7159, 1.0347, 0.9182, 0.5427, 2.0373, 2.037, 2.0369, 2.0368, 2.0366, 2.0364, 2.0362, 2.0362, 2.0362, 2.0362, 2.0361, 2.0361, 2.0361, 2.0361, 2.036, 2.0357, 2.0353, 2.0352, 2.0351, 2.035, 2.0349, 2.0349, 2.0349, 2.0349, 2.0346, 2.0345, 2.0343, 2.0342, 2.0342, 2.0341, 2.0265, 1.9789, 1.8883, 1.8224, 1.974, 1.7858, 1.7412, 1.933, 1.8447, 1.698, 1.7822, 1.8015, 1.7931, 1.8161, 1.7786, 1.344, 1.5945, 1.7652, 1.5492, 1.3989, 1.3095, 1.491, 1.1584, 0.8752, 1.5196, 0.7273, 2.3145, 2.3144, 2.3144, 2.3138, 2.3137, 2.3132, 2.3128, 2.3127, 2.3126, 2.3122, 2.312, 2.3119, 2.3118, 2.3118, 2.3115, 2.3114, 2.3114, 2.3113, 2.3113, 2.3112, 2.3112, 2.3111, 2.3109, 2.3107, 2.3106, 2.3105, 2.3104, 2.3104, 2.3104, 2.3103, 2.3099, 2.2959, 2.3052, 2.2827, 2.2644, 2.2431, 2.2522, 1.9899, 1.9453, 2.1675, 2.0373, 2.1222, 2.1719, 2.0312, 2.0746, 1.8274, 1.8911, 1.5627, 1.9471, 1.7072, 1.4627, 1.7924, 1.5556, 1.2184, 1.6418, 1.2651, 1.0105, 1.0823, 0.9472, 2.5705, 2.5702, 2.5702, 2.57, 2.5698, 2.5694, 2.5694, 2.5691, 2.569, 2.5689, 2.5687, 2.5687, 2.5686, 2.5684, 2.5684, 2.5681, 2.5679, 2.5679, 2.5679, 2.5678, 2.5678, 2.5678, 2.5677, 2.5677, 2.5676, 2.5675, 2.5675, 2.5674, 2.5671, 2.567, 2.555, 2.5086, 2.5182, 2.275, 2.0862, 2.0876, 2.151, 2.2463, 1.7043, 1.4905, 1.4375, 1.0745, 1.2228, 1.3295, 1.4216, 0.5331, 1.5389, 2.5978, 2.5975, 2.5973, 2.5973, 2.5972, 2.5969, 2.5967, 2.5966, 2.5965, 2.5962, 2.5962, 2.5961, 2.5961, 2.5959, 2.5959, 2.5958, 2.5954, 2.5954, 2.5948, 2.5946, 2.5944, 2.5943, 2.5943, 2.5942, 2.5941, 2.594, 2.5937, 2.5932, 2.5932, 2.5932, 2.562, 2.544, 2.4818, 2.3527, 2.4041, 1.5823, 2.3562, 2.2637, 1.4687, 1.752, 1.4184, 0.902, 1.7328, 0.7376, 0.5667, 0.9758, 2.8979, 2.8977, 2.8976, 2.8976, 2.8976, 2.8974, 2.8973, 2.8969, 2.8964, 2.8963, 2.896, 2.896, 2.8959, 2.8948, 2.8948, 2.8947, 2.8945, 2.8943, 2.8943, 2.8942, 2.8941, 2.8939, 2.8939, 2.8937, 2.8936, 2.8936, 2.8934, 2.8933, 2.893, 2.8929, 2.8472, 2.8702, 2.7569, 2.7045, 2.6071, 2.7227, 2.4706, 2.4688, 1.8951, 2.2517, 1.9377, 2.094, 1.3944, 1.6377, 2.0876, 1.2214, 0.7795, 3.5056, 3.505, 3.5043, 3.5041, 3.504, 3.5034, 3.5033, 3.5031, 3.5028, 3.5026, 3.5024, 3.5024, 3.5024, 3.5021, 3.502, 3.5019, 3.5019, 3.5019, 3.5016, 3.5015, 3.5013, 3.5012, 3.501, 3.5009, 3.5009, 3.5007, 3.5006, 3.5002, 3.5001, 3.4999, 3.1437, 2.8071, 3.8369, 3.8363, 3.8363, 3.8361, 3.836, 3.8359, 3.8351, 3.8345, 3.8345, 3.8341, 3.8338, 3.8337, 3.8335, 3.8335, 3.833, 3.8323, 3.8323, 3.8322, 3.8321, 3.8319, 3.8316, 3.8316, 3.8314, 3.8311, 3.8311, 3.831, 3.8309, 3.8301, 3.83, 3.8298, 3.8221, 3.2816, 3.6449, 3.1678, 3.3093, 3.4263, 2.6016]}, \"token.table\": {\"Topic\": [2, 4, 8, 1, 3, 3, 1, 9, 5, 1, 3, 7, 1, 3, 5, 7, 2, 3, 5, 8, 1, 2, 3, 4, 5, 6, 8, 1, 2, 4, 8, 1, 2, 3, 4, 5, 8, 1, 3, 1, 8, 4, 5, 8, 7, 7, 1, 4, 6, 7, 1, 3, 4, 5, 6, 9, 4, 9, 3, 5, 1, 10, 1, 2, 4, 6, 7, 1, 2, 3, 4, 5, 7, 4, 4, 1, 3, 4, 5, 6, 3, 4, 5, 9, 7, 1, 4, 10, 10, 1, 8, 10, 6, 6, 7, 7, 1, 2, 7, 2, 1, 6, 8, 6, 5, 3, 4, 8, 10, 8, 8, 8, 2, 3, 3, 7, 3, 7, 2, 1, 7, 7, 1, 4, 8, 10, 5, 3, 4, 4, 1, 2, 7, 2, 3, 6, 3, 1, 3, 4, 5, 6, 8, 1, 2, 3, 5, 6, 2, 3, 1, 3, 8, 4, 5, 8, 4, 8, 6, 1, 2, 3, 4, 5, 8, 1, 6, 7, 6, 1, 3, 4, 5, 6, 8, 10, 10, 8, 9, 4, 8, 2, 2, 10, 2, 2, 4, 10, 10, 9, 10, 10, 10, 9, 1, 2, 3, 4, 5, 6, 3, 3, 5, 3, 3, 8, 1, 2, 3, 4, 6, 7, 4, 1, 4, 7, 8, 6, 4, 2, 3, 3, 9, 1, 2, 3, 6, 1, 3, 6, 7, 3, 2, 2, 3, 4, 5, 6, 7, 2, 3, 4, 9, 1, 2, 7, 1, 7, 1, 2, 2, 5, 3, 5, 4, 10, 1, 6, 7, 10, 1, 4, 5, 8, 10, 9, 2, 6, 9, 1, 6, 7, 6, 4, 1, 5, 8, 10, 10, 1, 3, 4, 6, 6, 2, 1, 4, 6, 8, 5, 9, 10, 9, 1, 2, 4, 6, 8, 1, 2, 3, 4, 5, 7, 8, 1, 2, 3, 4, 6, 7, 1, 2, 3, 5, 6, 10, 6, 4, 1, 2, 3, 5, 8, 5, 1, 4, 6, 10, 2, 3, 7, 10, 2, 4, 4, 2, 3, 4, 5, 6, 8, 10, 4, 10, 1, 3, 4, 8, 9, 8, 9, 8, 1, 8, 4, 1, 10, 5, 2, 3, 5, 8, 1, 2, 3, 5, 6, 7, 7, 2, 5, 1, 4, 5, 1, 6, 7, 7, 6, 1, 2, 3, 6, 7, 9, 9, 5, 8, 3, 1, 2, 5, 7, 9, 8, 1, 2, 5, 9, 1, 4, 1, 4, 8, 2, 8, 10, 2, 6, 5, 3, 3, 1, 2, 3, 6, 7, 3, 1, 4, 9, 7, 2, 3, 2, 3, 1, 4, 6, 10, 7, 7, 2, 3, 4, 8, 4, 9, 1, 1, 1, 1, 4, 7, 1, 2, 5, 6, 7, 1, 1, 5, 1, 2, 3, 7, 3, 1, 2, 4, 5, 6, 8, 1, 5, 2, 3, 7, 10, 1, 2, 3, 7, 2, 5, 8, 9, 1, 2, 3, 4, 5, 6, 8, 4, 8, 9, 5, 3, 1, 2, 3, 4, 5, 6, 2, 1, 2, 4, 5, 6, 2, 2, 3, 5, 6, 8, 2, 1, 1, 4, 8, 1, 5, 1, 6, 8, 9, 7, 4, 5, 6, 2, 3, 5, 1, 6, 6, 5, 1, 1, 2, 4, 5, 6, 8, 10, 1, 7, 8, 10, 9, 1, 2, 3, 5, 6, 1, 1, 3, 5, 6, 3, 1, 1, 6, 7, 4, 1, 6, 7, 8, 1, 3, 4, 5, 6, 8, 3, 3, 2, 4, 8, 1, 2, 3, 4, 5, 7, 1, 2, 3, 4, 5, 6, 10, 5, 8, 1, 2, 3, 4, 5, 6, 7, 8, 8, 5, 5, 1, 2, 3, 8, 8, 7, 7, 7, 5, 1, 2, 4, 5, 6, 8, 2, 10, 4, 10, 1, 4, 4, 2, 3, 10, 2, 5, 6, 2, 7, 1, 5, 10, 1, 2, 4, 5, 8, 1, 8, 2, 3, 5, 9, 9, 1, 2, 3, 4, 5, 8, 10, 10, 6, 6, 1, 2, 3, 5, 6, 7, 1, 2, 4, 7, 6, 2, 7, 7, 1, 2, 4, 5, 7, 8, 5, 1, 4, 5, 6, 8, 1, 2, 4, 5, 6, 8, 6, 2, 1, 2, 7, 1, 2, 7, 7, 8, 1, 3, 7, 6, 3, 3, 7, 8, 8, 6, 1, 3, 4, 5, 6, 7, 1, 1, 3, 7, 1, 7, 3, 6, 7, 1, 2, 3, 4, 5, 7, 8, 9, 1, 2, 3, 4, 5, 8, 10, 5, 2, 2, 10, 3, 7, 7, 2, 3, 1, 2, 3, 4, 5, 6, 8, 1, 2, 3, 7, 10, 3, 6, 10, 1, 2, 3, 4, 6, 2, 8, 9, 9, 1, 4, 6, 8, 5, 6, 4, 1, 2, 5, 8, 10, 8, 3, 5, 7, 4, 5, 9, 8, 3, 1, 4, 5, 8, 2, 5, 2, 2, 5, 7, 3, 5, 5, 6, 1, 4, 4, 9, 2, 3, 6, 7, 9, 7, 7, 4, 6, 9, 4, 2, 10, 1, 4, 4, 6, 5, 2, 5, 7, 8, 2, 4, 8, 4, 5, 8, 5, 1, 9, 6, 5, 2, 3, 4, 5, 7, 1, 2, 3, 5, 6, 1, 6, 6, 3, 3, 4, 5, 6, 10, 6, 9, 1, 2, 3, 5, 1, 2, 3, 5, 6, 7, 8, 4, 2, 5, 2, 3, 1, 2, 3, 6, 1, 6, 1, 8, 1, 5, 6, 1, 5, 6, 8, 1, 2, 3, 6, 7, 10, 8, 8, 3, 1, 2, 3, 4, 7, 9, 5, 1, 2, 3, 4, 5, 6, 8, 1, 7, 4, 5, 4, 1, 1, 2, 3, 4, 5, 8, 7, 1, 4, 6, 4, 2, 5, 1, 2, 3, 4, 5, 6, 8, 10, 9, 7, 7, 1, 2, 7, 10, 10, 1, 2, 4, 7, 1, 2, 3, 4, 6, 7, 1, 2, 3, 7, 9, 1, 8, 5, 5, 8, 8, 1, 4, 6, 7, 1, 2, 3, 5, 2, 2, 2, 3, 7, 1, 2, 4, 5, 6, 7, 8, 1, 2, 9, 3, 1, 2, 3, 4, 6, 7, 9], \"Freq\": [0.023941188722134365, 0.32383607903097533, 0.6514523457549193, 0.9989960371801986, 0.9955318108167956, 0.9986192713097789, 0.9988183617105619, 0.9979338294828198, 0.9969875482534167, 0.06101397810826248, 0.9086135658825034, 0.028033449401093573, 0.013746286647913327, 0.9684258943454939, 0.0006873143323956663, 0.016495543977495992, 0.09205764460031732, 0.907057491201728, 0.025951728748689586, 0.9713361331652388, 0.19602130365797105, 0.006208819572876912, 0.618221034613601, 0.06386214417816252, 0.015078561819843928, 0.07982768022270315, 0.02040040716802414, 0.09230165797968005, 0.7421053301566276, 0.049227550922496026, 0.11568474466786567, 0.2538075406126236, 0.021283651204412883, 0.2463582626910791, 0.4150311984860512, 0.037778480887832866, 0.024476198885074817, 0.9961883800743293, 0.9987651835405446, 0.9979585660985589, 0.997877552260912, 0.03552394136649184, 0.8238171164515012, 0.1387125329548729, 0.9936037333531611, 0.9947754951648883, 0.5314535840892839, 0.07613520446222888, 0.029856942926364264, 0.3622642408398864, 0.0404640749539726, 0.1199208039545006, 0.15670632663993023, 0.6135825183929663, 0.020599892703840595, 0.04782117949105852, 0.9979456544530374, 0.9966764511134693, 0.003882229955977272, 0.9957919837081702, 0.997628681987187, 0.9972807464430036, 0.5281532626617977, 0.016383529780529236, 0.26989709585819216, 0.1302059472031534, 0.055186626629151116, 0.18303975642130083, 0.5918573255981213, 0.005180370464753797, 0.04057956864057141, 0.13641642223851666, 0.04273805633421882, 0.9991881991061797, 0.9991350309880503, 0.9979525141979295, 0.7174277342431196, 0.0018904551626959672, 0.2712803158468713, 0.008979662022805845, 0.9390893434464709, 0.05889758948444765, 0.9969917088708575, 0.9954728721504988, 0.9943779640785382, 0.9975984006747941, 0.17285361183925482, 0.8223641532958487, 0.9983085761711773, 0.2523352905404989, 0.7466830642812036, 0.9992897940908068, 0.995565345872697, 0.1074490775829778, 0.8913389390406112, 0.9965555716608174, 0.9229808212252713, 0.0043197230322555595, 0.071995383870926, 0.9974499802422687, 0.9201641368661884, 0.07291170191818343, 0.006460530549712456, 0.9993165207087911, 0.993428212857721, 0.15395344544012385, 0.016540452815881075, 0.823205613221158, 0.00636171262149272, 0.9940217426410725, 0.9935083528466244, 0.9936753734531558, 0.024031573738026172, 0.9748460129381922, 0.995864441458625, 0.9987185464427536, 0.9985456277640267, 0.9966242729667676, 0.9987520714419131, 0.17394593684500745, 0.8248404102005192, 0.9968154067405938, 0.9962691552596771, 0.49254311201253764, 0.21524521824169954, 0.2908719165428372, 0.9961318557359804, 0.9955025996524567, 0.9987412152128634, 0.998374376150449, 0.5498300968374707, 0.020322262306107747, 0.4290255375733858, 0.015132210781108593, 0.8562309266977279, 0.12862379163942303, 0.9965338967578431, 0.07296794157358782, 0.015201654494497464, 0.0015201654494497465, 0.6916752794996346, 0.1048914160120325, 0.11097207780983148, 0.025038204797223792, 0.032639088396381015, 0.9165771398983709, 0.0004471107999504248, 0.025038204797223792, 0.009633810008825414, 0.989529913763639, 0.8397584770582068, 0.15931109371843793, 0.994659298009579, 0.8061934454294187, 0.006515891182750629, 0.18659142932422257, 0.9988142932147831, 0.9986465254544656, 0.9971087989778776, 0.14567299708476, 0.0007508917375503093, 0.0075089173755030925, 0.6420124356055145, 0.08184719939298371, 0.1216444614831501, 0.24392538191762053, 0.6168769311044071, 0.1393859325243546, 0.9955601102449602, 0.27007772676898134, 0.04375090900930539, 0.12872863612353316, 0.1026463634449088, 0.02608227267862437, 0.38197909019662785, 0.04627499991368839, 0.997589544016032, 0.9949261516982824, 0.9937258083450666, 0.7771026270883905, 0.22202932202525444, 0.9973421019972143, 0.998056140206948, 0.9895833905477268, 0.9970533489068951, 0.9955296231381316, 0.01471103222240613, 0.9856391589012108, 0.997893296798888, 0.9943181892606588, 0.9959718956706046, 0.9961687134406176, 0.994270021232948, 0.9944197046135514, 0.7243289868807916, 0.04265320586557124, 0.13649025876982798, 0.014734743844470065, 0.04497974436732967, 0.035673590360295944, 0.9988399771802193, 0.9992962119635139, 0.9947697806245538, 0.9989498591661775, 0.9993790183523216, 0.9967396380909261, 0.4007916896544307, 0.1591299440754469, 0.27294831085483434, 0.011867317863253667, 0.06850678948332799, 0.08630776627820849, 0.9977125999367005, 0.07425757295928948, 0.774523755168403, 0.13642670380892716, 0.0138153624110306, 0.9953941945971125, 0.9978875094407006, 0.1782313622761536, 0.821359914265631, 0.9947278440729017, 0.9995304565350455, 0.6622276510426078, 0.2690299832360594, 0.04588805734126766, 0.022494145755523363, 0.7850102370083418, 0.10277072589233074, 0.01976360113314053, 0.09249365330309768, 0.9977193910202601, 0.9980569227548876, 0.8107066756418647, 0.050669167227616545, 0.07795256496556392, 0.02728339773794737, 0.009094465912649124, 0.023385769489669174, 0.9737107811215859, 0.02496694310568169, 0.9991392306925554, 0.9953141206669122, 0.960971883496706, 0.011522444646243477, 0.02534937822173565, 0.9989360658958629, 0.9985177328298978, 0.998407496389128, 0.9982644952852924, 0.5283325889255492, 0.47118747114599135, 0.0686707445153902, 0.9308700923197337, 0.9960148198435934, 0.9973173999790919, 0.7762896831769579, 0.040367063525201814, 0.18320436522976208, 0.9980711656926535, 0.1511241612308965, 0.7614783317835869, 0.017572576887313545, 0.06911880242343328, 0.9983853026377603, 0.9952007183129665, 0.9962783775296331, 0.9380429786456527, 0.0598172334208822, 0.07693296530957193, 0.6154637224765754, 0.3077318612382877, 0.9968827232331382, 0.9976974872513472, 0.9980590849986511, 0.040696057012787085, 0.44765662714065796, 0.5114137831273577, 0.9971213296364528, 0.37768809932258735, 0.23412808197803248, 0.09923947507710841, 0.2890470147876944, 0.9962734880757751, 0.9982194122130268, 0.07359392548718104, 0.7434873497935726, 0.11605195942209318, 0.06651758649802901, 0.2819737303857509, 0.6944129181141626, 0.016834252560343335, 0.9942798936015461, 0.18511291899619406, 0.7521430182371674, 0.03409974823614101, 0.014614177815489005, 0.013639899294456404, 0.03391580668603801, 0.7558379775745613, 0.016150384136208576, 0.07429176702655944, 0.05975642130397173, 0.02745565303155458, 0.03391580668603801, 0.08025607647686298, 0.5338773783026102, 0.23553413748644567, 0.05059622212671796, 0.09595835230929269, 0.003489394629428825, 0.25389265290548885, 0.0392815047891511, 0.21748540456432439, 0.11592834340212886, 0.33916226086242657, 0.03449107737583999, 0.9952998773784886, 0.9969410585063574, 0.04262336126583408, 0.2755295853255703, 0.09590256284812668, 0.060890516094048684, 0.5236584384088188, 0.9965708412820108, 0.08136705411223154, 0.5960381795209251, 0.3215469126362885, 0.9944956996088696, 0.06241661948438808, 0.853547271449007, 0.0827020208168142, 0.990700646783624, 0.9958612100201708, 0.9984522601669159, 0.9992599995893345, 0.195341083865096, 0.0028569079907143835, 0.04035382536884067, 0.7224406081518998, 0.0007142269976785959, 0.03356866889089401, 0.004999588983750172, 0.9962959859222198, 0.996407657842923, 0.1945170078287209, 0.1577315564914843, 0.26808791050319414, 0.3661824474024918, 0.01281917243570367, 0.9987284226999854, 0.9920344008016105, 0.9934910243122754, 0.998383281390184, 0.9980416496982518, 0.996094192346116, 0.9631172360564993, 0.034832449766962, 0.9930186072452987, 0.09417415823290631, 0.7100096648795521, 0.19575527273132212, 0.9918620274118887, 0.43330612954344866, 0.38167816517231434, 0.11493368258812042, 0.0239701263151695, 0.0036877117407953077, 0.04179406639568015, 0.9949726871839005, 0.9963255927520854, 0.9995526413933933, 0.9983086414710631, 0.9997600865108305, 0.9984792848546513, 0.45024916809637255, 0.12750418919543294, 0.4210294580724192, 0.994374505214687, 0.998761466053752, 0.06749589792032286, 0.6188938381887669, 0.21500709418167363, 0.02776040962851989, 0.06912886319258874, 0.0016329652722658758, 0.9953123609422955, 0.9929645320327993, 0.9980186213355455, 0.9967096562288517, 0.694071890486136, 0.010829490489854605, 0.24218678731856663, 0.0019689982708826553, 0.050209455907507715, 0.9972673598155753, 0.03363085758606137, 0.10089257275818411, 0.8625325827954564, 0.9914358560814788, 0.09860928372673368, 0.8998097140064448, 0.055832762741969105, 0.9434597459255187, 0.9961276211085714, 0.2975432814961246, 0.1100910141535661, 0.5891356973623267, 0.014695420602920518, 0.9832572330681365, 0.9959163569228524, 0.9988476971989981, 0.9993727913180793, 0.4294725549551885, 0.026560671637689853, 0.5262614431264312, 0.002701085251290494, 0.014855968882097715, 0.9972881927779845, 0.06029401676423189, 0.9391952611351506, 0.9978941526076643, 0.9953336437398795, 0.003577647917812154, 0.9945861211517789, 0.9846407145232322, 0.012463806512952307, 0.26214456839066624, 0.10866096099094974, 0.05433048049547487, 0.5731865692272599, 0.9985069950388669, 0.9981672474207185, 0.023252250260967843, 0.011161080125264565, 0.01488144016701942, 0.9496219006579267, 0.9986274563090364, 0.9975847692900132, 0.9978041551540049, 0.9979519337266077, 0.9988563473167349, 0.997774975596535, 0.2108339932319126, 0.7843024548227149, 0.9975442061657313, 0.9951614877548359, 0.997667230030912, 0.9991576562514964, 0.0007240272871387655, 0.9989961927319441, 0.2127890660401164, 0.7862375660465318, 0.3403752852906121, 0.43196220944511415, 0.20026096102439628, 0.025972411327396104, 0.9967409758120274, 0.25306550691178414, 0.0031012929768601, 0.48256118719943153, 0.11040602997621955, 0.07381077284927037, 0.07691206582613047, 0.13219880594224845, 0.8666366167325177, 0.002646842590879322, 0.9952128141706251, 0.001323421295439661, 0.9953178308518468, 0.27771800588180906, 0.2225930750660731, 0.4954265934072473, 0.004186703606258428, 0.21590475123119904, 0.7523140710602649, 0.012069209696153983, 0.018774326194017307, 0.3111659030856417, 0.3796794964255995, 0.015986505112656823, 0.09591903067594093, 0.10847985612159985, 0.047959515337970465, 0.03996626278164205, 0.789192747469298, 0.1605632593494873, 0.04962864379893243, 0.9975954981572476, 0.9953171400678811, 0.5412946367944301, 0.24091423271414072, 0.10902131417127255, 0.025158764808755202, 0.07623868123865213, 0.007623868123865213, 0.9938662665333213, 0.03288994176378971, 0.8238147317977804, 0.005481656960631618, 0.07439391589428625, 0.06264750812150421, 0.9975425907783724, 0.8320862146148118, 0.0378776397254907, 0.10141432571663639, 0.026880905611638563, 0.001221859345983571, 0.9979958778315493, 0.9966119713896789, 0.746272973909545, 0.24219107383089267, 0.011588089656980511, 0.058630420606314335, 0.9380867297010294, 0.006426176904544104, 0.7229449017612117, 0.1108515516033858, 0.1606544226136026, 0.9985913910632874, 0.5786840354443644, 0.000826691479206235, 0.41995927143676737, 0.993440347676178, 0.9507429814279573, 0.04787914294960936, 0.9952209651931049, 0.00293143141441268, 0.9967596163628255, 0.9958187099464744, 0.9983279291926697, 0.45164950622422967, 0.07828591441219981, 0.06710221235331412, 0.06796249712707456, 0.009463132511364812, 0.2830336905671839, 0.040433384366740564, 0.05072306294074077, 0.946830508227161, 0.9962534396122117, 0.9940884158819592, 0.9955356615880362, 0.7027351011661497, 0.15158749688496745, 0.13625350153533203, 0.008762283056934534, 0.00043811415284672673, 0.9981255528468815, 0.9924025222566936, 0.00160064922944628, 0.00560227230306198, 0.9986434070199725, 0.9987273147499368, 0.997822066266225, 0.8097084327450811, 0.189367294754898, 0.9975742244626863, 0.9983040047192392, 0.9983561728356057, 0.9944831803990599, 0.9953673241517947, 0.9970370875759114, 0.12133282976980228, 0.6537872968024209, 0.08645427931609764, 0.009647258636131069, 0.00890516181796714, 0.12021968454255638, 0.9951926990342552, 0.9995656246453413, 0.9972991037386044, 0.7715382326545358, 0.2273465992222032, 0.049233533740775964, 0.49496112587393437, 0.1385103415907164, 0.08271233668450363, 0.1260378463763865, 0.10831377422970713, 0.1586673204494755, 0.15385921982979442, 0.3660166596732219, 0.016828352168883766, 0.254829332843097, 0.03365670433776753, 0.016227339591423633, 0.9978227596161829, 0.9981169868988512, 0.26294014415317385, 0.5377850586124954, 0.002587993544814703, 0.10766053146429166, 0.03260871866466526, 0.00828157934340705, 0.002587993544814703, 0.045548686388738775, 0.9978878879006755, 0.9990288866627108, 0.9976959808360277, 0.22916864776884713, 0.46361420519026636, 0.2133379188111307, 0.09423052951021674, 0.9971277823422988, 0.9991751425323407, 0.9983931576953955, 0.9983848180558665, 0.9973508031868369, 0.11472376668466254, 0.2141510311447034, 0.11185567251754598, 0.5095647303577094, 0.03346109861635991, 0.015296502224621672, 0.993729566330801, 0.9957746421298074, 0.9966056651874666, 0.9912396489367423, 0.19736037761774647, 0.8016379383012961, 0.9960864017748712, 0.14979920848796005, 0.8499842728811215, 0.9948998632785334, 0.9967889209409144, 0.9969703680483329, 0.9990501835327452, 0.9384352901767082, 0.061004783732095835, 0.18456618138400868, 0.1514389180586738, 0.6625452665066978, 0.6953732092917467, 0.12656847146371988, 0.021848129002665934, 0.08362559721710064, 0.07232484083641137, 0.9162671341386935, 0.08281898056059928, 0.2405953976132402, 0.19829291012080236, 0.06345373123865676, 0.4970542280361446, 0.996704058187746, 0.06643261176321046, 0.13069422314200227, 0.019539003459767782, 0.3126240553562845, 0.4263844754998214, 0.03430180607381455, 0.009986601768325755, 0.9918476051780069, 0.9971652504460622, 0.9951074599506066, 0.37009170929525215, 0.29445548018245193, 0.25158146795808395, 0.07159151097842582, 0.006876020828436379, 0.005258133574686642, 0.005075367020985534, 0.9617820504767588, 0.020301468083942138, 0.011419575797217453, 0.9954252437759765, 0.9976877194727379, 0.9994390674037765, 0.9996668577802073, 0.09615985042556784, 0.6980492845707887, 0.14008472037304945, 0.00949726917783386, 0.0035614759416876976, 0.05342213912531547, 0.9937619212460965, 0.04709816390121009, 0.7833674199895149, 0.08939039271045997, 0.011534244220704513, 0.06728309128744299, 0.16983404566469457, 0.05955219783047732, 0.17369391033889217, 0.3495934576344687, 0.13619808207525833, 0.11028184783421725, 0.9952002941528574, 0.9963797703234182, 0.333708334467373, 0.6493458204978847, 0.016866125207737264, 0.013164731034011985, 0.8464922054869706, 0.13954614896052703, 0.348600246098543, 0.6508270649637936, 0.07950640866877512, 0.903072792803823, 0.016501330101066535, 0.9976098545169829, 0.999013939607366, 0.9328750014798171, 0.06629568538435249, 0.9946354605167304, 0.9984190071661376, 0.9981311507257091, 0.23274678500857343, 0.008580526636260771, 0.712183710809644, 0.009653092465793368, 0.017161053272521543, 0.019306184931586735, 0.9965160431736658, 0.1153935353973084, 0.7075867483043285, 0.17629567907922117, 0.00041923402403666984, 0.9992442962914027, 0.2050317904138262, 0.7430920958928845, 0.0509616588889857, 0.17504355343032, 0.6435811851686202, 0.003070939533865263, 0.12064405311613534, 0.019741754146276692, 0.021057871089361805, 0.017109520260106467, 0.9932833650151954, 0.34596447665149405, 0.05894617675431507, 0.010467078115252208, 0.2881200975935213, 0.29142549068254836, 0.004407190785369351, 0.9965316614558508, 0.9972717869072559, 0.994078520998643, 0.9951128117651014, 0.9913386288484012, 0.9961463624591568, 0.9978455802431262, 0.9979389460175005, 0.8340323196961075, 0.16532043753441772, 0.16252313541400645, 0.017237302240879472, 0.2782593076027686, 0.07879909595830616, 0.0012312358743485337, 0.35582716768672623, 0.1058862851939739, 0.000595489836467571, 0.1357716827146062, 0.8051022589041561, 0.05776251413735439, 0.9911501771285237, 0.9979495118797044, 0.9955754452780805, 0.9959644831433675, 0.10861074554597376, 0.6123797355251712, 0.24957362806308864, 0.00462173385302016, 0.02426410272835584, 0.995011746422494, 0.9922856510624586, 0.9942360536418875, 0.996545673882749, 0.13035646911377938, 0.8244768131982627, 0.042337998515586464, 0.003342473567019984, 0.9980386095153044, 0.9972626538424871, 0.997895966355992, 0.029745057746799558, 0.21299585993690398, 0.6905102691221326, 0.06427057120290619, 0.0015934852364356906, 0.9914051947667483, 0.9957565259810657, 0.9957754351124967, 0.9974335641007728, 0.017778567515177097, 0.9803610086940514, 0.9985250071639181, 0.9975394663987917, 0.9958283319346313, 0.03836323918033725, 0.16820804871378642, 0.7574280556117868, 0.035412220781849774, 0.04818398934734432, 0.9509997897502169, 0.9979372534322802, 0.8482692532771763, 0.08808949937878369, 0.06198890697025519, 0.008783955696250591, 0.9881950158281915, 0.9977570782076991, 0.9958767082321083, 0.00965732732030406, 0.9891862412368587, 0.9962281011544512, 0.9986785558696337, 0.012004011192167038, 0.15776700423990964, 0.02572288112607222, 0.7819755862325956, 0.02057830490085778, 0.9981643756701222, 0.9977484442671787, 0.9978120384886136, 0.9967132421702631, 0.998347655963375, 0.9988193757302699, 0.9953621060951873, 0.9964800093532872, 0.0004030451328981563, 0.9991488844545294, 0.9991722758346407, 0.9939836804533949, 0.9967765638762567, 0.8580792573834843, 0.09897107928298551, 0.04008328710960913, 0.0029691323784895654, 0.9968480899948625, 0.13187065187935887, 0.8671494381157842, 0.5277052799443985, 0.46797744353278126, 0.003938099104062676, 0.9960619126181012, 0.9974597772405078, 0.9922163393450519, 0.9986397248715755, 0.9958647718587165, 0.06893974210918491, 0.10138197368997781, 0.19059811053715828, 0.5442184347678009, 0.0940824715842994, 0.7183158524754639, 0.09770927642599297, 0.1458005609169114, 0.03740433238182544, 0.998592269077249, 0.04803175345299144, 0.9486271306965809, 0.9987492359506058, 0.9963402616823464, 0.017701094586368784, 0.23129430259521877, 0.08850547293184392, 0.6573006456404942, 0.0047202918896983425, 0.9943918406871542, 0.9933714926352164, 0.49338857441470113, 0.4372666334624561, 0.03512668246651309, 0.03391541755387471, 0.280825069514529, 0.5892526031266399, 0.009000803510081057, 0.043803910415727815, 0.061805517435889926, 0.006600589240726109, 0.00840074994274232, 0.9987724515306589, 0.031344837989421524, 0.9682072178954648, 0.004036753166149719, 0.9955642496016744, 0.4772819390149493, 0.04431903719424529, 0.4111442988943063, 0.06613764012064298, 0.9958360585429917, 0.9980678771359656, 0.15867951065434485, 0.8371712113832677, 0.8759681540229333, 0.027929419403629755, 0.09521392978510144, 0.1429464961303497, 0.16941806948782187, 0.24177370333157913, 0.4447224324055324, 0.45715629402950736, 0.21940972894638872, 0.11697636845844932, 0.008852265721179949, 0.19727906464343886, 0.9974198694106791, 0.9983588684969834, 0.9984586654100893, 0.9987590603068143, 0.501362728042044, 0.007706685828144143, 0.12716031616437837, 0.2080805173598919, 0.1554181642009069, 0.9971030819067204, 0.9969485686164329, 0.2075713573699512, 0.2430628329824299, 0.08281344309578363, 0.04947296600527334, 0.04624646822232073, 0.3161967827293557, 0.05485046231019435, 0.034554479912763995, 0.9643110673329488, 0.34508069455765966, 0.6547425494979642, 0.9981624797718839, 0.9978482497803545, 0.015297028815012336, 0.1287189010043721, 0.004104080901588676, 0.49957857520247606, 0.3339229460838059, 0.018281814925258644, 0.998319138487711, 0.1287953541483053, 0.8616590594428876, 0.009977104898812383, 0.9994556367819947, 0.4065162965742385, 0.5926055004556338, 0.6469885782597975, 0.11737818908922305, 0.051646403199258145, 0.13568918658714185, 0.017841484741561903, 0.013146357177992982, 0.01737197198520501, 0.9945437522248839, 0.9977075930734635, 0.9972053434051966, 0.9977113581577339, 0.7245617724514896, 0.12679831017901066, 0.1311456808137196, 0.017389482538835748, 0.9986742853325725, 0.9981811046821992, 0.14620210603257772, 0.1366150826861792, 0.7166299951432908, 0.4096112273969652, 0.001850653135829662, 0.2183770700279001, 0.024058490765785607, 0.02282472200856583, 0.32324741439158095, 0.4608679881158988, 0.13096608295379858, 0.2988181829420531, 0.10858580295536464, 0.9951433310008091, 0.9961413645233188, 0.9967934564702038, 0.9989594444950336, 0.9975050006400858, 0.995564810842891, 0.9937175394702786, 0.3348399930816167, 0.6133288653763272, 0.04981765750726493, 0.0008166829099551628, 0.3043340301910238, 0.5222431052064413, 0.16324713755392295, 0.008864097966728848, 0.9929438919387353, 0.997692745328261, 0.9482203232738207, 0.03341044763213126, 0.01750071066444971, 0.25946482360970247, 0.2696399147316516, 0.06698601655283168, 0.09072789583737963, 0.25946482360970247, 0.026285652065035216, 0.027133576325197643, 0.09561045823667377, 0.9029876611241412, 0.9963089002490418, 0.9970326337518866, 0.20562213744591248, 0.3556136281170747, 0.04577205114378189, 0.06126412999244653, 0.22393095790342524, 0.10774036653844045, 0.997737297139846], \"Term\": [\"access\", \"access\", \"access\", \"activity\", \"advance\", \"agent\", \"american\", \"amsterdam\", \"apart\", \"arrival\", \"arrival\", \"arrival\", \"arrived\", \"arrived\", \"arrived\", \"arrived\", \"asked\", \"asked\", \"attraction\", \"attraction\", \"available\", \"available\", \"available\", \"available\", \"available\", \"available\", \"available\", \"average\", \"average\", \"average\", \"average\", \"away\", \"away\", \"away\", \"away\", \"away\", \"away\", \"awesome\", \"bag\", \"bali\", \"barcelona\", \"bath\", \"bath\", \"bath\", \"bavaro\", \"beach_beautiful\", \"beautiful\", \"beautiful\", \"beautiful\", \"beautiful\", \"bed\", \"bed\", \"bed\", \"bed\", \"bed\", \"bed\", \"bed_comfortable\", \"bed_hard\", \"bedroom\", \"bedroom\", \"beer\", \"beijing\", \"best\", \"best\", \"best\", \"best\", \"best\", \"better\", \"better\", \"better\", \"better\", \"better\", \"better\", \"block\", \"block_away\", \"boat\", \"booked\", \"booked\", \"booked\", \"booked\", \"booking\", \"booking\", \"boston\", \"bottle_champagne\", \"bottle_water\", \"bottled_water\", \"boutique\", \"boutique\", \"boutique_hotel\", \"breakfast_buffet\", \"breakfast_buffet\", \"breakfast_included\", \"breakfast_lunch\", \"breeze\", \"breeze\", \"breeze_punta\", \"bring\", \"bring\", \"bring\", \"broken\", \"buffet\", \"buffet\", \"buffet\", \"buffet_breakfast\", \"bus\", \"business\", \"business\", \"business\", \"business\", \"business_center\", \"business_traveler\", \"business_trip\", \"called\", \"called\", \"called_desk\", \"cana\", \"card\", \"caribbean\", \"carpet\", \"carte\", \"carte\", \"carte_restaurant\", \"casino\", \"center\", \"center\", \"center\", \"central_location\", \"central_station\", \"centrally_located\", \"centre\", \"chair\", \"chair\", \"chair\", \"charge\", \"charge\", \"charge\", \"charged\", \"cheap\", \"cheap\", \"cheap\", \"cheap\", \"cheap\", \"cheap\", \"check\", \"check\", \"check\", \"check\", \"check\", \"checked\", \"checked\", \"child\", \"child\", \"china\", \"city\", \"city\", \"city\", \"city_centre\", \"clean_comfortable\", \"clean_modern\", \"close\", \"close\", \"close\", \"close\", \"close\", \"close\", \"club\", \"club\", \"club\", \"cocktail\", \"coffee\", \"coffee\", \"coffee\", \"coffee\", \"coffee\", \"coffee\", \"coffee\", \"coffee_maker\", \"coffee_shop\", \"colonial\", \"comfortable\", \"comfortable\", \"completely\", \"condition\", \"conditioning_worked\", \"construction\", \"construction_site\", \"continental\", \"continental\", \"continental_breakfast\", \"conveniently_located\", \"convention\", \"convention_center\", \"cost_euro\", \"couldn__\\u00e7_\\u00e9_\", \"couple\", \"couple\", \"couple\", \"couple\", \"couple\", \"couple\", \"credit\", \"credit_card\", \"curtain\", \"customer\", \"customer_service\", \"darling_harbour\", \"day\", \"day\", \"day\", \"day\", \"day\", \"day\", \"decorated\", \"definitely\", \"definitely\", \"definitely\", \"definitely\", \"definitely_return\", \"definitely_stay\", \"desk\", \"desk\", \"desk_clerk\", \"didn__\\u00e7_\\u00e9_\", \"different\", \"different\", \"different\", \"different\", \"dinner\", \"dinner\", \"dinner\", \"dinner\", \"dinner_reservation\", \"dirty\", \"disappointed\", \"disappointed\", \"disappointed\", \"disappointed\", \"disappointed\", \"disappointed\", \"disappointing\", \"disappointing\", \"distance\", \"doesn__\\u00e7_\\u00e9_\", \"dollar\", \"dollar\", \"dollar\", \"dominican\", \"dominican_republic\", \"don__\\u00e7_\\u00e9_\", \"dont\", \"door\", \"door\", \"double\", \"double\", \"downtown\", \"dream\", \"drink\", \"drink\", \"drink\", \"early_morning\", \"easy\", \"easy\", \"easy\", \"easy\", \"easy_access\", \"easy_walk\", \"easy_walking\", \"eating\", \"eating\", \"english\", \"english\", \"english\", \"english_speaking\", \"enjoyed_stay\", \"entertainment\", \"euro\", \"euro\", \"euro\", \"euro_night\", \"evening\", \"evening\", \"evening\", \"evening\", \"everyday\", \"example\", \"excellent\", \"excellent\", \"excellent\", \"excellent\", \"executive\", \"executive\", \"executive\", \"executive_lounge\", \"expect\", \"expect\", \"expect\", \"expect\", \"expect\", \"expected\", \"expected\", \"expected\", \"expected\", \"expected\", \"expected\", \"expected\", \"experience\", \"experience\", \"experience\", \"experience\", \"experience\", \"experience\", \"extra\", \"extra\", \"extra\", \"extra\", \"extra\", \"extra\", \"extra_charge\", \"extremely_helpful\", \"facility\", \"facility\", \"facility\", \"facility\", \"facility\", \"facing\", \"fantastic\", \"fantastic\", \"fantastic\", \"fast_food\", \"finally\", \"finally\", \"finally\", \"fitness_center\", \"fixed\", \"flat\", \"flat_screen\", \"floor\", \"floor\", \"floor\", \"floor\", \"floor\", \"floor\", \"floor\", \"florence\", \"forbidden_city\", \"free\", \"free\", \"free\", \"free\", \"free\", \"free_internet\", \"free_shuttle\", \"free_wireless\", \"fresh_fruit\", \"friendly_helpful\", \"friendly_staff\", \"fruit\", \"fruit\", \"fully_booked\", \"given\", \"given\", \"given\", \"glass_wine\", \"going\", \"going\", \"going\", \"going\", \"going\", \"going\", \"golf\", \"good_luck\", \"good_value\", \"gorgeous\", \"great_location\", \"great_value\", \"ground\", \"ground\", \"ground\", \"ground_beautiful\", \"ground_floor\", \"guest\", \"guest\", \"guest\", \"guest\", \"guest\", \"guest\", \"guy\", \"half_price\", \"harbour\", \"harbour_view\", \"hard\", \"hard\", \"hard\", \"hard\", \"hard\", \"having_read\", \"hear\", \"hear\", \"hear\", \"high_quality\", \"highly\", \"highly\", \"highly_recommend\", \"highly_recommend\", \"highly_recommended\", \"hilton\", \"hilton\", \"hilton\", \"holiday\", \"holiday\", \"honeymoon\", \"hong\", \"hong_kong\", \"hour\", \"hour\", \"hour\", \"hour\", \"hour\", \"hour_later\", \"husband_stayed\", \"husband_stayed\", \"i__\\u00e7_\\u00e9\", \"iberostar\", \"immediately\", \"immediately\", \"impression\", \"impression\", \"included\", \"included\", \"included\", \"included\", \"inclusive\", \"inclusive_resort\", \"internet\", \"internet\", \"internet\", \"internet\", \"internet_access\", \"internet_connection\", \"island\", \"it__\\u00e7_\\u00e9_\", \"italian\", \"italian_restaurant\", \"japanese\", \"japanese\", \"japanese_restaurant\", \"juan\", \"junior_suite\", \"just_returned\", \"just_returned\", \"kid\", \"king_size\", \"king_size\", \"know\", \"know\", \"know\", \"know\", \"kong\", \"large\", \"large\", \"large\", \"large\", \"large\", \"large\", \"late_night\", \"late_night\", \"later\", \"later\", \"later\", \"learn\", \"left\", \"left\", \"left\", \"left\", \"light\", \"light\", \"light\", \"light\", \"lobby\", \"lobby\", \"lobby\", \"lobby\", \"lobby\", \"lobby\", \"lobby\", \"located\", \"located\", \"located\", \"location_perfect\", \"london\", \"long\", \"long\", \"long\", \"long\", \"long\", \"long\", \"long_weekend\", \"look\", \"look\", \"look\", \"look\", \"look\", \"look_like\", \"looked\", \"looked\", \"looked\", \"looked\", \"looked\", \"looked_like\", \"looking_forward\", \"lot\", \"lot\", \"lot\", \"loud\", \"loud\", \"lounge\", \"lounge\", \"lounge\", \"lounge\", \"lounge_chair\", \"lovely\", \"lovely\", \"lovely\", \"luck\", \"luggage\", \"luggage\", \"lunch\", \"lunch\", \"lunch_dinner\", \"madrid\", \"maid_service\", \"main\", \"main\", \"main\", \"main\", \"main\", \"main\", \"main\", \"main_buffet\", \"main_buffet\", \"main_road\", \"main_shopping\", \"majestic_colonial\", \"make\", \"make\", \"make\", \"make\", \"make\", \"make_reservation\", \"make_sure\", \"make_sure\", \"make_sure\", \"mall\", \"manager\", \"massage\", \"meal\", \"meal\", \"metro\", \"metro_station\", \"mexican\", \"mexican_restaurant\", \"mexico\", \"min_walk\", \"minute\", \"minute\", \"minute\", \"minute\", \"minute\", \"minute\", \"minute_later\", \"minute_walk\", \"missing\", \"modern\", \"modern\", \"money\", \"money\", \"money\", \"money\", \"money\", \"money\", \"morning\", \"morning\", \"morning\", \"morning\", \"morning\", \"morning\", \"morning\", \"museum\", \"musty_smell\", \"need\", \"need\", \"need\", \"need\", \"need\", \"need\", \"need\", \"need\", \"nice_touch\", \"noise\", \"noisy\", \"nothing\", \"nothing\", \"nothing\", \"nothing\", \"nothing_special\", \"ocean\", \"ocean_blue\", \"ocean_view\", \"orchard_road\", \"outside\", \"outside\", \"outside\", \"outside\", \"outside\", \"outside\", \"overpriced\", \"paid_extra\", \"paris\", \"park_plaza\", \"perfect\", \"perfect\", \"perfect_location\", \"phone\", \"phone\", \"phone_call\", \"plate\", \"pleasantly_surprised\", \"pool_area\", \"poor\", \"poor\", \"pressure\", \"pressure\", \"pressure\", \"pretty\", \"pretty\", \"pretty\", \"pretty\", \"pretty\", \"pretty_good\", \"pretty_good\", \"previous\", \"previous\", \"previous\", \"previous\", \"previous_review\", \"price\", \"price\", \"price\", \"price\", \"price\", \"price\", \"price\", \"price_reasonable\", \"princess\", \"probably_best\", \"problem\", \"problem\", \"problem\", \"problem\", \"problem\", \"problem\", \"property\", \"property\", \"property\", \"property\", \"public_area\", \"puerto_rico\", \"punta\", \"punta_cana\", \"quality\", \"quality\", \"quality\", \"quality\", \"quality\", \"quality\", \"queen\", \"quiet\", \"quiet\", \"quiet\", \"quiet\", \"quiet\", \"quite\", \"quite\", \"quite\", \"quite\", \"quite\", \"quite\", \"ramblas\", \"rating\", \"read\", \"read\", \"read\", \"read_review\", \"read_review\", \"read_review\", \"reading_review\", \"reading_review\", \"ready\", \"ready\", \"ready\", \"really_enjoyed\", \"reasonably_priced\", \"received\", \"received\", \"recently_stayed\", \"reception_area\", \"reception_staff\", \"recommend\", \"recommend\", \"recommend\", \"recommend\", \"recommend\", \"recommend\", \"relax\", \"reservation\", \"reservation\", \"reservation\", \"resort\", \"resort\", \"returned\", \"returned\", \"returned\", \"review\", \"review\", \"review\", \"review\", \"review\", \"review\", \"review\", \"review_read\", \"right\", \"right\", \"right\", \"right\", \"right\", \"right\", \"right_middle\", \"right_outside\", \"ritz\", \"ritz_carlton\", \"roof_terrace\", \"room_ready\", \"royal\", \"royal_service\", \"rude\", \"rude\", \"safe\", \"safe\", \"safe\", \"safe\", \"safe\", \"safe\", \"safe\", \"said\", \"said\", \"said\", \"said\", \"sauna\", \"save_money\", \"seafood\", \"seating\", \"second\", \"second\", \"second\", \"second\", \"second\", \"second_floor\", \"separate_shower\", \"serve\", \"service_slow\", \"shopping\", \"shopping\", \"shopping\", \"shopping\", \"shopping_area\", \"shopping_mall\", \"short_walk\", \"shower\", \"shower\", \"shower\", \"shower\", \"shower\", \"shower_bath\", \"shower_curtain\", \"shower_head\", \"sick\", \"singapore\", \"singapore\", \"single_bed\", \"sitting_area\", \"situation\", \"size\", \"size\", \"size\", \"size\", \"sleep\", \"sleep\", \"small_child\", \"smell\", \"smell\", \"smell\", \"smoke\", \"smoke\", \"smoking\", \"soft_drink\", \"spacious\", \"spacious\", \"spacious_clean\", \"spanish\", \"speak\", \"speak\", \"speak\", \"speak\", \"speak\", \"speak_english\", \"speak_spanish\", \"spent_night\", \"spoke_english\", \"spotlessly_clean\", \"square\", \"staff_attentive\", \"staff_courteous\", \"staff_friendly\", \"staff_friendly\", \"staff_helpful\", \"staff_polite\", \"stair\", \"star\", \"star\", \"star\", \"star\", \"star_rating\", \"station\", \"station\", \"street\", \"street\", \"street\", \"street_noise\", \"stuff\", \"stylish\", \"subway\", \"suitcase\", \"suite\", \"suite\", \"suite\", \"suite\", \"suite\", \"sure\", \"sure\", \"sure\", \"sure\", \"swim\", \"swimming\", \"swimming\", \"swimming_pool\", \"sydney\", \"taxi\", \"taxi\", \"taxi\", \"taxi\", \"taxi\", \"taxi_driver\", \"that__\\u00e7_\\u00e9_\", \"thing\", \"thing\", \"thing\", \"thing\", \"think\", \"think\", \"think\", \"think\", \"think\", \"think\", \"think\", \"time_square\", \"tiny\", \"tiny\", \"told\", \"told\", \"took\", \"took\", \"took\", \"took\", \"took_hour\", \"took_minute\", \"touch\", \"touch\", \"tour\", \"tour\", \"tour\", \"tourist\", \"tourist\", \"tourist\", \"tourist\", \"towel\", \"towel\", \"towel\", \"towel\", \"towel\", \"traffic_noise\", \"train\", \"train_station\", \"travel_agent\", \"trip\", \"trip\", \"trip\", \"trip\", \"trip\", \"tropical\", \"twin\", \"used\", \"used\", \"used\", \"used\", \"used\", \"used\", \"used\", \"vacation\", \"vacation\", \"value\", \"value\", \"value_money\", \"variety\", \"view\", \"view\", \"view\", \"view\", \"view\", \"view\", \"villa\", \"walking\", \"walking\", \"walking\", \"walking_distance\", \"wall\", \"wall\", \"want\", \"want\", \"want\", \"want\", \"want\", \"want\", \"want\", \"warning\", \"wasn__\\u00e7_\\u00e9_\", \"waste\", \"waste_money\", \"water\", \"water\", \"water\", \"water\", \"water_pressure\", \"weather\", \"wedding\", \"wedding\", \"wedding\", \"week\", \"week\", \"week\", \"week\", \"week\", \"week\", \"went\", \"went\", \"went\", \"went\", \"weren__\\u00e7_\\u00e9_\", \"white\", \"wife_stayed\", \"window\", \"window_open\", \"wireless\", \"wireless_internet\", \"wonderful\", \"wonderful\", \"wonderful\", \"wonderful\", \"work\", \"work\", \"work\", \"work\", \"worn\", \"worse\", \"worst\", \"worst\", \"worst\", \"worth\", \"worth\", \"worth\", \"worth\", \"worth\", \"worth\", \"worth\", \"worth_money\", \"worth_money\", \"wouldn__\\u00e7_\\u00e9_\", \"write_review\", \"year\", \"year\", \"year\", \"year\", \"year\", \"year\", \"you__\\u00e7_\\u00e9\\u00e8e\"]}, \"R\": 30, \"lambda.step\": 0.01, \"plot.opts\": {\"xlab\": \"PC1\", \"ylab\": \"PC2\"}, \"topic.order\": [4, 5, 9, 10, 6, 7, 1, 2, 3, 8]};\n",
              "\n",
              "function LDAvis_load_lib(url, callback){\n",
              "  var s = document.createElement('script');\n",
              "  s.src = url;\n",
              "  s.async = true;\n",
              "  s.onreadystatechange = s.onload = callback;\n",
              "  s.onerror = function(){console.warn(\"failed to load library \" + url);};\n",
              "  document.getElementsByTagName(\"head\")[0].appendChild(s);\n",
              "}\n",
              "\n",
              "if(typeof(LDAvis) !== \"undefined\"){\n",
              "   // already loaded: just create the visualization\n",
              "   !function(LDAvis){\n",
              "       new LDAvis(\"#\" + \"ldavis_el818419822748748328407397471\", ldavis_el818419822748748328407397471_data);\n",
              "   }(LDAvis);\n",
              "}else if(typeof define === \"function\" && define.amd){\n",
              "   // require.js is available: use it to load d3/LDAvis\n",
              "   require.config({paths: {d3: \"https://cdnjs.cloudflare.com/ajax/libs/d3/3.5.5/d3.min\"}});\n",
              "   require([\"d3\"], function(d3){\n",
              "      window.d3 = d3;\n",
              "      LDAvis_load_lib(\"https://cdn.rawgit.com/bmabey/pyLDAvis/files/ldavis.v1.0.0.js\", function(){\n",
              "        new LDAvis(\"#\" + \"ldavis_el818419822748748328407397471\", ldavis_el818419822748748328407397471_data);\n",
              "      });\n",
              "    });\n",
              "}else{\n",
              "    // require.js not available: dynamically load d3 & LDAvis\n",
              "    LDAvis_load_lib(\"https://cdnjs.cloudflare.com/ajax/libs/d3/3.5.5/d3.min.js\", function(){\n",
              "         LDAvis_load_lib(\"https://cdn.rawgit.com/bmabey/pyLDAvis/files/ldavis.v1.0.0.js\", function(){\n",
              "                 new LDAvis(\"#\" + \"ldavis_el818419822748748328407397471\", ldavis_el818419822748748328407397471_data);\n",
              "            })\n",
              "         });\n",
              "}\n",
              "</script>"
            ]
          },
          "metadata": {
            "tags": []
          },
          "execution_count": 21
        }
      ]
    },
    {
      "cell_type": "code",
      "metadata": {
        "id": "Y3divQs-kp6B"
      },
      "source": [
        "from sklearn.model_selection import train_test_split\n",
        "\n",
        "X = df_subset['Review']\n",
        "y = df_subset['Rating']\n",
        "\n",
        "X_train, X_test, y_train, y_test = train_test_split(X, y, test_size=0.20, random_state=42)"
      ],
      "execution_count": null,
      "outputs": []
    },
    {
      "cell_type": "code",
      "metadata": {
        "id": "X4QKjxufkyD1"
      },
      "source": [
        "xgb = Pipeline([('vect', TfidfVectorizer()),\n",
        "               ('tfidf', TfidfTransformer()),\n",
        "               ('clf', XGBClassifier(objective=\"multi:softmax\",n_estimators=300,learning_rate=0.01))\n",
        "              ])\n",
        "\n",
        "xgb.fit(X_train, y_train)\n",
        "\n",
        "y_pred = xgb.predict(X_test)"
      ],
      "execution_count": null,
      "outputs": []
    },
    {
      "cell_type": "code",
      "metadata": {
        "colab": {
          "base_uri": "https://localhost:8080/",
          "height": 803
        },
        "id": "MZdQFmMkk2_M",
        "outputId": "a98b067a-6728-4578-8382-4c29db72e7e7"
      },
      "source": [
        "print(classification_report(y_pred,y_test,zero_division=0))\n",
        "print(\"\\n\")\n",
        "print(\"Accuracy: %f\" % accuracy_score(y_pred,y_test))\n",
        "print(\"Weighted Precision :%f\" % precision_score(y_pred,y_test,average=\"weighted\"))\n",
        "print(\"MAE (error absoluto promedio):%f\" % mean_absolute_error(y_pred,y_test))\n",
        "print(\"RMSE (error cuadrado promedio):%f\" % mean_squared_error(y_pred,y_test,squared=False))\n",
        "\n",
        "\n",
        "plt.figure(figsize=(8,7))\n",
        "cm=confusion_matrix(y_pred,y_test)\n",
        "g=sns.heatmap(cm,annot=True,fmt='d',linewidths=1,linecolor='black',\n",
        "                  annot_kws={\"size\":14},cmap='Blues',cbar=False)\n",
        "\n",
        "plt.xlabel('Real',size=16)\n",
        "plt.ylabel('Predicho',size=16)\n",
        "plt.title('Matriz de Confusion \\n XGB Classifier',size=16)\n",
        "plt.show()"
      ],
      "execution_count": null,
      "outputs": [
        {
          "output_type": "stream",
          "text": [
            "              precision    recall  f1-score   support\n",
            "\n",
            "           1       0.55      0.53      0.54       288\n",
            "           2       0.35      0.37      0.36       345\n",
            "           3       0.43      0.40      0.41       445\n",
            "           4       0.36      0.44      0.40       362\n",
            "           5       0.62      0.56      0.58       459\n",
            "\n",
            "    accuracy                           0.46      1899\n",
            "   macro avg       0.46      0.46      0.46      1899\n",
            "weighted avg       0.47      0.46      0.46      1899\n",
            "\n",
            "\n",
            "\n",
            "Accuracy: 0.457609\n",
            "Weighted Precision :0.466609\n",
            "MAE (error absoluto promedio):0.712480\n",
            "RMSE (error cuadrado promedio):1.068235\n"
          ],
          "name": "stdout"
        },
        {
          "output_type": "display_data",
          "data": {
            "text/plain": [
              "<Figure size 576x504 with 1 Axes>"
            ],
            "image/png": "[encoded data removed]"
          },
          "metadata": {
            "tags": [],
            "needs_background": "light"
          }
        }
      ]
    },
    {
      "cell_type": "markdown",
      "metadata": {
        "id": "bDEdA-kElv7L"
      },
      "source": [
        "Vemos que este modelo consigue una presicion bastante más balanceada, de forma gráfica notamos que la matriz identidad posee una buena cantidad de predicciones.\\\n",
        "Ademas vemos que las reseñas de 4 estrellas se confunden con las de 5 y las de 2 con las de 3, que en lineas generales es un error menos extremo que los que encontrabamos en el primer modelo con el set desbalanceado (en el que más de 100 reseñas estaban marcadas como posibles 5 estrellas y en realidad eran 1 estrella)."
      ]
    },
    {
      "cell_type": "code",
      "metadata": {
        "colab": {
          "base_uri": "https://localhost:8080/"
        },
        "id": "_XGq42VSlYY0",
        "outputId": "4190c8fd-c8d3-4eef-b26f-387f76d7097b"
      },
      "source": [
        "parameters = {\n",
        "    'vect__max_df': (0.5, 0.75, 1.0),\n",
        "    # 'vect__max_features': (None, 5000, 10000, 50000),\n",
        "    'vect__ngram_range': ((1, 1), (1, 2)),  # unigrams or bigrams\n",
        "    # 'tfidf__use_idf': (True, False),\n",
        "    # 'tfidf__norm': ('l1', 'l2'),\n",
        "    'clf__max_iter': (20,),\n",
        "    'clf__alpha': (0.00001, 0.000001),\n",
        "    'clf__penalty': ('l2', 'elasticnet'),\n",
        "    # 'clf__max_iter': (10, 50, 80),\n",
        "}\n",
        "model = Pipeline([('vect', TfidfVectorizer()),\n",
        "               ('tfidf', TfidfTransformer()),\n",
        "               ('clf', XGBClassifier(objective=\"multi:softmax\",n_estimators=300,learning_rate=0.01))\n",
        "              ])\n",
        "gs = GridSearchCV(model, \n",
        "                  parameters, \n",
        "                  cv=StratifiedKFold(n_splits=3,shuffle=True,random_state=1), #Cross Validation de 3 capas\n",
        "                  verbose=1,\n",
        "                  n_jobs=-1)\n",
        "gs.fit(X_train, y_train)\n",
        "\n",
        "# Mostramos los mejores resultados obtenidos\n",
        "\n",
        "print(gs.best_estimator_)"
      ],
      "execution_count": null,
      "outputs": [
        {
          "output_type": "stream",
          "text": [
            "Fitting 3 folds for each of 24 candidates, totalling 72 fits\n"
          ],
          "name": "stdout"
        },
        {
          "output_type": "stream",
          "text": [
            "[Parallel(n_jobs=-1)]: Using backend LokyBackend with 8 concurrent workers.\n",
            "[Parallel(n_jobs=-1)]: Done  34 tasks      | elapsed: 39.3min\n",
            "[Parallel(n_jobs=-1)]: Done  72 out of  72 | elapsed: 82.9min finished\n"
          ],
          "name": "stderr"
        },
        {
          "output_type": "stream",
          "text": [
            "[22:11:51] WARNING: C:\\Users\\Administrator\\workspace\\xgboost-win64_release_1.2.0\\src\\learner.cc:516: \n",
            "Parameters: { max_iter, penalty } might not be used.\n",
            "\n",
            "  This may not be accurate due to some parameters are only used in language bindings but\n",
            "  passed down to XGBoost core.  Or some parameters are not used but slip through this\n",
            "  verification. Please open an issue if you find above cases.\n",
            "\n",
            "\n",
            "Pipeline(steps=[('vect', TfidfVectorizer(max_df=0.75)),\n",
            "                ('tfidf', TfidfTransformer()),\n",
            "                ('clf',\n",
            "                 XGBClassifier(alpha=1e-05, base_score=0.5, booster='gbtree',\n",
            "                               colsample_bylevel=1, colsample_bynode=1,\n",
            "                               colsample_bytree=1, gamma=0, gpu_id=-1,\n",
            "                               importance_type='gain',\n",
            "                               interaction_constraints='', learning_rate=0.01,\n",
            "                               max_delta_step=0, max_depth=6, max_iter=20,\n",
            "                               min_child_weight=1, missing=nan,\n",
            "                               monotone_constraints='()', n_estimators=300,\n",
            "                               n_jobs=0, num_parallel_tree=1,\n",
            "                               objective='multi:softprob', penalty='l2',\n",
            "                               random_state=0, reg_alpha=9.99999975e-06,\n",
            "                               reg_lambda=1, scale_pos_weight=None, subsample=1,\n",
            "                               tree_method='exact', validate_parameters=1,\n",
            "                               verbosity=None))])\n"
          ],
          "name": "stdout"
        }
      ]
    },
    {
      "cell_type": "code",
      "metadata": {
        "id": "LITA1sFzlsLW"
      },
      "source": [
        "y_pred = gs.best_estimator_.predict(X_test)"
      ],
      "execution_count": null,
      "outputs": []
    },
    {
      "cell_type": "code",
      "metadata": {
        "colab": {
          "base_uri": "https://localhost:8080/",
          "height": 803
        },
        "id": "B2iusqFVl4kf",
        "outputId": "82e53fa0-13c1-4c92-a588-88d495c9e739"
      },
      "source": [
        "print(classification_report(y_pred,y_test,zero_division=0))\n",
        "print(\"\\n\")\n",
        "print(\"Accuracy: %f\" % accuracy_score(y_pred,y_test))\n",
        "print(\"Weighted Precision :%f\" % precision_score(y_pred,y_test,average=\"weighted\"))\n",
        "print(\"MAE (error absoluto promedio):%f\" % mean_absolute_error(y_pred,y_test))\n",
        "print(\"RMSE (error cuadrado promedio):%f\" % mean_squared_error(y_pred,y_test,squared=False))\n",
        "\n",
        "\n",
        "plt.figure(figsize=(8,7))\n",
        "cm=confusion_matrix(y_pred,y_test)\n",
        "g=sns.heatmap(cm,annot=True,fmt='d',linewidths=1,linecolor='black',\n",
        "                  annot_kws={\"size\":14},cmap='Blues',cbar=False)\n",
        "\n",
        "plt.xlabel('Real',size=16)\n",
        "plt.ylabel('Predicho',size=16)\n",
        "plt.title('Matriz de Confusion \\n XGB Classifier',size=16)\n",
        "plt.show()"
      ],
      "execution_count": null,
      "outputs": [
        {
          "output_type": "stream",
          "text": [
            "              precision    recall  f1-score   support\n",
            "\n",
            "           1       0.56      0.54      0.55       288\n",
            "           2       0.35      0.37      0.36       340\n",
            "           3       0.42      0.39      0.40       439\n",
            "           4       0.38      0.44      0.41       376\n",
            "           5       0.62      0.56      0.59       456\n",
            "\n",
            "    accuracy                           0.46      1899\n",
            "   macro avg       0.46      0.46      0.46      1899\n",
            "weighted avg       0.47      0.46      0.46      1899\n",
            "\n",
            "\n",
            "\n",
            "Accuracy: 0.459189\n",
            "Weighted Precision :0.466960\n",
            "MAE (error absoluto promedio):0.714060\n",
            "RMSE (error cuadrado promedio):1.072908\n"
          ],
          "name": "stdout"
        },
        {
          "output_type": "display_data",
          "data": {
            "text/plain": [
              "<Figure size 576x504 with 1 Axes>"
            ],
            "image/png": "[encoded data removed]"
          },
          "metadata": {
            "tags": [],
            "needs_background": "light"
          }
        }
      ]
    },
    {
      "cell_type": "markdown",
      "metadata": {
        "id": "TNMAo1m1gq4U"
      },
      "source": [
        "Cuadro comparativo entre los modelos:\n",
        "<table style=\"width:100%\">\n",
        "  <tr>\n",
        "    <th>Modelo</th>\n",
        "    <th>Accuracy</th>\n",
        "    <th>Weighted Precision</th>\n",
        "    <th>MAE</th>\n",
        "    <th>RMSE</th>\n",
        "  </tr>\n",
        "  <tr>\n",
        "    <td>Modelo Inicial</td>\n",
        "    <td>0.52</td>\n",
        "    <td>0.73</td>\n",
        "    <td>0.735</td>\n",
        "    <td>1.26</td>\n",
        "  </tr>\n",
        "  <tr>\n",
        "    <td>Modelo Gridsearch</td>\n",
        "    <td>0.55</td>\n",
        "    <td>0.68</td>\n",
        "    <td>0.64</td>\n",
        "    <td>1.11</td>\n",
        "  </tr>\n",
        "    <tr>\n",
        "    <td>Modelo Balanceado</td>\n",
        "    <td>0.47</td>\n",
        "    <td>0.49</td>\n",
        "    <td>0.70</td>\n",
        "    <td>1.08</td>\n",
        "  </tr>\n",
        "    <tr>\n",
        "    <td>Modelo Balanceado GS</td>\n",
        "    <td>0.46</td>\n",
        "    <td>0.47</td>\n",
        "    <td>0.71</td>\n",
        "    <td>1.07</td>\n",
        "  </tr>\n",
        "</table>"
      ]
    },
    {
      "cell_type": "markdown",
      "metadata": {
        "id": "-dlaAkrnf-jr"
      },
      "source": [
        "# Conclusión\n",
        "En conclusión aun con un set de datos de menos de 20000 registros y considerablemente desbalanceado logramos obtener predicciones mejores que el azar.\\\n",
        "Estudiamos 3 posibles formas de afrontar el problema, utilizando la biblioteca genism, la biblioteca keras y utilizando la biblioteca genism con una entrada balanceada por nosotros.\\\n",
        "Notamos que en este caso nuestro objetivo era predecir el valor exacto de la reseña, pero sabemos que podriamos haber obtenido mejores resultados si separabamos las reseñas en solo dos categorias \"detractores\" 1 a 3 estrellas y \"promotores\" 4 o 5 estrellas, el cual podria ser un estudio similar al realizado. O, si el caso de negocio priorizara reconocer las reseñas negativas para mitigar los detractores se podria haber realizado una función de ganancia para esto al igual que la estudiamos durante el cuatrimestre."
      ]
    }
  ]
}